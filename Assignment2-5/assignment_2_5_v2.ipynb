{
  "nbformat": 4,
  "nbformat_minor": 0,
  "metadata": {
    "colab": {
      "name": "assignment_2_5_v2.ipynb",
      "provenance": [],
      "collapsed_sections": [],
      "authorship_tag": "ABX9TyMfaDfVoyG33aVxhXPkpjT7"
    },
    "kernelspec": {
      "name": "python3",
      "display_name": "Python 3"
    },
    "language_info": {
      "name": "python"
    },
    "accelerator": "GPU"
  },
  "cells": [
    {
      "cell_type": "markdown",
      "metadata": {
        "id": "AbRlM4mUoqUP"
      },
      "source": [
        "###Importing Libraries"
      ]
    },
    {
      "cell_type": "code",
      "metadata": {
        "id": "Ku8UAkCO6hi0"
      },
      "source": [
        "import torch\n",
        "from torch.utils.data import Dataset # extending Dataset class for custom dataset\n",
        "from torchvision import datasets # downloading MNIST\n",
        "from torchvision.utils import make_grid # for vizualizing dataset loader\n",
        "import torchvision.transforms  # to convert to tensor, normalization etc\n",
        "import matplotlib.pyplot as plt # to plot pictures and check\n",
        "import random # to generate random numbers\n",
        "import torch.optim as optim # optimizer\n",
        "import torch.nn as nn # to create network\n",
        "import torch.nn.functional as F # to use in network to not include params\n",
        "import numpy as np # for image plotting funtions"
      ],
      "execution_count": 125,
      "outputs": []
    },
    {
      "cell_type": "code",
      "metadata": {
        "id": "Ei8K-nlEGKA7"
      },
      "source": [
        "use_cuda = torch.cuda.is_available() # checking GPU\n",
        "device = torch.device(\"cuda\" if use_cuda else \"cpu\") # selecting GPU or CPU as per availability"
      ],
      "execution_count": 126,
      "outputs": []
    },
    {
      "cell_type": "markdown",
      "metadata": {
        "id": "AIyauPRmBccJ"
      },
      "source": [
        "###Dataset and Dataloader\n",
        "\n",
        "- The dataset is based on MNIST: a new dataset class inherited from MNIST is created which not only includes the MNIST image but also a random number between 0 to 9. Further the dataset includes not only the MNIST label but also the sum of the label and the random number (integer).\n",
        "\n",
        "- Dataloaders - both test and train is created based on the new dataset class created "
      ]
    },
    {
      "cell_type": "code",
      "metadata": {
        "id": "dW5StUisRpWQ"
      },
      "source": [
        "class MNISTCombined(datasets.MNIST):\n",
        "  '''\n",
        "  The dataset object MNISTCombined extends MNIST\n",
        "  It would return MNIST Image, random number, MNIST Label and Sum of MNIST Label and Random Number as output\n",
        "  '''\n",
        "  # def __init__(self):\n",
        "  #  no change from super, it is ok not to write this here also\n",
        "\n",
        "  def __getitem__(self,index):\n",
        "    image,label  = super(MNISTCombined,self).__getitem__(index) # this gets super class' get item \n",
        "    random_number = torch.tensor(random.randint(0,9)) # random number between 0 and 9\n",
        "    return (image, random_number,label, label+ random_number) # outputs image, random number, label, sum of label and random number\n",
        "  \n",
        "  # def __len__(self):\n",
        "  # no change from super, it is ok not to write this here also"
      ],
      "execution_count": 127,
      "outputs": []
    },
    {
      "cell_type": "code",
      "metadata": {
        "id": "oZEYsqCK0veM"
      },
      "source": [
        "# creating training and test loaders\n",
        "\n",
        "batch_size_train = 32\n",
        "batch_size_test = 1000 # this can be high as we just need the forward pass here\n",
        "\n",
        "train_loader = torch.utils.data.DataLoader(\n",
        "    MNISTCombined(\n",
        "        root ='./', #arbit directory\n",
        "        train=True, #train\n",
        "        download=True,\n",
        "        transform=torchvision.transforms.Compose([\n",
        "                                       torchvision.transforms.ToTensor(),#changing to tensor\n",
        "                                       torchvision.transforms.Normalize(\n",
        "                                           (0.1307,), (0.3081,))#normalizing\n",
        "                                   ])),\n",
        "                                   batch_size=batch_size_train, \n",
        "                                   shuffle=True# shuffling the dataset\n",
        "                                   )\n",
        "\n",
        "test_loader = torch.utils.data.DataLoader(\n",
        "    MNISTCombined(\n",
        "        root ='./', #arbit directory\n",
        "        train=True, #train\n",
        "        download=True,\n",
        "        transform=torchvision.transforms.Compose([\n",
        "                                       torchvision.transforms.ToTensor(),#changing to tensor\n",
        "                                       torchvision.transforms.Normalize(\n",
        "                                           (0.1307,), (0.3081,))#normalizing\n",
        "                                   ])),\n",
        "                                   batch_size=batch_size_test, \n",
        "                                   shuffle=True# shuffling the dataset\n",
        "                                   )"
      ],
      "execution_count": 128,
      "outputs": []
    },
    {
      "cell_type": "code",
      "metadata": {
        "colab": {
          "base_uri": "https://localhost:8080/",
          "height": 514
        },
        "id": "LTrfgra7yLGi",
        "outputId": "722ef134-06d3-4d9f-cb31-8186d4abf85c"
      },
      "source": [
        "# visualizing the data set batch\n",
        "img, number, label, sum_label_number = next(iter(train_loader))\n",
        "grid = make_grid(img, nrow=10)\n",
        "plt.figure(figsize=(15,15))\n",
        "plt.imshow(np.transpose(grid, (1,2,0)))\n",
        "print (f'label:  {label}, \\nrandom number: {number}, \\nsum of label and random number: {sum_label_number}')"
      ],
      "execution_count": 129,
      "outputs": [
        {
          "output_type": "stream",
          "name": "stderr",
          "text": [
            "Clipping input data to the valid range for imshow with RGB data ([0..1] for floats or [0..255] for integers).\n"
          ]
        },
        {
          "output_type": "stream",
          "name": "stdout",
          "text": [
            "label:  tensor([8, 7, 0, 4, 6, 9, 3, 0, 0, 1, 0, 9, 3, 8, 6, 9, 4, 3, 8, 2, 3, 5, 0, 5,\n",
            "        3, 1, 7, 7, 2, 2, 1, 1]), \n",
            "random number: tensor([6, 0, 8, 1, 8, 3, 4, 9, 8, 3, 1, 6, 7, 9, 5, 8, 6, 7, 2, 0, 9, 7, 8, 6,\n",
            "        9, 2, 1, 4, 1, 4, 7, 7]), \n",
            "sum of label and random number: tensor([14,  7,  8,  5, 14, 12,  7,  9,  8,  4,  1, 15, 10, 17, 11, 17, 10, 10,\n",
            "        10,  2, 12, 12,  8, 11, 12,  3,  8, 11,  3,  6,  8,  8])\n"
          ]
        },
        {
          "output_type": "display_data",
          "data": {
            "image/png": "[encoded data removed]",
            "text/plain": [
              "<Figure size 1080x1080 with 1 Axes>"
            ]
          },
          "metadata": {
            "needs_background": "light"
          }
        }
      ]
    },
    {
      "cell_type": "code",
      "metadata": {
        "colab": {
          "base_uri": "https://localhost:8080/"
        },
        "id": "_L1LsTxruw6T",
        "outputId": "8c1e3c58-ef8e-4efa-9b50-63f3a320f6d1"
      },
      "source": [
        "img, number, label, sum_label_number = next(iter(train_loader))\n",
        "print(img.shape,number.shape,label.shape,sum_label_number.shape)"
      ],
      "execution_count": 130,
      "outputs": [
        {
          "output_type": "stream",
          "name": "stdout",
          "text": [
            "torch.Size([32, 1, 28, 28]) torch.Size([32]) torch.Size([32]) torch.Size([32])\n"
          ]
        }
      ]
    },
    {
      "cell_type": "code",
      "metadata": {
        "colab": {
          "base_uri": "https://localhost:8080/"
        },
        "id": "HuaVdHokrM-I",
        "outputId": "e9a7d4a8-786a-42bc-b904-f2db109ac869"
      },
      "source": [
        "number_one_hot = F.one_hot(number, num_classes=10) # checking how would one hot encoding would look like, actual encoding is done in NN forward function\n",
        "print (f'number_one_hot\\n{number_one_hot}')"
      ],
      "execution_count": 131,
      "outputs": [
        {
          "output_type": "stream",
          "name": "stdout",
          "text": [
            "number_one_hot\n",
            "tensor([[0, 0, 0, 0, 0, 1, 0, 0, 0, 0],\n",
            "        [0, 0, 0, 0, 0, 0, 1, 0, 0, 0],\n",
            "        [0, 1, 0, 0, 0, 0, 0, 0, 0, 0],\n",
            "        [0, 0, 0, 0, 0, 0, 0, 0, 1, 0],\n",
            "        [0, 0, 0, 0, 0, 1, 0, 0, 0, 0],\n",
            "        [0, 0, 0, 0, 0, 0, 0, 0, 1, 0],\n",
            "        [0, 0, 0, 0, 0, 1, 0, 0, 0, 0],\n",
            "        [0, 0, 0, 0, 1, 0, 0, 0, 0, 0],\n",
            "        [0, 0, 0, 0, 0, 0, 1, 0, 0, 0],\n",
            "        [1, 0, 0, 0, 0, 0, 0, 0, 0, 0],\n",
            "        [0, 0, 0, 0, 0, 0, 1, 0, 0, 0],\n",
            "        [0, 0, 0, 0, 0, 0, 0, 0, 1, 0],\n",
            "        [0, 0, 1, 0, 0, 0, 0, 0, 0, 0],\n",
            "        [1, 0, 0, 0, 0, 0, 0, 0, 0, 0],\n",
            "        [0, 0, 0, 1, 0, 0, 0, 0, 0, 0],\n",
            "        [0, 1, 0, 0, 0, 0, 0, 0, 0, 0],\n",
            "        [0, 0, 0, 0, 0, 0, 0, 1, 0, 0],\n",
            "        [0, 0, 0, 0, 0, 0, 0, 0, 0, 1],\n",
            "        [0, 0, 0, 0, 0, 1, 0, 0, 0, 0],\n",
            "        [0, 0, 0, 0, 0, 0, 0, 0, 0, 1],\n",
            "        [0, 0, 0, 0, 0, 1, 0, 0, 0, 0],\n",
            "        [0, 0, 0, 0, 0, 1, 0, 0, 0, 0],\n",
            "        [0, 0, 0, 0, 0, 0, 0, 1, 0, 0],\n",
            "        [0, 0, 0, 0, 0, 0, 0, 0, 1, 0],\n",
            "        [1, 0, 0, 0, 0, 0, 0, 0, 0, 0],\n",
            "        [0, 1, 0, 0, 0, 0, 0, 0, 0, 0],\n",
            "        [0, 1, 0, 0, 0, 0, 0, 0, 0, 0],\n",
            "        [0, 0, 0, 0, 0, 0, 1, 0, 0, 0],\n",
            "        [1, 0, 0, 0, 0, 0, 0, 0, 0, 0],\n",
            "        [0, 0, 0, 1, 0, 0, 0, 0, 0, 0],\n",
            "        [1, 0, 0, 0, 0, 0, 0, 0, 0, 0],\n",
            "        [0, 1, 0, 0, 0, 0, 0, 0, 0, 0]])\n"
          ]
        }
      ]
    },
    {
      "cell_type": "markdown",
      "metadata": {
        "id": "fT8SRITkifsn"
      },
      "source": [
        "### Network\n",
        "\n",
        "- It uses CNN to understand the image representation\n",
        "- The image representation and one hot encoding of random number is concatenated\n",
        "- Two separate heads are used - one for label prediction (classes 10) and one for sum prediction (classes 19), both taking the conctenated tensor"
      ]
    },
    {
      "cell_type": "code",
      "metadata": {
        "id": "9i8nMQzngvML",
        "colab": {
          "base_uri": "https://localhost:8080/"
        },
        "outputId": "32b965ff-4be1-4c32-8ba6-5b2416ee9fb6"
      },
      "source": [
        "class Network(nn.Module):\n",
        "  def __init__(self):\n",
        "    super(Network,self).__init__()\n",
        "    \n",
        "    # self.conv1= nn.Conv2d(in_channels=1,out_channels=6,kernel_size=5) # Input- 1x28x28 Output-6x24x24, \n",
        "    # self.conv2= nn.Conv2d(in_channels=6,out_channels=12,kernel_size=5) # Input- 6x24x24 Output-12x20x20\n",
        "\n",
        "    self.conv1= nn.Conv2d(in_channels=1,out_channels=3,kernel_size=3) \n",
        "    self.conv2= nn.Conv2d(in_channels=3,out_channels=6,kernel_size=3) \n",
        "    self.conv3= nn.Conv2d(in_channels=6,out_channels=12,kernel_size=3) \n",
        "    self.conv4= nn.Conv2d(in_channels=12,out_channels=24,kernel_size=3)\n",
        "\n",
        "    # A dense network head for label understanding\n",
        "    self.label_fc1 = nn.Linear(in_features=((24*4*4)+10), out_features=120) # input features to include flattened image and random number on hot encoding\n",
        "    self.label_fc2 = nn.Linear(in_features=120, out_features=60) \n",
        "    self.label_out = nn.Linear(in_features=60, out_features=10) # output would include one hot encoding for image label\n",
        "\n",
        "    # A dense network head for sum of image label and random number understanding\n",
        "    self.sum_fc1 = nn.Linear(in_features=((24*4*4)+10), out_features=120) # input features to include flattened image and random number on hot encoding\n",
        "    self.sum_fc2 = nn.Linear(in_features=120, out_features=60) \n",
        "    self.sum_out = nn.Linear(in_features=60, out_features=19) # output would include one hot encoding for sum of image label and random number\n",
        "\n",
        "  def forward(self,img,random_number):\n",
        "    # The network takes in two inputs - image and random number\n",
        "    x = img\n",
        "    one_hot_random_number= F.one_hot(random_number.long(),num_classes=10) # TODO : .long is used as per stackoverflow, read about this\n",
        "\n",
        "    # conv1 layer\n",
        "    x = F.relu(self.conv1(x)) # Input- 1x28x28 Output-3x26x26\n",
        "\n",
        "    # conv2 layer\n",
        "    x = F.relu(self.conv2(x)) # Input- 3x26x26 Output-6x24x24\n",
        "    x = F.max_pool2d(x,kernel_size=2, stride= 2) # Input- 6x24x24 Output-6x12x12\n",
        "\n",
        "    # conv3 layer\n",
        "    x = F.relu(self.conv3(x)) # Input- 6x12x12 Output-12x10x10\n",
        "\n",
        "    # conv4 layer\n",
        "    x = F.relu(self.conv4(x)) # Input- 12x10x10 Output-24x8x8\n",
        "    x = F.max_pool2d(x,kernel_size=2, stride= 2) # Input- 24x8x8 Output-24x4x4\n",
        "\n",
        "    # reshape\n",
        "    x = x.reshape(-1, 24 * 4 * 4) # representation of image, flattened\n",
        "\n",
        "    # concatenating image representation and one hot random number\n",
        "    x_combined = torch.cat((x,one_hot_random_number),dim=1)\n",
        "\n",
        "    # label fc1 layer\n",
        "    img_label = F.relu(self.label_fc1(x_combined))\n",
        "    # label fc2 layer\n",
        "    img_label = F.relu(self.label_fc2(img_label))\n",
        "    # label fc out layer\n",
        "    img_label = self.label_out(img_label)\n",
        "\n",
        "    # sum fc1 layer\n",
        "    sum_label_number = F.relu(self.sum_fc1(x_combined))\n",
        "    # sum fc2 layer\n",
        "    sum_label_number = F.relu(self.sum_fc2(sum_label_number))\n",
        "    # sum fc out layer\n",
        "    sum_label_number = self.sum_out(sum_label_number)\n",
        "\n",
        "    pred_label_one_hot = F.softmax(img_label, dim=1)\n",
        "    pred_sum_label_number_one_hot = F.softmax(sum_label_number, dim=1)\n",
        "\n",
        "    return pred_label_one_hot,pred_sum_label_number_one_hot\n",
        "\n",
        "model = Network()\n",
        "print(model)"
      ],
      "execution_count": 132,
      "outputs": [
        {
          "output_type": "stream",
          "name": "stdout",
          "text": [
            "Network(\n",
            "  (conv1): Conv2d(1, 3, kernel_size=(3, 3), stride=(1, 1))\n",
            "  (conv2): Conv2d(3, 6, kernel_size=(3, 3), stride=(1, 1))\n",
            "  (conv3): Conv2d(6, 12, kernel_size=(3, 3), stride=(1, 1))\n",
            "  (conv4): Conv2d(12, 24, kernel_size=(3, 3), stride=(1, 1))\n",
            "  (label_fc1): Linear(in_features=394, out_features=120, bias=True)\n",
            "  (label_fc2): Linear(in_features=120, out_features=60, bias=True)\n",
            "  (label_out): Linear(in_features=60, out_features=10, bias=True)\n",
            "  (sum_fc1): Linear(in_features=394, out_features=120, bias=True)\n",
            "  (sum_fc2): Linear(in_features=120, out_features=60, bias=True)\n",
            "  (sum_out): Linear(in_features=60, out_features=19, bias=True)\n",
            ")\n"
          ]
        }
      ]
    },
    {
      "cell_type": "markdown",
      "metadata": {
        "id": "4zIzbWpADEyK"
      },
      "source": [
        "## Training and Testing"
      ]
    },
    {
      "cell_type": "code",
      "metadata": {
        "id": "dPIf32s724O3"
      },
      "source": [
        "optimizer = optim.Adam(model.parameters(), lr=0.001)\n",
        "loss_func = F.nll_loss #F.cross_entropy # global"
      ],
      "execution_count": 133,
      "outputs": []
    },
    {
      "cell_type": "code",
      "metadata": {
        "id": "vrIFxRaxvk-m"
      },
      "source": [
        "def train(model, device, train_loader, optimizer, epoch):\n",
        "  '''\n",
        "  Train function takes in model, train_loader (data), optimizer and epoch and then trains the model\n",
        "  This is a single epoch train function, it is expected that it would be inside a loop\n",
        "    model - network\n",
        "    device - GPU or CPU\n",
        "    train_loader - custom train loader\n",
        "    optimizer - optimizer object\n",
        "    epoch - epoch number, in a loop typically executed\n",
        "  '''\n",
        "  model.train() # training mode on, enables gradient\n",
        "\n",
        "\n",
        "  for batch_idx,(images, numbers, labels, sums_label_number) in enumerate(train_loader):\n",
        "    optimizer.zero_grad() # setting gradients to zero, to remove accumulated gradients\n",
        "    images, numbers, labels, sums_label_number = images.to(device), numbers.to(device), labels.to(device), sums_label_number.to(device) # sending tensors to GPU\n",
        "\n",
        "    pred_labels, pred_sums_label_numbers= model(images,numbers) # Pass Batch, model takes two inputs and provides two outputs\n",
        "\n",
        "    loss_label = loss_func(pred_labels,labels) # image label related loss calculation\n",
        "    loss_sum = loss_func(pred_sums_label_numbers,sums_label_number) # sum of image label and random number loss calculation\n",
        "    loss = 0.5*(loss_label + loss_sum) # overall loss \n",
        "\n",
        "    loss.backward() # Calculate Gradients\n",
        "    optimizer.step() # Update Weights\n",
        "\n",
        "    # print for some batches\n",
        "    if (batch_idx % 100 == 0):\n",
        "      print (f'Inside Training epoch - {epoch}, processing step {(batch_idx+1)*len(images[0])} , Training loss: {loss.item()}')\n",
        "\n",
        "  # print for each epoch\n",
        "  print(\n",
        "    \"After completion of epoch\", epoch, \n",
        "    \"  Training loss:\", loss.item()\n",
        "    )"
      ],
      "execution_count": 134,
      "outputs": []
    },
    {
      "cell_type": "code",
      "metadata": {
        "id": "QHVYbt4fClk8"
      },
      "source": [
        "def test(model, device, test_loader):\n",
        "  '''\n",
        "  Test function takes in model, test_loader (data), and evaluates the model\n",
        "    model - network\n",
        "    device - GPU or CPU\n",
        "    test_loader - custom test data loader\n",
        "  '''\n",
        "\n",
        "  model.eval() # evaluation mode on, no updates to params\n",
        "  total_loss = 0\n",
        "  total_correct_label = 0\n",
        "  total_correct_sum = 0\n",
        "  with torch.no_grad():\n",
        "    for (images, numbers, labels, sums_label_number) in (test_loader):\n",
        "      images, numbers, labels, sums_label_number = images.to(device), numbers.to(device), labels.to(device), sums_label_number.to(device) # sending tensors to GPU\n",
        "      pred_labels, pred_sums_label_numbers= model(images,numbers) # Pass Batch, model takes two inputs and provides two outputs in one hot encoding\n",
        "\n",
        "      # predictions are in one hot encoding and ground truth are not\n",
        "      loss_label = loss_func(pred_labels,labels) # image label related loss calculation\n",
        "      loss_sum = loss_func(pred_sums_label_numbers,sums_label_number) # sum of image label and random number loss calculation\n",
        "      loss= 0.5*(loss_label + loss_sum) # overall loss \n",
        "\n",
        "      total_loss += loss.item() # aggregating loss\n",
        "\n",
        "      # converting predictions to numbers from one hot encoding and checking the correct label\n",
        "\n",
        "      total_correct_label +=  pred_labels.argmax(dim=1).eq(labels).sum().item() # checking correct label \n",
        "      total_correct_sum += pred_sums_label_numbers.argmax(dim=1).eq(sums_label_number).sum().item() # checking correct sum \n",
        "\n",
        "  # print for each epoch\n",
        "  print(\n",
        "    \"Testing...\\n\"\n",
        "    \"Test loss:\", total_loss,\n",
        "    \"total_correct_label:\", total_correct_label, \n",
        "    \"accuracy_labels:\", round(100.*total_correct_label/len(train_loader.dataset),3), \"% \",\n",
        "    \"total_correct_sum:\",total_correct_sum,\n",
        "    \"accuracy_correct_sum:\",  round(100.*total_correct_sum/len(train_loader.dataset),3),\"% \"\n",
        "    )"
      ],
      "execution_count": 135,
      "outputs": []
    },
    {
      "cell_type": "code",
      "metadata": {
        "colab": {
          "base_uri": "https://localhost:8080/"
        },
        "id": "zQLgG-gx8Fmv",
        "outputId": "74772152-17e4-4495-eb49-ce4d92187a0c"
      },
      "source": [
        "n_epochs = 5\n",
        "model = model.to(device)\n",
        "\n",
        "for epoch in range(1, n_epochs + 1):\n",
        "    train(model, device, train_loader, optimizer, epoch)\n",
        "    test(model,device,test_loader)"
      ],
      "execution_count": 138,
      "outputs": [
        {
          "output_type": "stream",
          "name": "stdout",
          "text": [
            "Inside Training epoch - 1, processing step 1 , Training loss: -0.109375\n",
            "Inside Training epoch - 1, processing step 101 , Training loss: -0.125\n",
            "Inside Training epoch - 1, processing step 201 , Training loss: -0.0625\n",
            "Inside Training epoch - 1, processing step 301 , Training loss: -0.015625\n",
            "Inside Training epoch - 1, processing step 401 , Training loss: -0.125\n",
            "Inside Training epoch - 1, processing step 501 , Training loss: -0.109375\n",
            "Inside Training epoch - 1, processing step 601 , Training loss: -0.109375\n",
            "Inside Training epoch - 1, processing step 701 , Training loss: -0.125\n",
            "Inside Training epoch - 1, processing step 801 , Training loss: -0.078125\n",
            "Inside Training epoch - 1, processing step 901 , Training loss: -0.140625\n",
            "Inside Training epoch - 1, processing step 1001 , Training loss: -0.140625\n",
            "Inside Training epoch - 1, processing step 1101 , Training loss: -0.15625\n",
            "Inside Training epoch - 1, processing step 1201 , Training loss: -0.0625\n",
            "Inside Training epoch - 1, processing step 1301 , Training loss: -0.125\n",
            "Inside Training epoch - 1, processing step 1401 , Training loss: -0.125\n",
            "Inside Training epoch - 1, processing step 1501 , Training loss: -0.0625\n",
            "Inside Training epoch - 1, processing step 1601 , Training loss: -0.125\n",
            "Inside Training epoch - 1, processing step 1701 , Training loss: -0.046875\n",
            "Inside Training epoch - 1, processing step 1801 , Training loss: -0.09375\n",
            "After completion of epoch 1   Training loss: -0.09375\n",
            "Testing...\n",
            "Test loss: -5.917500011622906 total_correct_label: 5918 accuracy_labels: 9.863 %  total_correct_sum: 5917 accuracy_correct_sum: 9.862 % \n",
            "Inside Training epoch - 2, processing step 1 , Training loss: -0.1875\n",
            "Inside Training epoch - 2, processing step 101 , Training loss: -0.109375\n",
            "Inside Training epoch - 2, processing step 201 , Training loss: -0.15625\n",
            "Inside Training epoch - 2, processing step 301 , Training loss: -0.109375\n",
            "Inside Training epoch - 2, processing step 401 , Training loss: -0.140625\n",
            "Inside Training epoch - 2, processing step 501 , Training loss: -0.140625\n",
            "Inside Training epoch - 2, processing step 601 , Training loss: -0.09375\n",
            "Inside Training epoch - 2, processing step 701 , Training loss: -0.140625\n",
            "Inside Training epoch - 2, processing step 801 , Training loss: -0.109375\n",
            "Inside Training epoch - 2, processing step 901 , Training loss: -0.046875\n",
            "Inside Training epoch - 2, processing step 1001 , Training loss: -0.0625\n",
            "Inside Training epoch - 2, processing step 1101 , Training loss: -0.046875\n",
            "Inside Training epoch - 2, processing step 1201 , Training loss: -0.09375\n",
            "Inside Training epoch - 2, processing step 1301 , Training loss: -0.078125\n",
            "Inside Training epoch - 2, processing step 1401 , Training loss: -0.046875\n",
            "Inside Training epoch - 2, processing step 1501 , Training loss: -0.140625\n",
            "Inside Training epoch - 2, processing step 1601 , Training loss: -0.09375\n",
            "Inside Training epoch - 2, processing step 1701 , Training loss: -0.21875\n",
            "Inside Training epoch - 2, processing step 1801 , Training loss: -0.15625\n",
            "After completion of epoch 2   Training loss: -0.109375\n",
            "Testing...\n",
            "Test loss: -5.905499994754791 total_correct_label: 5918 accuracy_labels: 9.863 %  total_correct_sum: 5893 accuracy_correct_sum: 9.822 % \n",
            "Inside Training epoch - 3, processing step 1 , Training loss: -0.125\n",
            "Inside Training epoch - 3, processing step 101 , Training loss: -0.078125\n",
            "Inside Training epoch - 3, processing step 201 , Training loss: -0.109375\n",
            "Inside Training epoch - 3, processing step 301 , Training loss: -0.25\n",
            "Inside Training epoch - 3, processing step 401 , Training loss: -0.078125\n",
            "Inside Training epoch - 3, processing step 501 , Training loss: -0.0625\n",
            "Inside Training epoch - 3, processing step 601 , Training loss: -0.078125\n",
            "Inside Training epoch - 3, processing step 701 , Training loss: -0.09375\n",
            "Inside Training epoch - 3, processing step 801 , Training loss: -0.125\n",
            "Inside Training epoch - 3, processing step 901 , Training loss: -0.09375\n",
            "Inside Training epoch - 3, processing step 1001 , Training loss: -0.0625\n",
            "Inside Training epoch - 3, processing step 1101 , Training loss: -0.078125\n",
            "Inside Training epoch - 3, processing step 1201 , Training loss: -0.109375\n",
            "Inside Training epoch - 3, processing step 1301 , Training loss: -0.125\n",
            "Inside Training epoch - 3, processing step 1401 , Training loss: -0.0625\n",
            "Inside Training epoch - 3, processing step 1501 , Training loss: -0.140625\n",
            "Inside Training epoch - 3, processing step 1601 , Training loss: -0.15625\n",
            "Inside Training epoch - 3, processing step 1701 , Training loss: -0.078125\n",
            "Inside Training epoch - 3, processing step 1801 , Training loss: -0.09375\n",
            "After completion of epoch 3   Training loss: -0.09375\n",
            "Testing...\n",
            "Test loss: -5.936000011861324 total_correct_label: 5918 accuracy_labels: 9.863 %  total_correct_sum: 5954 accuracy_correct_sum: 9.923 % \n",
            "Inside Training epoch - 4, processing step 1 , Training loss: -0.09375\n",
            "Inside Training epoch - 4, processing step 101 , Training loss: -0.109375\n",
            "Inside Training epoch - 4, processing step 201 , Training loss: -0.140625\n",
            "Inside Training epoch - 4, processing step 301 , Training loss: -0.03125\n",
            "Inside Training epoch - 4, processing step 401 , Training loss: -0.09375\n",
            "Inside Training epoch - 4, processing step 501 , Training loss: -0.125\n",
            "Inside Training epoch - 4, processing step 601 , Training loss: -0.109375\n",
            "Inside Training epoch - 4, processing step 701 , Training loss: -0.15625\n",
            "Inside Training epoch - 4, processing step 801 , Training loss: -0.125\n",
            "Inside Training epoch - 4, processing step 901 , Training loss: -0.140625\n",
            "Inside Training epoch - 4, processing step 1001 , Training loss: -0.0625\n",
            "Inside Training epoch - 4, processing step 1101 , Training loss: -0.0625\n",
            "Inside Training epoch - 4, processing step 1201 , Training loss: -0.078125\n",
            "Inside Training epoch - 4, processing step 1301 , Training loss: -0.078125\n",
            "Inside Training epoch - 4, processing step 1401 , Training loss: -0.109375\n",
            "Inside Training epoch - 4, processing step 1501 , Training loss: -0.0625\n",
            "Inside Training epoch - 4, processing step 1601 , Training loss: -0.046875\n",
            "Inside Training epoch - 4, processing step 1701 , Training loss: -0.09375\n",
            "Inside Training epoch - 4, processing step 1801 , Training loss: -0.125\n",
            "After completion of epoch 4   Training loss: -0.140625\n",
            "Testing...\n",
            "Test loss: -5.998000018298626 total_correct_label: 5918 accuracy_labels: 9.863 %  total_correct_sum: 6078 accuracy_correct_sum: 10.13 % \n",
            "Inside Training epoch - 5, processing step 1 , Training loss: -0.1875\n",
            "Inside Training epoch - 5, processing step 101 , Training loss: -0.109375\n",
            "Inside Training epoch - 5, processing step 201 , Training loss: -0.0625\n",
            "Inside Training epoch - 5, processing step 301 , Training loss: -0.109375\n",
            "Inside Training epoch - 5, processing step 401 , Training loss: -0.109375\n",
            "Inside Training epoch - 5, processing step 501 , Training loss: -0.0625\n",
            "Inside Training epoch - 5, processing step 601 , Training loss: -0.078125\n",
            "Inside Training epoch - 5, processing step 701 , Training loss: -0.1875\n",
            "Inside Training epoch - 5, processing step 801 , Training loss: -0.15625\n",
            "Inside Training epoch - 5, processing step 901 , Training loss: -0.109375\n",
            "Inside Training epoch - 5, processing step 1001 , Training loss: -0.125\n",
            "Inside Training epoch - 5, processing step 1101 , Training loss: -0.125\n",
            "Inside Training epoch - 5, processing step 1201 , Training loss: -0.0625\n",
            "Inside Training epoch - 5, processing step 1301 , Training loss: -0.0625\n",
            "Inside Training epoch - 5, processing step 1401 , Training loss: -0.1875\n",
            "Inside Training epoch - 5, processing step 1501 , Training loss: -0.09375\n",
            "Inside Training epoch - 5, processing step 1601 , Training loss: -0.109375\n",
            "Inside Training epoch - 5, processing step 1701 , Training loss: -0.0625\n",
            "Inside Training epoch - 5, processing step 1801 , Training loss: -0.09375\n",
            "After completion of epoch 5   Training loss: -0.0625\n",
            "Testing...\n",
            "Test loss: -5.9285000041127205 total_correct_label: 5918 accuracy_labels: 9.863 %  total_correct_sum: 5939 accuracy_correct_sum: 9.898 % \n"
          ]
        }
      ]
    },
    {
      "cell_type": "markdown",
      "metadata": {
        "id": "KAnto4LUGZBt"
      },
      "source": [
        "### Sample Prediction"
      ]
    },
    {
      "cell_type": "code",
      "metadata": {
        "id": "3E3GPBbyEvFd"
      },
      "source": [
        "def sample_results(model, device, test_loader, num_samples = 1):\n",
        "  for i in range(num_samples):\n",
        "    images, numbers, labels, sums_label_number = next(iter(test_loader))\n",
        "    images, numbers, labels, sums_label_number = images.to(device), numbers.to(device), labels.to(device), sums_label_number.to(device) # sending tensors to GPU\n",
        "    output, output_sum = model(images[i].unsqueeze(dim=0), numbers[i].unsqueeze(dim=0))\n",
        "    print(f\"Image Predicted:{torch.argmax(output.squeeze()).item()}, Image Actual:{labels[i].item()},Random Input Number:{numbers[i].item()},Sum Precicted:{torch.argmax(output_sum.squeeze()).item()}, Sum Actual:{sums_label_number[i]}\")"
      ],
      "execution_count": 139,
      "outputs": []
    },
    {
      "cell_type": "code",
      "metadata": {
        "colab": {
          "base_uri": "https://localhost:8080/"
        },
        "id": "TfM4YX1OF8P4",
        "outputId": "1bb0cb45-98e0-46ac-c060-4ec215d4fd52"
      },
      "source": [
        "sample_results(model, device, test_loader, num_samples = 1)"
      ],
      "execution_count": 141,
      "outputs": [
        {
          "output_type": "stream",
          "name": "stdout",
          "text": [
            "Image Predicted:6, Image Actual:6,Random Input Number:2,Sum Precicted:9, Sum Actual:8\n"
          ]
        }
      ]
    },
    {
      "cell_type": "code",
      "metadata": {
        "id": "leGmC-1dF8Li"
      },
      "source": [
        ""
      ],
      "execution_count": null,
      "outputs": []
    }
  ]
}