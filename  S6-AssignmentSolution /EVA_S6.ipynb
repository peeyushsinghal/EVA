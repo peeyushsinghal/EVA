{
  "nbformat": 4,
  "nbformat_minor": 0,
  "metadata": {
    "colab": {
      "name": "EVA_S6.ipynb",
      "provenance": [],
      "collapsed_sections": [],
      "authorship_tag": "ABX9TyN5NJzLyix+ekwJcEHsiE0P",
      "include_colab_link": true
    },
    "kernelspec": {
      "name": "python3",
      "display_name": "Python 3"
    },
    "language_info": {
      "name": "python"
    },
    "accelerator": "GPU"
  },
  "cells": [
    {
      "cell_type": "markdown",
      "metadata": {
        "id": "view-in-github",
        "colab_type": "text"
      },
      "source": [
        "<a href=\"https://colab.research.google.com/github/peeyushsinghal/EVA/blob/main/%20S6-AssignmentSolution%20/EVA_S6.ipynb\" target=\"_parent\"><img src=\"https://colab.research.google.com/assets/colab-badge.svg\" alt=\"Open In Colab\"/></a>"
      ]
    },
    {
      "cell_type": "markdown",
      "metadata": {
        "id": "P9zJUsfthCOd"
      },
      "source": [
        "### Importing Libraries"
      ]
    },
    {
      "cell_type": "code",
      "metadata": {
        "colab": {
          "base_uri": "https://localhost:8080/"
        },
        "id": "kI-gD7_Xg3qk",
        "outputId": "a95baf4c-c266-439b-dc87-192f8a176885"
      },
      "source": [
        "# import torch\n",
        "import torch\n",
        "from torchvision import datasets,transforms\n",
        "%matplotlib inline\n",
        "import matplotlib.pyplot as plt # for visualizing images\n",
        "import random # for random image index\n",
        "import torch.nn as nn # for network\n",
        "import torch.nn.functional as F # for forward method\n",
        "import torch.optim as optim # for optimizer\n",
        "!pip install torchsummary\n",
        "from torchsummary import summary # for model summary and params\n",
        "from tqdm import tqdm # for beautiful model training updates"
      ],
      "execution_count": 8,
      "outputs": [
        {
          "output_type": "stream",
          "name": "stdout",
          "text": [
            "Requirement already satisfied: torchsummary in /usr/local/lib/python3.7/dist-packages (1.5.1)\n"
          ]
        }
      ]
    },
    {
      "cell_type": "markdown",
      "metadata": {
        "id": "0INCUzGmhGNa"
      },
      "source": [
        "Seed and Cuda"
      ]
    },
    {
      "cell_type": "code",
      "metadata": {
        "colab": {
          "base_uri": "https://localhost:8080/"
        },
        "id": "7J3pr8HzhAWm",
        "outputId": "ac0fcf3e-da1d-4aed-d923-09d347a252cc"
      },
      "source": [
        "# check for cuda\n",
        "cuda = torch.cuda.is_available()\n",
        "print (f' Cuda Status : {cuda}')\n",
        "\n",
        "# setting seed\n",
        "SEED = 42 # arbit seed, why 42 - because in hitch hikers guide to galaxy it is answer to everything\n",
        "# torch.cuda.seed(SEED) \n",
        "torch.cuda.manual_seed_all(SEED) if cuda else torch.manual_seed(SEED)"
      ],
      "execution_count": 3,
      "outputs": [
        {
          "output_type": "stream",
          "name": "stdout",
          "text": [
            " Cuda Status : True\n"
          ]
        }
      ]
    },
    {
      "cell_type": "markdown",
      "metadata": {
        "id": "44OF4A2Vim_K"
      },
      "source": [
        "### Downloading dataset, splitting datasets\n",
        "loading dataset"
      ]
    },
    {
      "cell_type": "code",
      "metadata": {
        "colab": {
          "base_uri": "https://localhost:8080/"
        },
        "id": "SzR4-_gpimYO",
        "outputId": "5c82e343-7e44-495e-c464-a593188a7c1c"
      },
      "source": [
        "train = datasets.MNIST(\n",
        "    root = './',# directory where data needs to be stored\n",
        "    train = True, # get the training portion of the dataset\n",
        "    download = True, # downloads\n",
        "    transform = transforms.Compose([\n",
        "                  transforms.RandomRotation((-7.0, 7.0), fill=(1,)), #random rotation\n",
        "                  transforms.ToTensor(),# converts to tesnor\n",
        "                  transforms.Normalize((0.1307,), (0.3081,))# Normalize\n",
        "                ])\n",
        "    )\n",
        "\n",
        "test = datasets.MNIST(\n",
        "    root = './',# directory where data needs to be stored\n",
        "    train = False, # get the test portion of the dataset\n",
        "    download = True, # downloads\n",
        "    transform = transforms.Compose([\n",
        "                  transforms.ToTensor(),# converts to tesnor\n",
        "                  transforms.Normalize((0.1307,), (0.3081,))# Normalize\n",
        "                ])\n",
        "    )"
      ],
      "execution_count": 4,
      "outputs": [
        {
          "output_type": "stream",
          "name": "stderr",
          "text": [
            "/usr/local/lib/python3.7/dist-packages/torchvision/datasets/mnist.py:498: UserWarning: The given NumPy array is not writeable, and PyTorch does not support non-writeable tensors. This means you can write to the underlying (supposedly non-writeable) NumPy array using the tensor. You may want to copy the array to protect its data or make it writeable before converting it to a tensor. This type of warning will be suppressed for the rest of this program. (Triggered internally at  /pytorch/torch/csrc/utils/tensor_numpy.cpp:180.)\n",
            "  return torch.from_numpy(parsed.astype(m[2], copy=False)).view(*s)\n"
          ]
        }
      ]
    },
    {
      "cell_type": "markdown",
      "metadata": {
        "id": "xLuDGGQymAJI"
      },
      "source": [
        "Train and Test Dataloader"
      ]
    },
    {
      "cell_type": "code",
      "metadata": {
        "id": "NuFFPtkZl6J0",
        "colab": {
          "base_uri": "https://localhost:8080/"
        },
        "outputId": "26d2cc9c-4ed6-4b24-b6b3-3d79ff9bb8f6"
      },
      "source": [
        "dataloader_args = dict(shuffle=True, batch_size=128, num_workers=4, pin_memory = True) if cuda else dict(shuffle=True, batch_size=64)\n",
        "\n",
        "train_loader = torch.utils.data.DataLoader(\n",
        "    dataset=train,# train dataset\n",
        "    **dataloader_args # the dataloader arguments change dependent on cuda is available or not\n",
        "    )\n",
        "\n",
        "test_loader = torch.utils.data.DataLoader(\n",
        "    dataset = test,# test dataset \n",
        "    **dataloader_args # the dataloader arguments change dependent on cuda is available or not\n",
        ")"
      ],
      "execution_count": 5,
      "outputs": [
        {
          "output_type": "stream",
          "name": "stderr",
          "text": [
            "/usr/local/lib/python3.7/dist-packages/torch/utils/data/dataloader.py:481: UserWarning: This DataLoader will create 4 worker processes in total. Our suggested max number of worker in current system is 2, which is smaller than what this DataLoader is going to create. Please be aware that excessive worker creation might get DataLoader running slow or even freeze, lower the worker number to avoid potential slowness/freeze if necessary.\n",
            "  cpuset_checked))\n"
          ]
        }
      ]
    },
    {
      "cell_type": "markdown",
      "metadata": {
        "id": "O2MxbyBRouUE"
      },
      "source": [
        "Checking Dataloaders\n",
        "- sample data"
      ]
    },
    {
      "cell_type": "code",
      "metadata": {
        "colab": {
          "base_uri": "https://localhost:8080/",
          "height": 371
        },
        "id": "ILUePRUDoz8i",
        "outputId": "6de4a129-3d33-4f2d-c540-1cd0dfa68493"
      },
      "source": [
        "images, labels  = next(iter(train_loader))\n",
        "print(images.shape)\n",
        "print(labels.shape)\n",
        "# printing random image and seeing\n",
        "plt.imshow(images[random.randint(0,len(images))].numpy().squeeze(), cmap='gray_r')"
      ],
      "execution_count": 6,
      "outputs": [
        {
          "output_type": "stream",
          "name": "stderr",
          "text": [
            "/usr/local/lib/python3.7/dist-packages/torch/utils/data/dataloader.py:481: UserWarning: This DataLoader will create 4 worker processes in total. Our suggested max number of worker in current system is 2, which is smaller than what this DataLoader is going to create. Please be aware that excessive worker creation might get DataLoader running slow or even freeze, lower the worker number to avoid potential slowness/freeze if necessary.\n",
            "  cpuset_checked))\n"
          ]
        },
        {
          "output_type": "stream",
          "name": "stdout",
          "text": [
            "torch.Size([128, 1, 28, 28])\n",
            "torch.Size([128])\n"
          ]
        },
        {
          "output_type": "execute_result",
          "data": {
            "text/plain": [
              "<matplotlib.image.AxesImage at 0x7f92758038d0>"
            ]
          },
          "metadata": {},
          "execution_count": 6
        },
        {
          "output_type": "display_data",
          "data": {
            "image/png": "[encoded data removed]",
            "text/plain": [
              "<Figure size 432x288 with 1 Axes>"
            ]
          },
          "metadata": {
            "needs_background": "light"
          }
        }
      ]
    },
    {
      "cell_type": "code",
      "metadata": {
        "colab": {
          "base_uri": "https://localhost:8080/",
          "height": 243
        },
        "id": "-1Qj8PftiVDT",
        "outputId": "de05136d-956d-4276-c664-1b5de20c778f"
      },
      "source": [
        "# Looking at more images\n",
        "figure = plt.figure()\n",
        "for index in range(1, len(images) + 1): # assumption: batch size would be atleast 8\n",
        "    plt.subplot(8, int(len(images)/8), index)\n",
        "    plt.axis('off')\n",
        "    plt.imshow(images[index-1].numpy().squeeze(), cmap='gray_r')"
      ],
      "execution_count": 7,
      "outputs": [
        {
          "output_type": "display_data",
          "data": {
            "image/png": "[encoded data removed]",
            "text/plain": [
              "<Figure size 432x288 with 128 Axes>"
            ]
          },
          "metadata": {
            "needs_background": "light"
          }
        }
      ]
    },
    {
      "cell_type": "markdown",
      "metadata": {
        "id": "2Eh0KmZyoJy7"
      },
      "source": [
        "### Network"
      ]
    },
    {
      "cell_type": "code",
      "metadata": {
        "id": "am-kBBVf8T3C"
      },
      "source": [
        "import torch.nn as nn # for network\n"
      ],
      "execution_count": 9,
      "outputs": []
    },
    {
      "cell_type": "code",
      "metadata": {
        "id": "-mCXT71boJY5"
      },
      "source": [
        "drop_out_value = 0.1\n",
        "\n",
        "class Network(nn.Module):\n",
        "  def __init__(self, mode = None):\n",
        "    super(Network,self).__init__() # extending super class method\n",
        "    self.mode = mode\n",
        "    print (\"mode :\", mode)\n",
        "\n",
        "    # Input Block\n",
        "    self.convblock1 = nn.Sequential(\n",
        "        nn.Conv2d(1,12,3), # In- 1x28x28, Out- 12x26x26, RF- 3x3, Jump_in -1, Jump_out -1\n",
        "        nn.ReLU()\n",
        "        # ,\n",
        "        # nn.BatchNorm2d(12),\n",
        "        # nn.Dropout(drop_out_value)\n",
        "    ) \n",
        "\n",
        "    if mode ==\"BN\":\n",
        "      self.norm1 = nn.BatchNorm2d(12) # BatchNorm\n",
        "    if mode == \"LN\":\n",
        "      self.norm1 = nn.LayerNorm([12,26,26]) # Layer Norm\n",
        "    if mode == \"GN\":\n",
        "      self.norm1 = nn.GroupNorm(2,12) # Group Norm\n",
        "\n",
        "    self.dropout1 = nn.Dropout(drop_out_value) # drop out\n",
        "    ###---------------------------------------------------\n",
        "\n",
        "    # Conv Block 2\n",
        "    self.convblock2 = nn.Sequential(\n",
        "        nn.Conv2d(12,12,3), # In- 12x26x26, Out- 12x24x24, RF- 5x5, Jump_in -1, Jump_out -1\n",
        "        nn.ReLU()\n",
        "        # ,\n",
        "        # nn.BatchNorm2d(12),\n",
        "        # nn.Dropout(drop_out_value)\n",
        "    ) \n",
        "\n",
        "    if mode ==\"BN\":\n",
        "      self.norm2 = nn.BatchNorm2d(12) # BatchNorm\n",
        "    if mode == \"LN\":\n",
        "      self.norm2 = nn.LayerNorm([12,24,24]) # Layer Norm\n",
        "    if mode == \"GN\":\n",
        "      self.norm2 = nn.GroupNorm(2,12) # Group Norm\n",
        "\n",
        "    self.dropout2 = nn.Dropout(drop_out_value) # drop out\n",
        "    ###---------------------------------------------------\n",
        "\n",
        "\n",
        "    # Conv Block 3\n",
        "    self.convblock3 = nn.Sequential(\n",
        "        nn.Conv2d(12,12,3), # In- 12x24x24, Out- 12x22x22, RF- 7x7, Jump_in -1, Jump_out -1\n",
        "        nn.ReLU()\n",
        "        # ,\n",
        "        # nn.BatchNorm2d(12),\n",
        "        # nn.Dropout(drop_out_value)\n",
        "    ) \n",
        "\n",
        "    if mode ==\"BN\":\n",
        "      self.norm3 = nn.BatchNorm2d(12) # BatchNorm\n",
        "    if mode == \"LN\":\n",
        "      self.norm3 = nn.LayerNorm([12,22,22]) # Layer Norm\n",
        "    if mode == \"GN\":\n",
        "      self.norm3 = nn.GroupNorm(2,12) # Group Norm\n",
        "\n",
        "    self.dropout3 = nn.Dropout(drop_out_value) # drop out\n",
        "    ###---------------------------------------------------\n",
        "\n",
        "    self.convblock3_1 = nn.Sequential(\n",
        "        nn.Conv2d(12,12,3), # In- 12x22x22, Out- 12x20x20, RF- 7x7, Jump_in -1, Jump_out -1\n",
        "        nn.ReLU()\n",
        "        # ,\n",
        "        # nn.BatchNorm2d(12),\n",
        "        # nn.Dropout(drop_out_value)\n",
        "    ) \n",
        "\n",
        "    if mode ==\"BN\":\n",
        "      self.norm3_1 = nn.BatchNorm2d(12) # BatchNorm\n",
        "    if mode == \"LN\":\n",
        "      self.norm3_1 = nn.LayerNorm([12,20,20]) # Layer Norm\n",
        "    if mode == \"GN\":\n",
        "      self.norm3_1 = nn.GroupNorm(2,12) # Group Norm\n",
        "\n",
        "    self.dropout3_1 = nn.Dropout(drop_out_value) # drop out\n",
        "    ###---------------------------------------------------\n",
        "\n",
        "    self.convblock3_2 = nn.Sequential(\n",
        "        nn.Conv2d(12,12,3), # In- 12x20x20, Out- 12x18x18, RF- 7x7, Jump_in -1, Jump_out -1\n",
        "        nn.ReLU()\n",
        "        # ,\n",
        "        # nn.BatchNorm2d(12),\n",
        "        # nn.Dropout(drop_out_value)\n",
        "    )\n",
        "\n",
        "    if mode ==\"BN\":\n",
        "      self.norm3_2 = nn.BatchNorm2d(12) # BatchNorm\n",
        "    if mode == \"LN\":\n",
        "      self.norm3_2 = nn.LayerNorm([12,18,18]) # Layer Norm\n",
        "    if mode == \"GN\":\n",
        "      self.norm3_2 = nn.GroupNorm(2,12) # Group Norm\n",
        "\n",
        "    self.dropout3_2 = nn.Dropout(drop_out_value) # drop out\n",
        "    ###---------------------------------------------------\n",
        "    \n",
        "\n",
        "    #### Transition Block 1 \n",
        "    self.pool1 = nn.MaxPool2d(kernel_size=2, stride=2) # In- 12x18x18 Out- 12x9x9 RF- 8x8, Jump_in -1, Jump_out -2\n",
        "\n",
        "\n",
        "    # Conv Block 5\n",
        "    self.convblock5 = nn.Sequential(\n",
        "        nn.Conv2d(12,16,3), # In- 12x9x9 Out- 16x7x7 RF- 12x12, Jump_in -2, Jump_out -2\n",
        "        nn.ReLU()\n",
        "        # ,\n",
        "        # nn.BatchNorm2d(16),\n",
        "        # nn.Dropout(drop_out_value)\n",
        "    ) \n",
        "\n",
        "    if mode ==\"BN\":\n",
        "      self.norm5 = nn.BatchNorm2d(16) # BatchNorm\n",
        "    if mode == \"LN\":\n",
        "      self.norm5 = nn.LayerNorm([16,7,7]) # Layer Norm\n",
        "    if mode == \"GN\":\n",
        "      self.norm5 = nn.GroupNorm(2,16) # Group Norm\n",
        "\n",
        "    self.dropout5 = nn.Dropout(drop_out_value) # drop out\n",
        "    ###---------------------------------------------------\n",
        "\n",
        "    # Conv Block 6\n",
        "    self.convblock6 = nn.Sequential(\n",
        "        nn.Conv2d(16,16,3), # In- 16x7x7 Out- 16x5x5 RF- 16x16, Jump_in -2, Jump_out -2\n",
        "        nn.ReLU()\n",
        "        # ,\n",
        "        # nn.BatchNorm2d(16),\n",
        "        # nn.Dropout(drop_out_value)\n",
        "    ) \n",
        "\n",
        "    if mode ==\"BN\":\n",
        "      self.norm6 = nn.BatchNorm2d(16) # BatchNorm\n",
        "    if mode == \"LN\":\n",
        "      self.norm6 = nn.LayerNorm([16,5,5]) # Layer Norm\n",
        "    if mode == \"GN\":\n",
        "      self.norm6 = nn.GroupNorm(2,16) # Group Norm\n",
        "\n",
        "    self.dropout6 = nn.Dropout(drop_out_value) # drop out\n",
        "    ###---------------------------------------------------\n",
        "\n",
        "    # Output Block\n",
        "    self.convblock7 = nn.Sequential(\n",
        "        nn.Conv2d(16,10,1), # In- 16x5x5 Out- 10x5x5, RF- 16x16, Jump_in -2, Jump_out -2\n",
        "        nn.ReLU()\n",
        "        # ,\n",
        "        # nn.BatchNorm2d(10),\n",
        "        # nn.Dropout(drop_out_value)\n",
        "    ) \n",
        "\n",
        "    if mode ==\"BN\":\n",
        "      self.norm7 = nn.BatchNorm2d(10) # BatchNorm\n",
        "    if mode == \"LN\":\n",
        "      self.norm7 = nn.LayerNorm([10,5,5]) # Layer Norm\n",
        "    if mode == \"GN\":\n",
        "      self.norm7 = nn.GroupNorm(2,10) # Group Norm\n",
        "\n",
        "    self.dropout7 = nn.Dropout(drop_out_value) # drop out\n",
        "    ###---------------------------------------------------\n",
        "\n",
        "    self.gap = nn.AvgPool2d(5) # In- 10x5x5, Out- 10x1x1, RF- 16x16, Jump_in -2, Jump_out -2\n",
        "\n",
        "  \n",
        "  def forward(self,x):\n",
        "\n",
        "    x = self.convblock1(x)\n",
        "    if mode: \n",
        "      x = self.norm1(x)\n",
        "    x = self.dropout1(x)\n",
        "\n",
        "\n",
        "    x = self.convblock2(x)\n",
        "    if mode: \n",
        "      x = self.norm2(x)\n",
        "    x = self.dropout2(x)\n",
        "  \n",
        "\n",
        "    x = self.convblock3(x)\n",
        "    if mode: \n",
        "      x = self.norm3(x)\n",
        "    x = self.dropout3(x)\n",
        "\n",
        "    x = self.convblock3_1(x)\n",
        "    if mode: \n",
        "      x = self.norm3_1(x)\n",
        "    x = self.dropout3_1(x)\n",
        "\n",
        "    x = self.convblock3_2(x)\n",
        "    if mode: \n",
        "      x = self.norm3_2(x)\n",
        "    x = self.dropout3_2(x)\n",
        "\n",
        "    x = self.pool1(x)\n",
        "\n",
        "    x = self.convblock5(x)\n",
        "    if mode: \n",
        "      x = self.norm5(x)\n",
        "    x = self.dropout5(x)\n",
        "\n",
        "\n",
        "    x = self.convblock6(x)\n",
        "    if mode: \n",
        "      x = self.norm6(x)\n",
        "    x = self.dropout6(x)\n",
        "\n",
        "    x = self.convblock7(x)\n",
        "    if mode: \n",
        "      x = self.norm7(x)\n",
        "    x = self.dropout7(x)\n",
        "\n",
        "\n",
        "    x = self.gap(x)\n",
        "\n",
        "    # Flattening\n",
        "    x = x.view(-1,10)\n",
        "    return F.log_softmax(x,dim=-1)\n",
        "\n",
        "# model = Network(mode=\"GN\")\n",
        "# print(model)"
      ],
      "execution_count": 11,
      "outputs": []
    },
    {
      "cell_type": "markdown",
      "metadata": {
        "id": "4jXc4bV5zuSP"
      },
      "source": [
        "### Model Params\n",
        "  - Checking the model summary and number of parameters"
      ]
    },
    {
      "cell_type": "code",
      "metadata": {
        "colab": {
          "base_uri": "https://localhost:8080/"
        },
        "id": "Z7ozo1mBzstB",
        "outputId": "fca359c3-1db5-4853-ae53-9b1eb65eaf3d"
      },
      "source": [
        "device = torch.device(\"cuda\" if cuda else \"cpu\")\n",
        "print(device)\n",
        "# mode = 'BN'\n",
        "# mode = 'LN'\n",
        "# mode ='GN'\n",
        "# lambda_l1 = 0.01 \n",
        "lambda_l1 = 0.001 \n",
        "\n",
        "list_mode = ['BN','LN','GN']\n",
        "for mode in list_mode:\n",
        "  # mode = None\n",
        "  print (f'------------Normalization : {mode}-------------')\n",
        "  model = Network(mode=mode).to(device)\n",
        "  # print(model)\n",
        "  summary(model, input_size=(1, 28, 28))"
      ],
      "execution_count": 12,
      "outputs": [
        {
          "output_type": "stream",
          "name": "stdout",
          "text": [
            "cuda\n",
            "------------Normalization : BN-------------\n",
            "mode : BN\n",
            "----------------------------------------------------------------\n",
            "        Layer (type)               Output Shape         Param #\n",
            "================================================================\n",
            "            Conv2d-1           [-1, 12, 26, 26]             120\n",
            "              ReLU-2           [-1, 12, 26, 26]               0\n",
            "       BatchNorm2d-3           [-1, 12, 26, 26]              24\n",
            "           Dropout-4           [-1, 12, 26, 26]               0\n",
            "            Conv2d-5           [-1, 12, 24, 24]           1,308\n",
            "              ReLU-6           [-1, 12, 24, 24]               0\n",
            "       BatchNorm2d-7           [-1, 12, 24, 24]              24\n",
            "           Dropout-8           [-1, 12, 24, 24]               0\n",
            "            Conv2d-9           [-1, 12, 22, 22]           1,308\n",
            "             ReLU-10           [-1, 12, 22, 22]               0\n",
            "      BatchNorm2d-11           [-1, 12, 22, 22]              24\n",
            "          Dropout-12           [-1, 12, 22, 22]               0\n",
            "           Conv2d-13           [-1, 12, 20, 20]           1,308\n",
            "             ReLU-14           [-1, 12, 20, 20]               0\n",
            "      BatchNorm2d-15           [-1, 12, 20, 20]              24\n",
            "          Dropout-16           [-1, 12, 20, 20]               0\n",
            "           Conv2d-17           [-1, 12, 18, 18]           1,308\n",
            "             ReLU-18           [-1, 12, 18, 18]               0\n",
            "      BatchNorm2d-19           [-1, 12, 18, 18]              24\n",
            "          Dropout-20           [-1, 12, 18, 18]               0\n",
            "        MaxPool2d-21             [-1, 12, 9, 9]               0\n",
            "           Conv2d-22             [-1, 16, 7, 7]           1,744\n",
            "             ReLU-23             [-1, 16, 7, 7]               0\n",
            "      BatchNorm2d-24             [-1, 16, 7, 7]              32\n",
            "          Dropout-25             [-1, 16, 7, 7]               0\n",
            "           Conv2d-26             [-1, 16, 5, 5]           2,320\n",
            "             ReLU-27             [-1, 16, 5, 5]               0\n",
            "      BatchNorm2d-28             [-1, 16, 5, 5]              32\n",
            "          Dropout-29             [-1, 16, 5, 5]               0\n",
            "           Conv2d-30             [-1, 10, 5, 5]             170\n",
            "             ReLU-31             [-1, 10, 5, 5]               0\n",
            "      BatchNorm2d-32             [-1, 10, 5, 5]              20\n",
            "          Dropout-33             [-1, 10, 5, 5]               0\n",
            "        AvgPool2d-34             [-1, 10, 1, 1]               0\n",
            "================================================================\n",
            "Total params: 9,790\n",
            "Trainable params: 9,790\n",
            "Non-trainable params: 0\n",
            "----------------------------------------------------------------\n",
            "Input size (MB): 0.00\n",
            "Forward/backward pass size (MB): 0.95\n",
            "Params size (MB): 0.04\n",
            "Estimated Total Size (MB): 0.99\n",
            "----------------------------------------------------------------\n",
            "------------Normalization : LN-------------\n",
            "mode : LN\n",
            "----------------------------------------------------------------\n",
            "        Layer (type)               Output Shape         Param #\n",
            "================================================================\n",
            "            Conv2d-1           [-1, 12, 26, 26]             120\n",
            "              ReLU-2           [-1, 12, 26, 26]               0\n",
            "         LayerNorm-3           [-1, 12, 26, 26]          16,224\n",
            "           Dropout-4           [-1, 12, 26, 26]               0\n",
            "            Conv2d-5           [-1, 12, 24, 24]           1,308\n",
            "              ReLU-6           [-1, 12, 24, 24]               0\n",
            "         LayerNorm-7           [-1, 12, 24, 24]          13,824\n",
            "           Dropout-8           [-1, 12, 24, 24]               0\n",
            "            Conv2d-9           [-1, 12, 22, 22]           1,308\n",
            "             ReLU-10           [-1, 12, 22, 22]               0\n",
            "        LayerNorm-11           [-1, 12, 22, 22]          11,616\n",
            "          Dropout-12           [-1, 12, 22, 22]               0\n",
            "           Conv2d-13           [-1, 12, 20, 20]           1,308\n",
            "             ReLU-14           [-1, 12, 20, 20]               0\n",
            "        LayerNorm-15           [-1, 12, 20, 20]           9,600\n",
            "          Dropout-16           [-1, 12, 20, 20]               0\n",
            "           Conv2d-17           [-1, 12, 18, 18]           1,308\n",
            "             ReLU-18           [-1, 12, 18, 18]               0\n",
            "        LayerNorm-19           [-1, 12, 18, 18]           7,776\n",
            "          Dropout-20           [-1, 12, 18, 18]               0\n",
            "        MaxPool2d-21             [-1, 12, 9, 9]               0\n",
            "           Conv2d-22             [-1, 16, 7, 7]           1,744\n",
            "             ReLU-23             [-1, 16, 7, 7]               0\n",
            "        LayerNorm-24             [-1, 16, 7, 7]           1,568\n",
            "          Dropout-25             [-1, 16, 7, 7]               0\n",
            "           Conv2d-26             [-1, 16, 5, 5]           2,320\n",
            "             ReLU-27             [-1, 16, 5, 5]               0\n",
            "        LayerNorm-28             [-1, 16, 5, 5]             800\n",
            "          Dropout-29             [-1, 16, 5, 5]               0\n",
            "           Conv2d-30             [-1, 10, 5, 5]             170\n",
            "             ReLU-31             [-1, 10, 5, 5]               0\n",
            "        LayerNorm-32             [-1, 10, 5, 5]             500\n",
            "          Dropout-33             [-1, 10, 5, 5]               0\n",
            "        AvgPool2d-34             [-1, 10, 1, 1]               0\n",
            "================================================================\n",
            "Total params: 71,494\n",
            "Trainable params: 71,494\n",
            "Non-trainable params: 0\n",
            "----------------------------------------------------------------\n",
            "Input size (MB): 0.00\n",
            "Forward/backward pass size (MB): 0.95\n",
            "Params size (MB): 0.27\n",
            "Estimated Total Size (MB): 1.23\n",
            "----------------------------------------------------------------\n",
            "------------Normalization : GN-------------\n",
            "mode : GN\n",
            "----------------------------------------------------------------\n",
            "        Layer (type)               Output Shape         Param #\n",
            "================================================================\n",
            "            Conv2d-1           [-1, 12, 26, 26]             120\n",
            "              ReLU-2           [-1, 12, 26, 26]               0\n",
            "         GroupNorm-3           [-1, 12, 26, 26]              24\n",
            "           Dropout-4           [-1, 12, 26, 26]               0\n",
            "            Conv2d-5           [-1, 12, 24, 24]           1,308\n",
            "              ReLU-6           [-1, 12, 24, 24]               0\n",
            "         GroupNorm-7           [-1, 12, 24, 24]              24\n",
            "           Dropout-8           [-1, 12, 24, 24]               0\n",
            "            Conv2d-9           [-1, 12, 22, 22]           1,308\n",
            "             ReLU-10           [-1, 12, 22, 22]               0\n",
            "        GroupNorm-11           [-1, 12, 22, 22]              24\n",
            "          Dropout-12           [-1, 12, 22, 22]               0\n",
            "           Conv2d-13           [-1, 12, 20, 20]           1,308\n",
            "             ReLU-14           [-1, 12, 20, 20]               0\n",
            "        GroupNorm-15           [-1, 12, 20, 20]              24\n",
            "          Dropout-16           [-1, 12, 20, 20]               0\n",
            "           Conv2d-17           [-1, 12, 18, 18]           1,308\n",
            "             ReLU-18           [-1, 12, 18, 18]               0\n",
            "        GroupNorm-19           [-1, 12, 18, 18]              24\n",
            "          Dropout-20           [-1, 12, 18, 18]               0\n",
            "        MaxPool2d-21             [-1, 12, 9, 9]               0\n",
            "           Conv2d-22             [-1, 16, 7, 7]           1,744\n",
            "             ReLU-23             [-1, 16, 7, 7]               0\n",
            "        GroupNorm-24             [-1, 16, 7, 7]              32\n",
            "          Dropout-25             [-1, 16, 7, 7]               0\n",
            "           Conv2d-26             [-1, 16, 5, 5]           2,320\n",
            "             ReLU-27             [-1, 16, 5, 5]               0\n",
            "        GroupNorm-28             [-1, 16, 5, 5]              32\n",
            "          Dropout-29             [-1, 16, 5, 5]               0\n",
            "           Conv2d-30             [-1, 10, 5, 5]             170\n",
            "             ReLU-31             [-1, 10, 5, 5]               0\n",
            "        GroupNorm-32             [-1, 10, 5, 5]              20\n",
            "          Dropout-33             [-1, 10, 5, 5]               0\n",
            "        AvgPool2d-34             [-1, 10, 1, 1]               0\n",
            "================================================================\n",
            "Total params: 9,790\n",
            "Trainable params: 9,790\n",
            "Non-trainable params: 0\n",
            "----------------------------------------------------------------\n",
            "Input size (MB): 0.00\n",
            "Forward/backward pass size (MB): 0.95\n",
            "Params size (MB): 0.04\n",
            "Estimated Total Size (MB): 0.99\n",
            "----------------------------------------------------------------\n"
          ]
        },
        {
          "output_type": "stream",
          "name": "stderr",
          "text": [
            "/usr/local/lib/python3.7/dist-packages/torch/nn/functional.py:718: UserWarning: Named tensors and all their associated APIs are an experimental feature and subject to change. Please do not use them for anything important until they are released as stable. (Triggered internally at  /pytorch/c10/core/TensorImpl.h:1156.)\n",
            "  return torch.max_pool2d(input, kernel_size, stride, padding, dilation, ceil_mode)\n"
          ]
        }
      ]
    },
    {
      "cell_type": "markdown",
      "metadata": {
        "id": "YfLaULFf2TzM"
      },
      "source": [
        "### Training and Testing\n",
        "- includes test and train functions\n",
        "- includes loop function, where test can happen after each epoch is trained\n"
      ]
    },
    {
      "cell_type": "code",
      "metadata": {
        "id": "cJDX1iZS2TCl"
      },
      "source": [
        "# Training Function\n",
        "train_losses = [] # to capture train losses over training epochs\n",
        "train_accuracy = [] # to capture train accuracy over training epochs\n",
        "\n",
        "def train(model,device, train_loader,optimizer,epoch,regularization=None):\n",
        "  model.train() # setting the model in training \n",
        "  pbar = tqdm(train_loader) # putting the iterator in pbar\n",
        "  correct = 0 # for accuracy numerator\n",
        "  processed =0 # for accuracy denominator\n",
        "\n",
        "  for batch_idx, (images,labels) in enumerate(pbar):\n",
        "    images, labels = images.to(device),labels.to(device)#sending data to CPU or GPU as per device\n",
        "    optimizer.zero_grad() # setting gradients to zero to avoid accumulation\n",
        "\n",
        "    y_preds = model(images) # forward pass, result captured in y_preds (plural as there are many images in a batch)\n",
        "    # the predictions are in one hot vector\n",
        "\n",
        "    loss = F.nll_loss(y_preds,labels) # capturing loss\n",
        "    # l1 = 0\n",
        "    ########-------L1-Block- starts ----------\n",
        "    if (regularization == 'L1'):\n",
        "      l1=0\n",
        "      for p in model.parameters():\n",
        "        l1 = l1 + p.abs().sum()\n",
        "      loss = loss + lambda_l1 * l1\n",
        "    ########-------L1-Block- ends ----------\n",
        "\n",
        "    train_losses.append(loss) # to capture loss over many epochs\n",
        "\n",
        "    loss.backward() # backpropagation\n",
        "    optimizer.step() # updating the params\n",
        "\n",
        "    preds = y_preds.argmax(dim=1, keepdim=True)  # get the index of the max log-probability\n",
        "    correct += preds.eq(labels.view_as(preds)).sum().item()\n",
        "    processed += len(images)\n",
        "\n",
        "    if (regularization == 'L1'):\n",
        "        pbar.set_description(desc= f'L1 Regularization : Loss={loss.item()} Batch_id={batch_idx} Accuracy={100*correct/processed:0.2f}')\n",
        "    else:\n",
        "        pbar.set_description(desc= f'Loss={loss.item()} Batch_id={batch_idx} Accuracy={100*correct/processed:0.2f}')\n",
        "\n",
        "\n",
        "    train_accuracy.append(100*correct/processed)\n"
      ],
      "execution_count": 13,
      "outputs": []
    },
    {
      "cell_type": "code",
      "metadata": {
        "id": "_N0GNPIABiUq"
      },
      "source": [
        "# Test Function\n",
        "test_losses = [] # to capture test losses \n",
        "test_accuracy = [] # to capture test accuracy \n",
        "\n",
        "def test(model,device, test_loader):\n",
        "  model.eval() # setting the model in evaluation mode\n",
        "  test_loss = 0\n",
        "  correct = 0 # for accuracy numerator\n",
        "\n",
        "  with torch.no_grad():\n",
        "    for (images,labels) in test_loader:\n",
        "      images, labels = images.to(device),labels.to(device)#sending data to CPU or GPU as per device\n",
        "      outputs = model(images) # forward pass, result captured in outputs (plural as there are many images in a batch)\n",
        "      # the outputs are in batch size x one hot vector \n",
        "\n",
        "      test_loss = F.nll_loss(outputs,labels, reduction='sum').item()  # sum up batch loss\n",
        "      preds = outputs.argmax(dim=1, keepdim=True)  # get the index of the max log-probability\n",
        "      correct += preds.eq(labels.view_as(preds)).sum().item()\n",
        "\n",
        "    test_loss /= len(test_loader.dataset) # average test loss\n",
        "    test_losses.append(test_loss) # to capture loss over many batches\n",
        "\n",
        "    print('\\nTest set: Average loss: {:.4f}, Accuracy: {}/{} ({:.2f}%)\\n'.format(\n",
        "    test_loss, correct, len(test_loader.dataset),\n",
        "    100. * correct / len(test_loader.dataset)))\n",
        "\n",
        "    test_accuracy.append(100*correct/len(test_loader.dataset))\n"
      ],
      "execution_count": 14,
      "outputs": []
    },
    {
      "cell_type": "code",
      "metadata": {
        "colab": {
          "base_uri": "https://localhost:8080/",
          "height": 1000
        },
        "id": "nzgGQO3lAY2t",
        "outputId": "960cde34-3daa-4198-c081-24aec982f30f"
      },
      "source": [
        "from torch.optim.lr_scheduler import StepLR\n",
        "# list_mode =['BN']\n",
        "# list_mode = ['BN','LN']\n",
        "list_mode = ['LN','GN','BN']\n",
        "models=[None]*len(list_mode)\n",
        "# EPOCHS = 2\n",
        "EPOCHS = 20\n",
        "\n",
        "fig, axs = plt.subplots(1,2,figsize=(15,10))\n",
        "\n",
        "for idx,mode in enumerate(list_mode):\n",
        "  models[idx]=Network(mode=mode).to(device)\n",
        "  optimizer = optim.SGD(model.parameters(), lr=0.01, momentum=0.9)\n",
        "  # scheduler = StepLR(optimizer, step_size=7, gamma=0.1)\n",
        "  \n",
        "  if mode == 'BN':\n",
        "    regularization='L1'\n",
        "  else:\n",
        "    regularization=None\n",
        "  \n",
        "  train_losses = [] # to capture train losses over training epochs\n",
        "  train_accuracy = [] # to capture train accuracy over training epochs\n",
        "  test_losses = [] # to capture test losses \n",
        "  test_accuracy = [] # to capture test accuracy \n",
        "  # summary(models[idx], input_size=(1, 28, 28))\n",
        "\n",
        "  print(f'------Normalization = {mode} , Regularization = {regularization}------')\n",
        "  for epoch in range(EPOCHS):\n",
        "    print(\"EPOCH:\", epoch)\n",
        "    train(models[idx], device, train_loader, optimizer, epoch, regularization=regularization)\n",
        "    test(models[idx], device, test_loader)\n",
        "  # for idx,mode in enumerate(list_mode):\n",
        "  # axs[0].plot(train_losses,label = str(mode)+ \" Train Loss\")\n",
        "  # axs[0].plot(test_losses,label = str(mode)+' Test loss')\n",
        "  # axs[0].set_title(\"Loss\")\n",
        "  # axs[0].legend()\n",
        "  # axs[1].plot(train_accuracy,label = str(mode)+ \" Train Accuracy\")\n",
        "  # axs[1].plot(test_accuracy,label = str(mode)+ ' Test Accuracy')\n",
        "  # axs[1].set_title(\"Accuracy\")\n",
        "  # axs[1].legend()\n",
        "  ######################\n",
        "  # axs[0].plot(train_losses,label = str(mode)+ \" Train Loss\")\n",
        "  axs[0].plot(test_losses,label = str(mode)+ \" Test Loss\")\n",
        "  axs[0].set_title(\"Loss\")\n",
        "  axs[0].legend()\n",
        "  # axs[1].plot(train_accuracy,label = str(mode)+ \" Train Accuracy\")\n",
        "  axs[1].plot(test_accuracy, label = str(mode)+ ' Test Accuracy')\n",
        "  axs[1].set_title(\"Accuracy\")\n",
        "  axs[1].legend()\n",
        "  ######################\n"
      ],
      "execution_count": 18,
      "outputs": [
        {
          "output_type": "stream",
          "name": "stdout",
          "text": [
            "mode : LN\n",
            "------Normalization = LN , Regularization = None------\n",
            "EPOCH: 0\n"
          ]
        },
        {
          "output_type": "stream",
          "name": "stderr",
          "text": [
            "\r  0%|          | 0/469 [00:00<?, ?it/s]/usr/local/lib/python3.7/dist-packages/torch/utils/data/dataloader.py:481: UserWarning: This DataLoader will create 4 worker processes in total. Our suggested max number of worker in current system is 2, which is smaller than what this DataLoader is going to create. Please be aware that excessive worker creation might get DataLoader running slow or even freeze, lower the worker number to avoid potential slowness/freeze if necessary.\n",
            "  cpuset_checked))\n",
            "Loss=2.4606223106384277 Batch_id=468 Accuracy=8.72: 100%|██████████| 469/469 [00:27<00:00, 16.98it/s]\n"
          ]
        },
        {
          "output_type": "stream",
          "name": "stdout",
          "text": [
            "\n",
            "Test set: Average loss: 0.0040, Accuracy: 859/10000 (8.59%)\n",
            "\n",
            "EPOCH: 1\n"
          ]
        },
        {
          "output_type": "stream",
          "name": "stderr",
          "text": [
            "Loss=2.4196221828460693 Batch_id=468 Accuracy=8.62: 100%|██████████| 469/469 [00:27<00:00, 16.99it/s]\n"
          ]
        },
        {
          "output_type": "stream",
          "name": "stdout",
          "text": [
            "\n",
            "Test set: Average loss: 0.0041, Accuracy: 859/10000 (8.59%)\n",
            "\n",
            "EPOCH: 2\n"
          ]
        },
        {
          "output_type": "stream",
          "name": "stderr",
          "text": [
            "Loss=2.4939792156219482 Batch_id=468 Accuracy=8.68: 100%|██████████| 469/469 [00:27<00:00, 16.77it/s]\n"
          ]
        },
        {
          "output_type": "stream",
          "name": "stdout",
          "text": [
            "\n",
            "Test set: Average loss: 0.0041, Accuracy: 859/10000 (8.59%)\n",
            "\n",
            "EPOCH: 3\n"
          ]
        },
        {
          "output_type": "stream",
          "name": "stderr",
          "text": [
            "Loss=2.5246801376342773 Batch_id=468 Accuracy=8.64: 100%|██████████| 469/469 [00:27<00:00, 16.85it/s]\n"
          ]
        },
        {
          "output_type": "stream",
          "name": "stdout",
          "text": [
            "\n",
            "Test set: Average loss: 0.0037, Accuracy: 859/10000 (8.59%)\n",
            "\n",
            "EPOCH: 4\n"
          ]
        },
        {
          "output_type": "stream",
          "name": "stderr",
          "text": [
            "Loss=2.426943063735962 Batch_id=468 Accuracy=8.77: 100%|██████████| 469/469 [00:27<00:00, 16.87it/s]\n"
          ]
        },
        {
          "output_type": "stream",
          "name": "stdout",
          "text": [
            "\n",
            "Test set: Average loss: 0.0044, Accuracy: 859/10000 (8.59%)\n",
            "\n",
            "EPOCH: 5\n"
          ]
        },
        {
          "output_type": "stream",
          "name": "stderr",
          "text": [
            "Loss=2.591991901397705 Batch_id=468 Accuracy=8.81: 100%|██████████| 469/469 [00:27<00:00, 17.06it/s]\n"
          ]
        },
        {
          "output_type": "stream",
          "name": "stdout",
          "text": [
            "\n",
            "Test set: Average loss: 0.0040, Accuracy: 859/10000 (8.59%)\n",
            "\n",
            "EPOCH: 6\n"
          ]
        },
        {
          "output_type": "stream",
          "name": "stderr",
          "text": [
            "Loss=2.5376574993133545 Batch_id=468 Accuracy=8.62: 100%|██████████| 469/469 [00:27<00:00, 16.93it/s]\n"
          ]
        },
        {
          "output_type": "stream",
          "name": "stdout",
          "text": [
            "\n",
            "Test set: Average loss: 0.0039, Accuracy: 859/10000 (8.59%)\n",
            "\n",
            "EPOCH: 7\n"
          ]
        },
        {
          "output_type": "stream",
          "name": "stderr",
          "text": [
            "Loss=2.5510618686676025 Batch_id=468 Accuracy=8.62: 100%|██████████| 469/469 [00:28<00:00, 16.69it/s]\n"
          ]
        },
        {
          "output_type": "stream",
          "name": "stdout",
          "text": [
            "\n",
            "Test set: Average loss: 0.0039, Accuracy: 859/10000 (8.59%)\n",
            "\n",
            "EPOCH: 8\n"
          ]
        },
        {
          "output_type": "stream",
          "name": "stderr",
          "text": [
            "Loss=2.46187686920166 Batch_id=468 Accuracy=8.71: 100%|██████████| 469/469 [00:28<00:00, 16.53it/s]\n"
          ]
        },
        {
          "output_type": "stream",
          "name": "stdout",
          "text": [
            "\n",
            "Test set: Average loss: 0.0037, Accuracy: 859/10000 (8.59%)\n",
            "\n",
            "EPOCH: 9\n"
          ]
        },
        {
          "output_type": "stream",
          "name": "stderr",
          "text": [
            "Loss=2.5573105812072754 Batch_id=468 Accuracy=8.80: 100%|██████████| 469/469 [00:28<00:00, 16.50it/s]\n"
          ]
        },
        {
          "output_type": "stream",
          "name": "stdout",
          "text": [
            "\n",
            "Test set: Average loss: 0.0038, Accuracy: 859/10000 (8.59%)\n",
            "\n",
            "EPOCH: 10\n"
          ]
        },
        {
          "output_type": "stream",
          "name": "stderr",
          "text": [
            "Loss=2.3627817630767822 Batch_id=468 Accuracy=8.70: 100%|██████████| 469/469 [00:28<00:00, 16.63it/s]\n"
          ]
        },
        {
          "output_type": "stream",
          "name": "stdout",
          "text": [
            "\n",
            "Test set: Average loss: 0.0040, Accuracy: 859/10000 (8.59%)\n",
            "\n",
            "EPOCH: 11\n"
          ]
        },
        {
          "output_type": "stream",
          "name": "stderr",
          "text": [
            "Loss=2.558932065963745 Batch_id=468 Accuracy=8.62: 100%|██████████| 469/469 [00:28<00:00, 16.53it/s]\n"
          ]
        },
        {
          "output_type": "stream",
          "name": "stdout",
          "text": [
            "\n",
            "Test set: Average loss: 0.0040, Accuracy: 859/10000 (8.59%)\n",
            "\n",
            "EPOCH: 12\n"
          ]
        },
        {
          "output_type": "stream",
          "name": "stderr",
          "text": [
            "Loss=2.373363733291626 Batch_id=468 Accuracy=8.62: 100%|██████████| 469/469 [00:28<00:00, 16.52it/s]\n"
          ]
        },
        {
          "output_type": "stream",
          "name": "stdout",
          "text": [
            "\n",
            "Test set: Average loss: 0.0041, Accuracy: 859/10000 (8.59%)\n",
            "\n",
            "EPOCH: 13\n"
          ]
        },
        {
          "output_type": "stream",
          "name": "stderr",
          "text": [
            "Loss=2.443959951400757 Batch_id=468 Accuracy=8.59: 100%|██████████| 469/469 [00:28<00:00, 16.34it/s]\n"
          ]
        },
        {
          "output_type": "stream",
          "name": "stdout",
          "text": [
            "\n",
            "Test set: Average loss: 0.0041, Accuracy: 859/10000 (8.59%)\n",
            "\n",
            "EPOCH: 14\n"
          ]
        },
        {
          "output_type": "stream",
          "name": "stderr",
          "text": [
            "Loss=2.4628641605377197 Batch_id=468 Accuracy=8.62: 100%|██████████| 469/469 [00:28<00:00, 16.41it/s]\n"
          ]
        },
        {
          "output_type": "stream",
          "name": "stdout",
          "text": [
            "\n",
            "Test set: Average loss: 0.0039, Accuracy: 859/10000 (8.59%)\n",
            "\n",
            "EPOCH: 15\n"
          ]
        },
        {
          "output_type": "stream",
          "name": "stderr",
          "text": [
            "Loss=2.4267656803131104 Batch_id=468 Accuracy=8.67: 100%|██████████| 469/469 [00:28<00:00, 16.43it/s]\n"
          ]
        },
        {
          "output_type": "stream",
          "name": "stdout",
          "text": [
            "\n",
            "Test set: Average loss: 0.0042, Accuracy: 859/10000 (8.59%)\n",
            "\n",
            "EPOCH: 16\n"
          ]
        },
        {
          "output_type": "stream",
          "name": "stderr",
          "text": [
            "Loss=2.52640700340271 Batch_id=468 Accuracy=8.54: 100%|██████████| 469/469 [00:28<00:00, 16.49it/s]\n"
          ]
        },
        {
          "output_type": "stream",
          "name": "stdout",
          "text": [
            "\n",
            "Test set: Average loss: 0.0042, Accuracy: 859/10000 (8.59%)\n",
            "\n",
            "EPOCH: 17\n"
          ]
        },
        {
          "output_type": "stream",
          "name": "stderr",
          "text": [
            "Loss=2.4231302738189697 Batch_id=468 Accuracy=8.76: 100%|██████████| 469/469 [00:28<00:00, 16.37it/s]\n"
          ]
        },
        {
          "output_type": "stream",
          "name": "stdout",
          "text": [
            "\n",
            "Test set: Average loss: 0.0038, Accuracy: 859/10000 (8.59%)\n",
            "\n",
            "EPOCH: 18\n"
          ]
        },
        {
          "output_type": "stream",
          "name": "stderr",
          "text": [
            "Loss=2.5364980697631836 Batch_id=468 Accuracy=8.84: 100%|██████████| 469/469 [00:28<00:00, 16.45it/s]\n"
          ]
        },
        {
          "output_type": "stream",
          "name": "stdout",
          "text": [
            "\n",
            "Test set: Average loss: 0.0041, Accuracy: 859/10000 (8.59%)\n",
            "\n",
            "EPOCH: 19\n"
          ]
        },
        {
          "output_type": "stream",
          "name": "stderr",
          "text": [
            "Loss=2.5269711017608643 Batch_id=468 Accuracy=8.69: 100%|██████████| 469/469 [00:28<00:00, 16.48it/s]\n"
          ]
        },
        {
          "output_type": "stream",
          "name": "stdout",
          "text": [
            "\n",
            "Test set: Average loss: 0.0040, Accuracy: 859/10000 (8.59%)\n",
            "\n",
            "mode : GN\n",
            "------Normalization = GN , Regularization = None------\n",
            "EPOCH: 0\n"
          ]
        },
        {
          "output_type": "stream",
          "name": "stderr",
          "text": [
            "Loss=2.362226963043213 Batch_id=468 Accuracy=11.77: 100%|██████████| 469/469 [00:29<00:00, 15.84it/s]\n"
          ]
        },
        {
          "output_type": "stream",
          "name": "stdout",
          "text": [
            "\n",
            "Test set: Average loss: 0.0037, Accuracy: 1312/10000 (13.12%)\n",
            "\n",
            "EPOCH: 1\n"
          ]
        },
        {
          "output_type": "stream",
          "name": "stderr",
          "text": [
            "Loss=2.3086540699005127 Batch_id=468 Accuracy=11.77: 100%|██████████| 469/469 [00:28<00:00, 16.26it/s]\n"
          ]
        },
        {
          "output_type": "stream",
          "name": "stdout",
          "text": [
            "\n",
            "Test set: Average loss: 0.0036, Accuracy: 1312/10000 (13.12%)\n",
            "\n",
            "EPOCH: 2\n"
          ]
        },
        {
          "output_type": "stream",
          "name": "stderr",
          "text": [
            "Loss=2.3066794872283936 Batch_id=468 Accuracy=11.88: 100%|██████████| 469/469 [00:28<00:00, 16.39it/s]\n"
          ]
        },
        {
          "output_type": "stream",
          "name": "stdout",
          "text": [
            "\n",
            "Test set: Average loss: 0.0040, Accuracy: 1312/10000 (13.12%)\n",
            "\n",
            "EPOCH: 3\n"
          ]
        },
        {
          "output_type": "stream",
          "name": "stderr",
          "text": [
            "Loss=2.3358771800994873 Batch_id=468 Accuracy=11.98: 100%|██████████| 469/469 [00:28<00:00, 16.33it/s]\n"
          ]
        },
        {
          "output_type": "stream",
          "name": "stdout",
          "text": [
            "\n",
            "Test set: Average loss: 0.0040, Accuracy: 1312/10000 (13.12%)\n",
            "\n",
            "EPOCH: 4\n"
          ]
        },
        {
          "output_type": "stream",
          "name": "stderr",
          "text": [
            "Loss=2.3641717433929443 Batch_id=468 Accuracy=11.88: 100%|██████████| 469/469 [00:28<00:00, 16.36it/s]\n"
          ]
        },
        {
          "output_type": "stream",
          "name": "stdout",
          "text": [
            "\n",
            "Test set: Average loss: 0.0038, Accuracy: 1312/10000 (13.12%)\n",
            "\n",
            "EPOCH: 5\n"
          ]
        },
        {
          "output_type": "stream",
          "name": "stderr",
          "text": [
            "Loss=2.3448400497436523 Batch_id=468 Accuracy=11.84: 100%|██████████| 469/469 [00:28<00:00, 16.40it/s]\n"
          ]
        },
        {
          "output_type": "stream",
          "name": "stdout",
          "text": [
            "\n",
            "Test set: Average loss: 0.0038, Accuracy: 1312/10000 (13.12%)\n",
            "\n",
            "EPOCH: 6\n"
          ]
        },
        {
          "output_type": "stream",
          "name": "stderr",
          "text": [
            "Loss=2.2972867488861084 Batch_id=468 Accuracy=11.92: 100%|██████████| 469/469 [00:29<00:00, 16.15it/s]\n"
          ]
        },
        {
          "output_type": "stream",
          "name": "stdout",
          "text": [
            "\n",
            "Test set: Average loss: 0.0039, Accuracy: 1312/10000 (13.12%)\n",
            "\n",
            "EPOCH: 7\n"
          ]
        },
        {
          "output_type": "stream",
          "name": "stderr",
          "text": [
            "Loss=2.332406997680664 Batch_id=468 Accuracy=11.92: 100%|██████████| 469/469 [00:28<00:00, 16.19it/s]\n"
          ]
        },
        {
          "output_type": "stream",
          "name": "stdout",
          "text": [
            "\n",
            "Test set: Average loss: 0.0038, Accuracy: 1312/10000 (13.12%)\n",
            "\n",
            "EPOCH: 8\n"
          ]
        },
        {
          "output_type": "stream",
          "name": "stderr",
          "text": [
            "Loss=2.2893364429473877 Batch_id=468 Accuracy=11.93: 100%|██████████| 469/469 [00:28<00:00, 16.20it/s]\n"
          ]
        },
        {
          "output_type": "stream",
          "name": "stdout",
          "text": [
            "\n",
            "Test set: Average loss: 0.0037, Accuracy: 1312/10000 (13.12%)\n",
            "\n",
            "EPOCH: 9\n"
          ]
        },
        {
          "output_type": "stream",
          "name": "stderr",
          "text": [
            "Loss=2.341503858566284 Batch_id=468 Accuracy=11.79: 100%|██████████| 469/469 [00:29<00:00, 16.04it/s]\n"
          ]
        },
        {
          "output_type": "stream",
          "name": "stdout",
          "text": [
            "\n",
            "Test set: Average loss: 0.0036, Accuracy: 1312/10000 (13.12%)\n",
            "\n",
            "EPOCH: 10\n"
          ]
        },
        {
          "output_type": "stream",
          "name": "stderr",
          "text": [
            "Loss=2.329333543777466 Batch_id=468 Accuracy=11.98: 100%|██████████| 469/469 [00:29<00:00, 16.12it/s]\n"
          ]
        },
        {
          "output_type": "stream",
          "name": "stdout",
          "text": [
            "\n",
            "Test set: Average loss: 0.0038, Accuracy: 1312/10000 (13.12%)\n",
            "\n",
            "EPOCH: 11\n"
          ]
        },
        {
          "output_type": "stream",
          "name": "stderr",
          "text": [
            "Loss=2.3608694076538086 Batch_id=468 Accuracy=12.02: 100%|██████████| 469/469 [00:29<00:00, 16.15it/s]\n"
          ]
        },
        {
          "output_type": "stream",
          "name": "stdout",
          "text": [
            "\n",
            "Test set: Average loss: 0.0037, Accuracy: 1312/10000 (13.12%)\n",
            "\n",
            "EPOCH: 12\n"
          ]
        },
        {
          "output_type": "stream",
          "name": "stderr",
          "text": [
            "Loss=2.3124825954437256 Batch_id=468 Accuracy=11.82: 100%|██████████| 469/469 [00:28<00:00, 16.19it/s]\n"
          ]
        },
        {
          "output_type": "stream",
          "name": "stdout",
          "text": [
            "\n",
            "Test set: Average loss: 0.0037, Accuracy: 1312/10000 (13.12%)\n",
            "\n",
            "EPOCH: 13\n"
          ]
        },
        {
          "output_type": "stream",
          "name": "stderr",
          "text": [
            "Loss=2.296698808670044 Batch_id=468 Accuracy=11.98: 100%|██████████| 469/469 [00:28<00:00, 16.20it/s]\n"
          ]
        },
        {
          "output_type": "stream",
          "name": "stdout",
          "text": [
            "\n",
            "Test set: Average loss: 0.0037, Accuracy: 1312/10000 (13.12%)\n",
            "\n",
            "EPOCH: 14\n"
          ]
        },
        {
          "output_type": "stream",
          "name": "stderr",
          "text": [
            "Loss=2.3549654483795166 Batch_id=468 Accuracy=11.80: 100%|██████████| 469/469 [00:29<00:00, 16.11it/s]\n"
          ]
        },
        {
          "output_type": "stream",
          "name": "stdout",
          "text": [
            "\n",
            "Test set: Average loss: 0.0036, Accuracy: 1312/10000 (13.12%)\n",
            "\n",
            "EPOCH: 15\n"
          ]
        },
        {
          "output_type": "stream",
          "name": "stderr",
          "text": [
            "Loss=2.3762662410736084 Batch_id=468 Accuracy=11.71: 100%|██████████| 469/469 [00:28<00:00, 16.28it/s]\n"
          ]
        },
        {
          "output_type": "stream",
          "name": "stdout",
          "text": [
            "\n",
            "Test set: Average loss: 0.0036, Accuracy: 1312/10000 (13.12%)\n",
            "\n",
            "EPOCH: 16\n"
          ]
        },
        {
          "output_type": "stream",
          "name": "stderr",
          "text": [
            "Loss=2.331409215927124 Batch_id=468 Accuracy=11.75: 100%|██████████| 469/469 [00:28<00:00, 16.20it/s]\n"
          ]
        },
        {
          "output_type": "stream",
          "name": "stdout",
          "text": [
            "\n",
            "Test set: Average loss: 0.0039, Accuracy: 1312/10000 (13.12%)\n",
            "\n",
            "EPOCH: 17\n"
          ]
        },
        {
          "output_type": "stream",
          "name": "stderr",
          "text": [
            "Loss=2.3243215084075928 Batch_id=468 Accuracy=11.84: 100%|██████████| 469/469 [00:29<00:00, 16.15it/s]\n"
          ]
        },
        {
          "output_type": "stream",
          "name": "stdout",
          "text": [
            "\n",
            "Test set: Average loss: 0.0038, Accuracy: 1312/10000 (13.12%)\n",
            "\n",
            "EPOCH: 18\n"
          ]
        },
        {
          "output_type": "stream",
          "name": "stderr",
          "text": [
            "Loss=2.3066978454589844 Batch_id=468 Accuracy=11.92: 100%|██████████| 469/469 [00:29<00:00, 16.17it/s]\n"
          ]
        },
        {
          "output_type": "stream",
          "name": "stdout",
          "text": [
            "\n",
            "Test set: Average loss: 0.0037, Accuracy: 1312/10000 (13.12%)\n",
            "\n",
            "EPOCH: 19\n"
          ]
        },
        {
          "output_type": "stream",
          "name": "stderr",
          "text": [
            "Loss=2.3039751052856445 Batch_id=468 Accuracy=11.93: 100%|██████████| 469/469 [00:29<00:00, 16.16it/s]\n"
          ]
        },
        {
          "output_type": "stream",
          "name": "stdout",
          "text": [
            "\n",
            "Test set: Average loss: 0.0037, Accuracy: 1312/10000 (13.12%)\n",
            "\n",
            "mode : BN\n",
            "------Normalization = BN , Regularization = L1------\n",
            "EPOCH: 0\n"
          ]
        },
        {
          "output_type": "stream",
          "name": "stderr",
          "text": [
            "L1 Regularization : Loss=2.9181387424468994 Batch_id=468 Accuracy=10.26: 100%|██████████| 469/469 [00:33<00:00, 14.18it/s]\n"
          ]
        },
        {
          "output_type": "stream",
          "name": "stdout",
          "text": [
            "\n",
            "Test set: Average loss: 0.0039, Accuracy: 720/10000 (7.20%)\n",
            "\n",
            "EPOCH: 1\n"
          ]
        },
        {
          "output_type": "stream",
          "name": "stderr",
          "text": [
            "L1 Regularization : Loss=2.911163568496704 Batch_id=468 Accuracy=10.06: 100%|██████████| 469/469 [00:32<00:00, 14.62it/s]\n"
          ]
        },
        {
          "output_type": "stream",
          "name": "stdout",
          "text": [
            "\n",
            "Test set: Average loss: 0.0037, Accuracy: 725/10000 (7.25%)\n",
            "\n",
            "EPOCH: 2\n"
          ]
        },
        {
          "output_type": "stream",
          "name": "stderr",
          "text": [
            "L1 Regularization : Loss=2.9050755500793457 Batch_id=468 Accuracy=10.06: 100%|██████████| 469/469 [00:32<00:00, 14.53it/s]\n"
          ]
        },
        {
          "output_type": "stream",
          "name": "stdout",
          "text": [
            "\n",
            "Test set: Average loss: 0.0038, Accuracy: 723/10000 (7.23%)\n",
            "\n",
            "EPOCH: 3\n"
          ]
        },
        {
          "output_type": "stream",
          "name": "stderr",
          "text": [
            "L1 Regularization : Loss=2.897502899169922 Batch_id=468 Accuracy=9.94: 100%|██████████| 469/469 [00:32<00:00, 14.50it/s]\n"
          ]
        },
        {
          "output_type": "stream",
          "name": "stdout",
          "text": [
            "\n",
            "Test set: Average loss: 0.0037, Accuracy: 724/10000 (7.24%)\n",
            "\n",
            "EPOCH: 4\n"
          ]
        },
        {
          "output_type": "stream",
          "name": "stderr",
          "text": [
            "L1 Regularization : Loss=2.88055682182312 Batch_id=468 Accuracy=10.22: 100%|██████████| 469/469 [00:31<00:00, 14.69it/s]\n"
          ]
        },
        {
          "output_type": "stream",
          "name": "stdout",
          "text": [
            "\n",
            "Test set: Average loss: 0.0038, Accuracy: 731/10000 (7.31%)\n",
            "\n",
            "EPOCH: 5\n"
          ]
        },
        {
          "output_type": "stream",
          "name": "stderr",
          "text": [
            "L1 Regularization : Loss=2.886824607849121 Batch_id=468 Accuracy=10.20: 100%|██████████| 469/469 [00:31<00:00, 14.83it/s]\n"
          ]
        },
        {
          "output_type": "stream",
          "name": "stdout",
          "text": [
            "\n",
            "Test set: Average loss: 0.0036, Accuracy: 721/10000 (7.21%)\n",
            "\n",
            "EPOCH: 6\n"
          ]
        },
        {
          "output_type": "stream",
          "name": "stderr",
          "text": [
            "L1 Regularization : Loss=2.9339635372161865 Batch_id=468 Accuracy=10.49: 100%|██████████| 469/469 [00:31<00:00, 14.78it/s]\n"
          ]
        },
        {
          "output_type": "stream",
          "name": "stdout",
          "text": [
            "\n",
            "Test set: Average loss: 0.0038, Accuracy: 707/10000 (7.07%)\n",
            "\n",
            "EPOCH: 7\n"
          ]
        },
        {
          "output_type": "stream",
          "name": "stderr",
          "text": [
            "L1 Regularization : Loss=2.8985109329223633 Batch_id=468 Accuracy=10.19: 100%|██████████| 469/469 [00:31<00:00, 14.93it/s]\n"
          ]
        },
        {
          "output_type": "stream",
          "name": "stdout",
          "text": [
            "\n",
            "Test set: Average loss: 0.0038, Accuracy: 730/10000 (7.30%)\n",
            "\n",
            "EPOCH: 8\n"
          ]
        },
        {
          "output_type": "stream",
          "name": "stderr",
          "text": [
            "L1 Regularization : Loss=2.891237497329712 Batch_id=468 Accuracy=9.94: 100%|██████████| 469/469 [00:31<00:00, 14.81it/s]\n"
          ]
        },
        {
          "output_type": "stream",
          "name": "stdout",
          "text": [
            "\n",
            "Test set: Average loss: 0.0034, Accuracy: 711/10000 (7.11%)\n",
            "\n",
            "EPOCH: 9\n"
          ]
        },
        {
          "output_type": "stream",
          "name": "stderr",
          "text": [
            "L1 Regularization : Loss=2.9092657566070557 Batch_id=468 Accuracy=10.06: 100%|██████████| 469/469 [00:31<00:00, 14.85it/s]\n"
          ]
        },
        {
          "output_type": "stream",
          "name": "stdout",
          "text": [
            "\n",
            "Test set: Average loss: 0.0038, Accuracy: 718/10000 (7.18%)\n",
            "\n",
            "EPOCH: 10\n"
          ]
        },
        {
          "output_type": "stream",
          "name": "stderr",
          "text": [
            "L1 Regularization : Loss=2.916484832763672 Batch_id=468 Accuracy=10.06: 100%|██████████| 469/469 [00:31<00:00, 14.79it/s]\n"
          ]
        },
        {
          "output_type": "stream",
          "name": "stdout",
          "text": [
            "\n",
            "Test set: Average loss: 0.0037, Accuracy: 705/10000 (7.05%)\n",
            "\n",
            "EPOCH: 11\n"
          ]
        },
        {
          "output_type": "stream",
          "name": "stderr",
          "text": [
            "L1 Regularization : Loss=2.945791006088257 Batch_id=468 Accuracy=9.96: 100%|██████████| 469/469 [00:31<00:00, 14.91it/s]\n"
          ]
        },
        {
          "output_type": "stream",
          "name": "stdout",
          "text": [
            "\n",
            "Test set: Average loss: 0.0039, Accuracy: 711/10000 (7.11%)\n",
            "\n",
            "EPOCH: 12\n"
          ]
        },
        {
          "output_type": "stream",
          "name": "stderr",
          "text": [
            "L1 Regularization : Loss=2.9450318813323975 Batch_id=468 Accuracy=9.80: 100%|██████████| 469/469 [00:31<00:00, 15.00it/s]\n"
          ]
        },
        {
          "output_type": "stream",
          "name": "stdout",
          "text": [
            "\n",
            "Test set: Average loss: 0.0038, Accuracy: 720/10000 (7.20%)\n",
            "\n",
            "EPOCH: 13\n"
          ]
        },
        {
          "output_type": "stream",
          "name": "stderr",
          "text": [
            "L1 Regularization : Loss=2.9059455394744873 Batch_id=468 Accuracy=10.03: 100%|██████████| 469/469 [00:31<00:00, 14.90it/s]\n"
          ]
        },
        {
          "output_type": "stream",
          "name": "stdout",
          "text": [
            "\n",
            "Test set: Average loss: 0.0038, Accuracy: 711/10000 (7.11%)\n",
            "\n",
            "EPOCH: 14\n"
          ]
        },
        {
          "output_type": "stream",
          "name": "stderr",
          "text": [
            "L1 Regularization : Loss=2.897940158843994 Batch_id=468 Accuracy=9.97: 100%|██████████| 469/469 [00:31<00:00, 14.90it/s]\n"
          ]
        },
        {
          "output_type": "stream",
          "name": "stdout",
          "text": [
            "\n",
            "Test set: Average loss: 0.0038, Accuracy: 717/10000 (7.17%)\n",
            "\n",
            "EPOCH: 15\n"
          ]
        },
        {
          "output_type": "stream",
          "name": "stderr",
          "text": [
            "L1 Regularization : Loss=2.92787766456604 Batch_id=468 Accuracy=10.13: 100%|██████████| 469/469 [00:31<00:00, 14.85it/s]\n"
          ]
        },
        {
          "output_type": "stream",
          "name": "stdout",
          "text": [
            "\n",
            "Test set: Average loss: 0.0037, Accuracy: 706/10000 (7.06%)\n",
            "\n",
            "EPOCH: 16\n"
          ]
        },
        {
          "output_type": "stream",
          "name": "stderr",
          "text": [
            "L1 Regularization : Loss=2.9095027446746826 Batch_id=468 Accuracy=9.97: 100%|██████████| 469/469 [00:31<00:00, 15.02it/s]\n"
          ]
        },
        {
          "output_type": "stream",
          "name": "stdout",
          "text": [
            "\n",
            "Test set: Average loss: 0.0037, Accuracy: 708/10000 (7.08%)\n",
            "\n",
            "EPOCH: 17\n"
          ]
        },
        {
          "output_type": "stream",
          "name": "stderr",
          "text": [
            "L1 Regularization : Loss=2.8732492923736572 Batch_id=468 Accuracy=10.12: 100%|██████████| 469/469 [00:32<00:00, 14.62it/s]\n"
          ]
        },
        {
          "output_type": "stream",
          "name": "stdout",
          "text": [
            "\n",
            "Test set: Average loss: 0.0037, Accuracy: 719/10000 (7.19%)\n",
            "\n",
            "EPOCH: 18\n"
          ]
        },
        {
          "output_type": "stream",
          "name": "stderr",
          "text": [
            "L1 Regularization : Loss=2.9205315113067627 Batch_id=468 Accuracy=9.94: 100%|██████████| 469/469 [00:31<00:00, 14.77it/s]\n"
          ]
        },
        {
          "output_type": "stream",
          "name": "stdout",
          "text": [
            "\n",
            "Test set: Average loss: 0.0037, Accuracy: 724/10000 (7.24%)\n",
            "\n",
            "EPOCH: 19\n"
          ]
        },
        {
          "output_type": "stream",
          "name": "stderr",
          "text": [
            "L1 Regularization : Loss=2.8654212951660156 Batch_id=468 Accuracy=10.03: 100%|██████████| 469/469 [00:32<00:00, 14.64it/s]\n"
          ]
        },
        {
          "output_type": "stream",
          "name": "stdout",
          "text": [
            "\n",
            "Test set: Average loss: 0.0038, Accuracy: 716/10000 (7.16%)\n",
            "\n"
          ]
        },
        {
          "output_type": "display_data",
          "data": {
            "image/png": "[encoded data removed]",
            "text/plain": [
              "<Figure size 1080x720 with 2 Axes>"
            ]
          },
          "metadata": {
            "needs_background": "light"
          }
        }
      ]
    },
    {
      "cell_type": "markdown",
      "metadata": {
        "id": "9CUz4JBq5eEn"
      },
      "source": [
        "### Plotting Misclassified images"
      ]
    },
    {
      "cell_type": "code",
      "metadata": {
        "colab": {
          "base_uri": "https://localhost:8080/",
          "height": 977
        },
        "id": "y3n53mCHs8l5",
        "outputId": "474bb1dc-701c-4e44-98b9-358b6a041c0a"
      },
      "source": [
        "# Plotting misclassified Images\n",
        "\n",
        "for idx,mode in enumerate(list_mode):\n",
        "  # print(models[idx])\n",
        "  incorrect_image_list =[]\n",
        "  predicted_label_list =[]\n",
        "  correct_label_list = []\n",
        "  # incorrect = 0\n",
        "  for i,(images,labels) in enumerate(test_loader):\n",
        "    images, labels = images.to(device),labels.to(device)#sending data to CPU or GPU as per device\n",
        "    outputs = models[idx](images) # forward pass, result captured in outputs (plural as there are many images in a batch)\n",
        "    # preds = outputs.argmax(dim=1, keepdim=True)  # get the index of the max log-probability\n",
        "    # incorrect += preds.neq(labels.view_as(preds))\n",
        "    # print(incorrect)\n",
        "    # break\n",
        "    preds = outputs.argmax(dim=1, keepdim=True).squeeze(1)         \n",
        "    idxs_mask = (preds !=  labels).view(-1)\n",
        "    img_nm = images[idxs_mask].cpu().numpy()\n",
        "    img_nm = img_nm.reshape(img_nm.shape[0], 28, 28)\n",
        "    if img_nm.shape[0] > 0:\n",
        "        img_list = [img_nm[i] for i in range(img_nm.shape[0])]\n",
        "        incorrect_image_list.extend(img_list)\n",
        "        predicted_label_list.extend(preds[idxs_mask].cpu().numpy())\n",
        "        correct_label_list.extend(labels[idxs_mask].cpu().numpy())\n",
        "  plt.figure(figsize=(15,5))\n",
        "  i= 0\n",
        "  # Display the list of 10 misclassified images\n",
        "  for index, image in enumerate(incorrect_image_list) :\n",
        "      ax = plt.subplot(2, 5, i+1)\n",
        "      ax.set_title(str(mode) + \", Actual: \" + str(correct_label_list[index]) + \", Predicted: \" + str(predicted_label_list[index]))\n",
        "      ax.axis('off')\n",
        "      plt.imshow(image)\n",
        "      i +=1\n",
        "      if i==10:\n",
        "          break\n",
        " \n"
      ],
      "execution_count": 19,
      "outputs": [
        {
          "output_type": "stream",
          "name": "stderr",
          "text": [
            "/usr/local/lib/python3.7/dist-packages/torch/utils/data/dataloader.py:481: UserWarning: This DataLoader will create 4 worker processes in total. Our suggested max number of worker in current system is 2, which is smaller than what this DataLoader is going to create. Please be aware that excessive worker creation might get DataLoader running slow or even freeze, lower the worker number to avoid potential slowness/freeze if necessary.\n",
            "  cpuset_checked))\n"
          ]
        },
        {
          "output_type": "display_data",
          "data": {
            "image/png": "[encoded data removed]",
            "text/plain": [
              "<Figure size 1080x360 with 10 Axes>"
            ]
          },
          "metadata": {
            "needs_background": "light"
          }
        },
        {
          "output_type": "display_data",
          "data": {
            "image/png": "[encoded data removed]",
            "text/plain": [
              "<Figure size 1080x360 with 10 Axes>"
            ]
          },
          "metadata": {
            "needs_background": "light"
          }
        },
        {
          "output_type": "display_data",
          "data": {
            "image/png": "[encoded data removed]",
            "text/plain": [
              "<Figure size 1080x360 with 10 Axes>"
            ]
          },
          "metadata": {
            "needs_background": "light"
          }
        }
      ]
    }
  ]
}