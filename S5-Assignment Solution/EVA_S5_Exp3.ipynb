{
  "nbformat": 4,
  "nbformat_minor": 0,
  "metadata": {
    "colab": {
      "name": "EVA_S5_Exp3.ipynb",
      "provenance": [],
      "collapsed_sections": [],
      "authorship_tag": "ABX9TyMUarMXRqeka4gAHEvhSKn3",
      "include_colab_link": true
    },
    "kernelspec": {
      "name": "python3",
      "display_name": "Python 3"
    },
    "language_info": {
      "name": "python"
    },
    "accelerator": "GPU"
  },
  "cells": [
    {
      "cell_type": "markdown",
      "metadata": {
        "id": "view-in-github",
        "colab_type": "text"
      },
      "source": [
        "<a href=\"https://colab.research.google.com/github/peeyushsinghal/EVA/blob/main/S5-Assignment%20Solution/EVA_S5_Exp3.ipynb\" target=\"_parent\"><img src=\"https://colab.research.google.com/assets/colab-badge.svg\" alt=\"Open In Colab\"/></a>"
      ]
    },
    {
      "cell_type": "markdown",
      "metadata": {
        "id": "P9zJUsfthCOd"
      },
      "source": [
        "### Importing Libraries"
      ]
    },
    {
      "cell_type": "code",
      "metadata": {
        "colab": {
          "base_uri": "https://localhost:8080/"
        },
        "id": "kI-gD7_Xg3qk",
        "outputId": "7f7c33af-e85c-4267-e7fd-297b0a9ec5fa"
      },
      "source": [
        "import torch\n",
        "from torchvision import datasets,transforms\n",
        "%matplotlib inline\n",
        "import matplotlib.pyplot as plt # for visualizing images\n",
        "import random # for random image index\n",
        "import torch.nn as nn # for network\n",
        "import torch.nn.functional as F # for forward method\n",
        "import torch.optim as optim # for optimizer\n",
        "!pip install torchsummary\n",
        "from torchsummary import summary # for model summary and params\n",
        "from tqdm import tqdm # for beautiful model training updates"
      ],
      "execution_count": 1,
      "outputs": [
        {
          "output_type": "stream",
          "name": "stdout",
          "text": [
            "Requirement already satisfied: torchsummary in /usr/local/lib/python3.7/dist-packages (1.5.1)\n"
          ]
        }
      ]
    },
    {
      "cell_type": "markdown",
      "metadata": {
        "id": "0INCUzGmhGNa"
      },
      "source": [
        "Seed and Cuda"
      ]
    },
    {
      "cell_type": "code",
      "metadata": {
        "colab": {
          "base_uri": "https://localhost:8080/"
        },
        "id": "7J3pr8HzhAWm",
        "outputId": "da19d061-125c-42c1-9960-ef8131559397"
      },
      "source": [
        "# check for cuda\n",
        "cuda = torch.cuda.is_available()\n",
        "print (f' Cuda Status : {cuda}')\n",
        "\n",
        "# setting seed\n",
        "SEED = 42 # arbit seed, why 42 - because in hitch hikers guide to galaxy it is answer to everything\n",
        "# torch.cuda.seed(SEED) \n",
        "torch.cuda.manual_seed_all(SEED) if cuda else torch.manual_seed(SEED)"
      ],
      "execution_count": 2,
      "outputs": [
        {
          "output_type": "stream",
          "name": "stdout",
          "text": [
            " Cuda Status : True\n"
          ]
        }
      ]
    },
    {
      "cell_type": "markdown",
      "metadata": {
        "id": "44OF4A2Vim_K"
      },
      "source": [
        "### Downloading dataset, splitting datasets\n",
        "loading dataset"
      ]
    },
    {
      "cell_type": "code",
      "metadata": {
        "colab": {
          "base_uri": "https://localhost:8080/"
        },
        "id": "SzR4-_gpimYO",
        "outputId": "350874ef-84eb-41f5-aa54-203900d2f587"
      },
      "source": [
        "train = datasets.MNIST(\n",
        "    root = './',# directory where data needs to be stored\n",
        "    train = True, # get the training portion of the dataset\n",
        "    download = True, # downloads\n",
        "    transform = transforms.Compose([\n",
        "                  transforms.ToTensor(),# converts to tesnor\n",
        "                  transforms.Normalize((0.1307,), (0.3081,))# Normalize\n",
        "                ])\n",
        "    )\n",
        "\n",
        "test = datasets.MNIST(\n",
        "    root = './',# directory where data needs to be stored\n",
        "    train = False, # get the test portion of the dataset\n",
        "    download = True, # downloads\n",
        "    transform = transforms.Compose([\n",
        "                  transforms.ToTensor(),# converts to tesnor\n",
        "                  transforms.Normalize((0.1307,), (0.3081,))# Normalize\n",
        "                ])\n",
        "    )"
      ],
      "execution_count": 3,
      "outputs": [
        {
          "output_type": "stream",
          "name": "stderr",
          "text": [
            "/usr/local/lib/python3.7/dist-packages/torchvision/datasets/mnist.py:498: UserWarning: The given NumPy array is not writeable, and PyTorch does not support non-writeable tensors. This means you can write to the underlying (supposedly non-writeable) NumPy array using the tensor. You may want to copy the array to protect its data or make it writeable before converting it to a tensor. This type of warning will be suppressed for the rest of this program. (Triggered internally at  /pytorch/torch/csrc/utils/tensor_numpy.cpp:180.)\n",
            "  return torch.from_numpy(parsed.astype(m[2], copy=False)).view(*s)\n"
          ]
        }
      ]
    },
    {
      "cell_type": "markdown",
      "metadata": {
        "id": "xLuDGGQymAJI"
      },
      "source": [
        "Train and Test Dataloader"
      ]
    },
    {
      "cell_type": "code",
      "metadata": {
        "colab": {
          "base_uri": "https://localhost:8080/"
        },
        "id": "NuFFPtkZl6J0",
        "outputId": "608690cd-af3b-4bd8-f8d6-9a99c2b13407"
      },
      "source": [
        "dataloader_args = dict(shuffle=True, batch_size=128, num_workers=4, pin_memory = True) if cuda else dict(shuffle=True, batch_size=64)\n",
        "\n",
        "train_loader = torch.utils.data.DataLoader(\n",
        "    dataset=train,# train dataset\n",
        "    **dataloader_args # the dataloader arguments change dependent on cuda is available or not\n",
        "    )\n",
        "\n",
        "test_loader = torch.utils.data.DataLoader(\n",
        "    dataset = test,# test dataset \n",
        "    **dataloader_args # the dataloader arguments change dependent on cuda is available or not\n",
        ")"
      ],
      "execution_count": 4,
      "outputs": [
        {
          "output_type": "stream",
          "name": "stderr",
          "text": [
            "/usr/local/lib/python3.7/dist-packages/torch/utils/data/dataloader.py:481: UserWarning: This DataLoader will create 4 worker processes in total. Our suggested max number of worker in current system is 2, which is smaller than what this DataLoader is going to create. Please be aware that excessive worker creation might get DataLoader running slow or even freeze, lower the worker number to avoid potential slowness/freeze if necessary.\n",
            "  cpuset_checked))\n"
          ]
        }
      ]
    },
    {
      "cell_type": "markdown",
      "metadata": {
        "id": "O2MxbyBRouUE"
      },
      "source": [
        "Checking Dataloaders\n",
        "- sample data"
      ]
    },
    {
      "cell_type": "code",
      "metadata": {
        "colab": {
          "base_uri": "https://localhost:8080/",
          "height": 371
        },
        "id": "ILUePRUDoz8i",
        "outputId": "fffcade0-21fa-43a8-9073-16a6000572b8"
      },
      "source": [
        "images, labels  = next(iter(train_loader))\n",
        "print(images.shape)\n",
        "print(labels.shape)\n",
        "# printing random image and seeing\n",
        "plt.imshow(images[random.randint(0,len(images))].numpy().squeeze(), cmap='gray_r')"
      ],
      "execution_count": 5,
      "outputs": [
        {
          "output_type": "stream",
          "name": "stderr",
          "text": [
            "/usr/local/lib/python3.7/dist-packages/torch/utils/data/dataloader.py:481: UserWarning: This DataLoader will create 4 worker processes in total. Our suggested max number of worker in current system is 2, which is smaller than what this DataLoader is going to create. Please be aware that excessive worker creation might get DataLoader running slow or even freeze, lower the worker number to avoid potential slowness/freeze if necessary.\n",
            "  cpuset_checked))\n"
          ]
        },
        {
          "output_type": "stream",
          "name": "stdout",
          "text": [
            "torch.Size([128, 1, 28, 28])\n",
            "torch.Size([128])\n"
          ]
        },
        {
          "output_type": "execute_result",
          "data": {
            "text/plain": [
              "<matplotlib.image.AxesImage at 0x7fae69438a10>"
            ]
          },
          "metadata": {},
          "execution_count": 5
        },
        {
          "output_type": "display_data",
          "data": {
            "image/png": "[encoded data removed]",
            "text/plain": [
              "<Figure size 432x288 with 1 Axes>"
            ]
          },
          "metadata": {
            "needs_background": "light"
          }
        }
      ]
    },
    {
      "cell_type": "code",
      "metadata": {
        "colab": {
          "base_uri": "https://localhost:8080/",
          "height": 243
        },
        "id": "-1Qj8PftiVDT",
        "outputId": "d03e36aa-e895-4e42-d7d9-79206f988ac6"
      },
      "source": [
        "# Looking at more images\n",
        "figure = plt.figure()\n",
        "for index in range(1, len(images) + 1): # assumption: batch size would be atleast 8\n",
        "    plt.subplot(8, int(len(images)/8), index)\n",
        "    plt.axis('off')\n",
        "    plt.imshow(images[index-1].numpy().squeeze(), cmap='gray_r')"
      ],
      "execution_count": 6,
      "outputs": [
        {
          "output_type": "display_data",
          "data": {
            "image/png": "[encoded data removed]",
            "text/plain": [
              "<Figure size 432x288 with 128 Axes>"
            ]
          },
          "metadata": {
            "needs_background": "light"
          }
        }
      ]
    },
    {
      "cell_type": "markdown",
      "metadata": {
        "id": "2Eh0KmZyoJy7"
      },
      "source": [
        "### Network"
      ]
    },
    {
      "cell_type": "code",
      "metadata": {
        "id": "-mCXT71boJY5"
      },
      "source": [
        "class Network(nn.Module):\n",
        "  def __init__(self):\n",
        "    super(Network,self).__init__() # extending super class method\n",
        "    \n",
        "    drop_out_value = 0.1\n",
        "\n",
        "    # Input Block\n",
        "    self.convblock1 = nn.Sequential(\n",
        "        nn.Conv2d(1,16,3), # In- 1x28x28, Out- 16x26x26, RF- 3x3, Jump_in -1, Jump_out -1\n",
        "        nn.ReLU(),\n",
        "        nn.BatchNorm2d(16),\n",
        "        nn.Dropout(drop_out_value)\n",
        "    ) \n",
        "\n",
        "    # Conv Block 2\n",
        "    self.convblock2 = nn.Sequential(\n",
        "        nn.Conv2d(16,16,3), # In- 16x26x26, Out- 16x24x24, RF- 5x5, Jump_in -1, Jump_out -1\n",
        "        nn.ReLU(),\n",
        "        nn.BatchNorm2d(16),\n",
        "        nn.Dropout(drop_out_value)\n",
        "    ) \n",
        "\n",
        "    # Conv Block 3\n",
        "    self.convblock3 = nn.Sequential(\n",
        "        nn.Conv2d(16,16,3), # In- 16x24x24, Out- 16x22x22, RF- 7x7, Jump_in -1, Jump_out -1\n",
        "        nn.ReLU(),\n",
        "        nn.BatchNorm2d(16),\n",
        "        nn.Dropout(drop_out_value)\n",
        "    ) \n",
        "\n",
        "    # Transition Block 1 (this also includes a conv block)\n",
        "    self.pool1 = nn.MaxPool2d(kernel_size=2, stride=2) # In- 16x22x22, Out- 16x11x11, RF- 8x8, Jump_in -1, Jump_out -2\n",
        "    # self.convblock4 = nn.Sequential(\n",
        "    #     nn.Conv2d(32,16,1), # In- 32x12x12, Out- 16x12x12, RF- 8x8, Jump_in -2, Jump_out -2\n",
        "    #     nn.ReLU(),\n",
        "    #     nn.BatchNorm2d(16),\n",
        "    #     nn.Dropout(drop_out_value)\n",
        "    # ) \n",
        "\n",
        "    # Conv Block 5\n",
        "    self.convblock5 = nn.Sequential(\n",
        "        nn.Conv2d(16,16,3), # In- 16x11x11, Out- 16x9x9, RF- 12x12, Jump_in -2, Jump_out -2\n",
        "        nn.ReLU(),\n",
        "        nn.BatchNorm2d(16),\n",
        "        nn.Dropout(drop_out_value)\n",
        "    ) \n",
        "\n",
        "    # Conv Block 6\n",
        "    self.convblock6 = nn.Sequential(\n",
        "        nn.Conv2d(16,16,3), # In- 16x9x9, Out- 16x7x7, RF- 16x16, Jump_in -2, Jump_out -2\n",
        "        nn.ReLU(),\n",
        "        nn.BatchNorm2d(16),\n",
        "        nn.Dropout(drop_out_value)\n",
        "    ) \n",
        "\n",
        "    # Output Block\n",
        "    self.convblock7 = nn.Sequential(\n",
        "        nn.Conv2d(16,10,1), # In- 16x7x7, Out- 10x7x7, RF- 16x16, Jump_in -2, Jump_out -2\n",
        "        nn.ReLU(),\n",
        "        nn.BatchNorm2d(10),\n",
        "        nn.Dropout(drop_out_value)\n",
        "    ) \n",
        "\n",
        "    self.gap = nn.AvgPool2d(7) # In- 10x7x7, Out- 10x1x1, RF- 16x16, Jump_in -2, Jump_out -2\n",
        "\n",
        "  \n",
        "  def forward(self,x):\n",
        "\n",
        "    x = self.convblock1(x)\n",
        "    x = self.convblock2(x)\n",
        "    x = self.convblock3(x)\n",
        "\n",
        "    x = self.pool1(x)\n",
        "    # x = self.convblock4(x)\n",
        "    x = self.convblock5(x)\n",
        "    x = self.convblock6(x)\n",
        "\n",
        "    x = self.convblock7(x)\n",
        "    x = self.gap(x)\n",
        "\n",
        "    # Flattening\n",
        "    x = x.view(-1,10)\n",
        "    return F.log_softmax(x,dim=-1)\n",
        "\n",
        "# model = Network()\n",
        "# print(model)"
      ],
      "execution_count": 7,
      "outputs": []
    },
    {
      "cell_type": "markdown",
      "metadata": {
        "id": "4jXc4bV5zuSP"
      },
      "source": [
        "### Model Params\n",
        "  - Checking the model summary and number of parameters"
      ]
    },
    {
      "cell_type": "code",
      "metadata": {
        "colab": {
          "base_uri": "https://localhost:8080/"
        },
        "id": "Z7ozo1mBzstB",
        "outputId": "817423f8-0505-4a37-8df5-9fb5aec122be"
      },
      "source": [
        "device = torch.device(\"cuda\" if cuda else \"cpu\")\n",
        "print(device)\n",
        "model = Network().to(device)\n",
        "# print(model)\n",
        "summary(model, input_size=(1, 28, 28))"
      ],
      "execution_count": 8,
      "outputs": [
        {
          "output_type": "stream",
          "name": "stdout",
          "text": [
            "cuda\n",
            "----------------------------------------------------------------\n",
            "        Layer (type)               Output Shape         Param #\n",
            "================================================================\n",
            "            Conv2d-1           [-1, 16, 26, 26]             160\n",
            "              ReLU-2           [-1, 16, 26, 26]               0\n",
            "       BatchNorm2d-3           [-1, 16, 26, 26]              32\n",
            "           Dropout-4           [-1, 16, 26, 26]               0\n",
            "            Conv2d-5           [-1, 16, 24, 24]           2,320\n",
            "              ReLU-6           [-1, 16, 24, 24]               0\n",
            "       BatchNorm2d-7           [-1, 16, 24, 24]              32\n",
            "           Dropout-8           [-1, 16, 24, 24]               0\n",
            "            Conv2d-9           [-1, 16, 22, 22]           2,320\n",
            "             ReLU-10           [-1, 16, 22, 22]               0\n",
            "      BatchNorm2d-11           [-1, 16, 22, 22]              32\n",
            "          Dropout-12           [-1, 16, 22, 22]               0\n",
            "        MaxPool2d-13           [-1, 16, 11, 11]               0\n",
            "           Conv2d-14             [-1, 16, 9, 9]           2,320\n",
            "             ReLU-15             [-1, 16, 9, 9]               0\n",
            "      BatchNorm2d-16             [-1, 16, 9, 9]              32\n",
            "          Dropout-17             [-1, 16, 9, 9]               0\n",
            "           Conv2d-18             [-1, 16, 7, 7]           2,320\n",
            "             ReLU-19             [-1, 16, 7, 7]               0\n",
            "      BatchNorm2d-20             [-1, 16, 7, 7]              32\n",
            "          Dropout-21             [-1, 16, 7, 7]               0\n",
            "           Conv2d-22             [-1, 10, 7, 7]             170\n",
            "             ReLU-23             [-1, 10, 7, 7]               0\n",
            "      BatchNorm2d-24             [-1, 10, 7, 7]              20\n",
            "          Dropout-25             [-1, 10, 7, 7]               0\n",
            "        AvgPool2d-26             [-1, 10, 1, 1]               0\n",
            "================================================================\n",
            "Total params: 9,790\n",
            "Trainable params: 9,790\n",
            "Non-trainable params: 0\n",
            "----------------------------------------------------------------\n",
            "Input size (MB): 0.00\n",
            "Forward/backward pass size (MB): 0.94\n",
            "Params size (MB): 0.04\n",
            "Estimated Total Size (MB): 0.98\n",
            "----------------------------------------------------------------\n"
          ]
        },
        {
          "output_type": "stream",
          "name": "stderr",
          "text": [
            "/usr/local/lib/python3.7/dist-packages/torch/nn/functional.py:718: UserWarning: Named tensors and all their associated APIs are an experimental feature and subject to change. Please do not use them for anything important until they are released as stable. (Triggered internally at  /pytorch/c10/core/TensorImpl.h:1156.)\n",
            "  return torch.max_pool2d(input, kernel_size, stride, padding, dilation, ceil_mode)\n"
          ]
        }
      ]
    },
    {
      "cell_type": "markdown",
      "metadata": {
        "id": "YfLaULFf2TzM"
      },
      "source": [
        "### Training and Testing\n",
        "- includes test and train functions\n",
        "- includes loop function, where test can happen after each epoch is trained\n"
      ]
    },
    {
      "cell_type": "code",
      "metadata": {
        "id": "cJDX1iZS2TCl"
      },
      "source": [
        "# Training Function\n",
        "train_losses = [] # to capture train losses over training epochs\n",
        "train_accuracy = [] # to capture train accuracy over training epochs\n",
        "\n",
        "def train(model,device, train_loader,optimizer,epoch):\n",
        "  model.train() # setting the model in training mode\n",
        "  pbar = tqdm(train_loader) # putting the iterator in pbar\n",
        "  correct = 0 # for accuracy numerator\n",
        "  processed =0 # for accuracy denominator\n",
        "\n",
        "  for batch_idx, (images,labels) in enumerate(pbar):\n",
        "    images, labels = images.to(device),labels.to(device)#sending data to CPU or GPU as per device\n",
        "    optimizer.zero_grad() # setting gradients to zero to avoid accumulation\n",
        "\n",
        "    y_preds = model(images) # forward pass, result captured in y_preds (plural as there are many images in a batch)\n",
        "    # the predictions are in one hot vector\n",
        "\n",
        "    loss = F.nll_loss(y_preds,labels) # capturing loss\n",
        "    train_losses.append(loss) # to capture loss over many epochs\n",
        "\n",
        "    loss.backward() # backpropagation\n",
        "    optimizer.step() # updating the params\n",
        "\n",
        "    preds = y_preds.argmax(dim=1, keepdim=True)  # get the index of the max log-probability\n",
        "    correct += preds.eq(labels.view_as(preds)).sum().item()\n",
        "    processed += len(images)\n",
        "\n",
        "    pbar.set_description(desc= f'Loss={loss.item()} Batch_id={batch_idx} Accuracy={100*correct/processed:0.2f}')\n",
        "    train_accuracy.append(100*correct/processed)\n"
      ],
      "execution_count": 9,
      "outputs": []
    },
    {
      "cell_type": "code",
      "metadata": {
        "id": "_N0GNPIABiUq"
      },
      "source": [
        "# Test Function\n",
        "test_losses = [] # to capture test losses \n",
        "test_accuracy = [] # to capture test accuracy \n",
        "\n",
        "def test(model,device, test_loader):\n",
        "  model.eval() # setting the model in evaluation mode\n",
        "  test_loss = 0\n",
        "  correct = 0 # for accuracy numerator\n",
        "\n",
        "  with torch.no_grad():\n",
        "    for (images,labels) in test_loader:\n",
        "      images, labels = images.to(device),labels.to(device)#sending data to CPU or GPU as per device\n",
        "      outputs = model(images) # forward pass, result captured in outputs (plural as there are many images in a batch)\n",
        "      # the outputs are in batch size x one hot vector \n",
        "\n",
        "      test_loss = F.nll_loss(outputs,labels, reduction='sum').item()  # sum up batch loss\n",
        "      preds = outputs.argmax(dim=1, keepdim=True)  # get the index of the max log-probability\n",
        "      correct += preds.eq(labels.view_as(preds)).sum().item()\n",
        "\n",
        "    test_loss /= len(test_loader.dataset) # average test loss\n",
        "    test_losses.append(test_loss) # to capture loss over many batches\n",
        "\n",
        "    print('\\nTest set: Average loss: {:.4f}, Accuracy: {}/{} ({:.2f}%)\\n'.format(\n",
        "    test_loss, correct, len(test_loader.dataset),\n",
        "    100. * correct / len(test_loader.dataset)))\n",
        "\n",
        "    test_accuracy.append(100*correct/len(test_loader.dataset))\n"
      ],
      "execution_count": 10,
      "outputs": []
    },
    {
      "cell_type": "code",
      "metadata": {
        "colab": {
          "base_uri": "https://localhost:8080/"
        },
        "id": "nzgGQO3lAY2t",
        "outputId": "771d6b10-7e0c-4eeb-e50f-9c909fa58c9e"
      },
      "source": [
        "model =  Network().to(device)\n",
        "optimizer = optim.SGD(model.parameters(), lr=0.01, momentum=0.9)\n",
        "# EPOCHS = 1\n",
        "EPOCHS = 15\n",
        "for epoch in range(EPOCHS):\n",
        "    print(\"EPOCH:\", epoch)\n",
        "    train(model, device, train_loader, optimizer, epoch)\n",
        "    test(model, device, test_loader)"
      ],
      "execution_count": 11,
      "outputs": [
        {
          "output_type": "stream",
          "name": "stdout",
          "text": [
            "EPOCH: 0\n"
          ]
        },
        {
          "output_type": "stream",
          "name": "stderr",
          "text": [
            "\r  0%|          | 0/469 [00:00<?, ?it/s]/usr/local/lib/python3.7/dist-packages/torch/utils/data/dataloader.py:481: UserWarning: This DataLoader will create 4 worker processes in total. Our suggested max number of worker in current system is 2, which is smaller than what this DataLoader is going to create. Please be aware that excessive worker creation might get DataLoader running slow or even freeze, lower the worker number to avoid potential slowness/freeze if necessary.\n",
            "  cpuset_checked))\n",
            "Loss=0.21151681244373322 Batch_id=468 Accuracy=87.25: 100%|██████████| 469/469 [00:18<00:00, 25.90it/s]\n"
          ]
        },
        {
          "output_type": "stream",
          "name": "stdout",
          "text": [
            "\n",
            "Test set: Average loss: 0.0004, Accuracy: 9576/10000 (95.76%)\n",
            "\n",
            "EPOCH: 1\n"
          ]
        },
        {
          "output_type": "stream",
          "name": "stderr",
          "text": [
            "Loss=0.08219010382890701 Batch_id=468 Accuracy=97.11: 100%|██████████| 469/469 [00:18<00:00, 25.93it/s]\n"
          ]
        },
        {
          "output_type": "stream",
          "name": "stdout",
          "text": [
            "\n",
            "Test set: Average loss: 0.0000, Accuracy: 9784/10000 (97.84%)\n",
            "\n",
            "EPOCH: 2\n"
          ]
        },
        {
          "output_type": "stream",
          "name": "stderr",
          "text": [
            "Loss=0.07982883602380753 Batch_id=468 Accuracy=97.75: 100%|██████████| 469/469 [00:18<00:00, 25.86it/s]\n"
          ]
        },
        {
          "output_type": "stream",
          "name": "stdout",
          "text": [
            "\n",
            "Test set: Average loss: 0.0000, Accuracy: 9840/10000 (98.40%)\n",
            "\n",
            "EPOCH: 3\n"
          ]
        },
        {
          "output_type": "stream",
          "name": "stderr",
          "text": [
            "Loss=0.10052690654993057 Batch_id=468 Accuracy=98.10: 100%|██████████| 469/469 [00:18<00:00, 25.80it/s]\n"
          ]
        },
        {
          "output_type": "stream",
          "name": "stdout",
          "text": [
            "\n",
            "Test set: Average loss: 0.0000, Accuracy: 9786/10000 (97.86%)\n",
            "\n",
            "EPOCH: 4\n"
          ]
        },
        {
          "output_type": "stream",
          "name": "stderr",
          "text": [
            "Loss=0.06855277717113495 Batch_id=468 Accuracy=98.25: 100%|██████████| 469/469 [00:18<00:00, 25.74it/s]\n"
          ]
        },
        {
          "output_type": "stream",
          "name": "stdout",
          "text": [
            "\n",
            "Test set: Average loss: 0.0000, Accuracy: 9827/10000 (98.27%)\n",
            "\n",
            "EPOCH: 5\n"
          ]
        },
        {
          "output_type": "stream",
          "name": "stderr",
          "text": [
            "Loss=0.04078569635748863 Batch_id=468 Accuracy=98.41: 100%|██████████| 469/469 [00:18<00:00, 25.57it/s]\n"
          ]
        },
        {
          "output_type": "stream",
          "name": "stdout",
          "text": [
            "\n",
            "Test set: Average loss: 0.0001, Accuracy: 9860/10000 (98.60%)\n",
            "\n",
            "EPOCH: 6\n"
          ]
        },
        {
          "output_type": "stream",
          "name": "stderr",
          "text": [
            "Loss=0.10612513870000839 Batch_id=468 Accuracy=98.44: 100%|██████████| 469/469 [00:18<00:00, 25.79it/s]\n"
          ]
        },
        {
          "output_type": "stream",
          "name": "stdout",
          "text": [
            "\n",
            "Test set: Average loss: 0.0001, Accuracy: 9865/10000 (98.65%)\n",
            "\n",
            "EPOCH: 7\n"
          ]
        },
        {
          "output_type": "stream",
          "name": "stderr",
          "text": [
            "Loss=0.0534493513405323 Batch_id=468 Accuracy=98.56: 100%|██████████| 469/469 [00:18<00:00, 25.76it/s]\n"
          ]
        },
        {
          "output_type": "stream",
          "name": "stdout",
          "text": [
            "\n",
            "Test set: Average loss: 0.0001, Accuracy: 9881/10000 (98.81%)\n",
            "\n",
            "EPOCH: 8\n"
          ]
        },
        {
          "output_type": "stream",
          "name": "stderr",
          "text": [
            "Loss=0.02756488509476185 Batch_id=468 Accuracy=98.61: 100%|██████████| 469/469 [00:18<00:00, 25.65it/s]\n"
          ]
        },
        {
          "output_type": "stream",
          "name": "stdout",
          "text": [
            "\n",
            "Test set: Average loss: 0.0000, Accuracy: 9866/10000 (98.66%)\n",
            "\n",
            "EPOCH: 9\n"
          ]
        },
        {
          "output_type": "stream",
          "name": "stderr",
          "text": [
            "Loss=0.029136523604393005 Batch_id=468 Accuracy=98.67: 100%|██████████| 469/469 [00:18<00:00, 25.85it/s]\n"
          ]
        },
        {
          "output_type": "stream",
          "name": "stdout",
          "text": [
            "\n",
            "Test set: Average loss: 0.0000, Accuracy: 9894/10000 (98.94%)\n",
            "\n",
            "EPOCH: 10\n"
          ]
        },
        {
          "output_type": "stream",
          "name": "stderr",
          "text": [
            "Loss=0.05651001259684563 Batch_id=468 Accuracy=98.72: 100%|██████████| 469/469 [00:18<00:00, 25.70it/s]\n"
          ]
        },
        {
          "output_type": "stream",
          "name": "stdout",
          "text": [
            "\n",
            "Test set: Average loss: 0.0001, Accuracy: 9900/10000 (99.00%)\n",
            "\n",
            "EPOCH: 11\n"
          ]
        },
        {
          "output_type": "stream",
          "name": "stderr",
          "text": [
            "Loss=0.03191399946808815 Batch_id=468 Accuracy=98.74: 100%|██████████| 469/469 [00:18<00:00, 25.57it/s]\n"
          ]
        },
        {
          "output_type": "stream",
          "name": "stdout",
          "text": [
            "\n",
            "Test set: Average loss: 0.0000, Accuracy: 9882/10000 (98.82%)\n",
            "\n",
            "EPOCH: 12\n"
          ]
        },
        {
          "output_type": "stream",
          "name": "stderr",
          "text": [
            "Loss=0.03196965530514717 Batch_id=468 Accuracy=98.83: 100%|██████████| 469/469 [00:18<00:00, 25.63it/s]\n"
          ]
        },
        {
          "output_type": "stream",
          "name": "stdout",
          "text": [
            "\n",
            "Test set: Average loss: 0.0010, Accuracy: 9889/10000 (98.89%)\n",
            "\n",
            "EPOCH: 13\n"
          ]
        },
        {
          "output_type": "stream",
          "name": "stderr",
          "text": [
            "Loss=0.07428460568189621 Batch_id=468 Accuracy=98.84: 100%|██████████| 469/469 [00:18<00:00, 25.66it/s]\n"
          ]
        },
        {
          "output_type": "stream",
          "name": "stdout",
          "text": [
            "\n",
            "Test set: Average loss: 0.0000, Accuracy: 9899/10000 (98.99%)\n",
            "\n",
            "EPOCH: 14\n"
          ]
        },
        {
          "output_type": "stream",
          "name": "stderr",
          "text": [
            "Loss=0.03907381743192673 Batch_id=468 Accuracy=98.87: 100%|██████████| 469/469 [00:18<00:00, 25.59it/s]\n"
          ]
        },
        {
          "output_type": "stream",
          "name": "stdout",
          "text": [
            "\n",
            "Test set: Average loss: 0.0001, Accuracy: 9894/10000 (98.94%)\n",
            "\n"
          ]
        }
      ]
    },
    {
      "cell_type": "code",
      "metadata": {
        "colab": {
          "base_uri": "https://localhost:8080/",
          "height": 624
        },
        "id": "_2ntHiknO_nE",
        "outputId": "1c629fc7-03b0-4eca-ae72-9a1e7ccfe9c4"
      },
      "source": [
        "# Graphs\n",
        "fig, axs = plt.subplots(2,2,figsize=(15,10))\n",
        "axs[0, 0].plot(train_losses)\n",
        "axs[0, 0].set_title(\"Training Loss\")\n",
        "axs[1, 0].plot(train_accuracy)\n",
        "axs[1, 0].set_title(\"Training Accuracy\")\n",
        "axs[0, 1].plot(test_losses)\n",
        "axs[0, 1].set_title(\"Test Loss\")\n",
        "axs[1, 1].plot(test_accuracy)\n",
        "axs[1, 1].set_title(\"Test Accuracy\")"
      ],
      "execution_count": 12,
      "outputs": [
        {
          "output_type": "execute_result",
          "data": {
            "text/plain": [
              "Text(0.5, 1.0, 'Test Accuracy')"
            ]
          },
          "metadata": {},
          "execution_count": 12
        },
        {
          "output_type": "display_data",
          "data": {
            "image/png": "[encoded data removed]",
            "text/plain": [
              "<Figure size 1080x720 with 4 Axes>"
            ]
          },
          "metadata": {
            "needs_background": "light"
          }
        }
      ]
    },
    {
      "cell_type": "markdown",
      "metadata": {
        "id": "1GvTA_0VJH6e"
      },
      "source": [
        "### Conclusion\n",
        "Experiment Number\t: 3\n",
        "\n",
        "Objective / Target\t\n",
        "1. increase accuracy by increasing number of params\n",
        "\n",
        "\n",
        "Results\t\n",
        "- Parameters: 9,790\n",
        "- Best Train Accuracy: 99.00%\n",
        "- Best Test Accuracy: 98.87%\n",
        "\n",
        "Analysis\t\n",
        "1. Not hitting the accuracy mark\n",
        "2. Overfitting (train - test accuracy) < 0 is largely containted\n",
        "3. Number of params < 10K\n",
        "\n",
        "Next Steps\t\n",
        "- Look to increase accuracy "
      ]
    }
  ]
}