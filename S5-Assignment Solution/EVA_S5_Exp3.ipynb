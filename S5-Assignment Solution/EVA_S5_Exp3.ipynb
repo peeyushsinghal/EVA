{
  "nbformat": 4,
  "nbformat_minor": 0,
  "metadata": {
    "colab": {
      "name": "EVA_S5_Exp3.ipynb",
      "provenance": [],
      "collapsed_sections": [],
      "authorship_tag": "ABX9TyPGTn1B25qcKkCV/VDrqDSA",
      "include_colab_link": true
    },
    "kernelspec": {
      "name": "python3",
      "display_name": "Python 3"
    },
    "language_info": {
      "name": "python"
    },
    "accelerator": "GPU"
  },
  "cells": [
    {
      "cell_type": "markdown",
      "metadata": {
        "id": "view-in-github",
        "colab_type": "text"
      },
      "source": [
        "<a href=\"https://colab.research.google.com/github/peeyushsinghal/EVA/blob/main/S5-Assignment%20Solution/EVA_S5_Exp3.ipynb\" target=\"_parent\"><img src=\"https://colab.research.google.com/assets/colab-badge.svg\" alt=\"Open In Colab\"/></a>"
      ]
    },
    {
      "cell_type": "markdown",
      "metadata": {
        "id": "P9zJUsfthCOd"
      },
      "source": [
        "### Importing Libraries"
      ]
    },
    {
      "cell_type": "code",
      "metadata": {
        "colab": {
          "base_uri": "https://localhost:8080/"
        },
        "id": "kI-gD7_Xg3qk",
        "outputId": "ac754b24-ccd1-4c3c-9d8a-1c4b8fe5c64f"
      },
      "source": [
        "import torch\n",
        "from torchvision import datasets,transforms\n",
        "%matplotlib inline\n",
        "import matplotlib.pyplot as plt # for visualizing images\n",
        "import random # for random image index\n",
        "import torch.nn as nn # for network\n",
        "import torch.nn.functional as F # for forward method\n",
        "import torch.optim as optim # for optimizer\n",
        "!pip install torchsummary\n",
        "from torchsummary import summary # for model summary and params\n",
        "from tqdm import tqdm # for beautiful model training updates"
      ],
      "execution_count": 1,
      "outputs": [
        {
          "output_type": "stream",
          "name": "stdout",
          "text": [
            "Requirement already satisfied: torchsummary in /usr/local/lib/python3.7/dist-packages (1.5.1)\n"
          ]
        }
      ]
    },
    {
      "cell_type": "markdown",
      "metadata": {
        "id": "0INCUzGmhGNa"
      },
      "source": [
        "Seed and Cuda"
      ]
    },
    {
      "cell_type": "code",
      "metadata": {
        "colab": {
          "base_uri": "https://localhost:8080/"
        },
        "id": "7J3pr8HzhAWm",
        "outputId": "f13e12aa-23ee-42f7-aa25-88f77e951384"
      },
      "source": [
        "# check for cuda\n",
        "cuda = torch.cuda.is_available()\n",
        "print (f' Cuda Status : {cuda}')\n",
        "\n",
        "# setting seed\n",
        "SEED = 42 # arbit seed, why 42 - because in hitch hikers guide to galaxy it is answer to everything\n",
        "# torch.cuda.seed(SEED) \n",
        "torch.cuda.manual_seed_all(SEED) if cuda else torch.manual_seed(SEED)"
      ],
      "execution_count": 2,
      "outputs": [
        {
          "output_type": "stream",
          "name": "stdout",
          "text": [
            " Cuda Status : True\n"
          ]
        }
      ]
    },
    {
      "cell_type": "markdown",
      "metadata": {
        "id": "44OF4A2Vim_K"
      },
      "source": [
        "### Downloading dataset, splitting datasets\n",
        "loading dataset"
      ]
    },
    {
      "cell_type": "code",
      "metadata": {
        "colab": {
          "base_uri": "https://localhost:8080/"
        },
        "id": "SzR4-_gpimYO",
        "outputId": "cbe59317-2b0f-434e-bb02-96a0902aa43d"
      },
      "source": [
        "train = datasets.MNIST(\n",
        "    root = './',# directory where data needs to be stored\n",
        "    train = True, # get the training portion of the dataset\n",
        "    download = True, # downloads\n",
        "    transform = transforms.Compose([\n",
        "                  transforms.ToTensor(),# converts to tesnor\n",
        "                  transforms.Normalize((0.1307,), (0.3081,))# Normalize\n",
        "                ])\n",
        "    )\n",
        "\n",
        "test = datasets.MNIST(\n",
        "    root = './',# directory where data needs to be stored\n",
        "    train = False, # get the test portion of the dataset\n",
        "    download = True, # downloads\n",
        "    transform = transforms.Compose([\n",
        "                  transforms.ToTensor(),# converts to tesnor\n",
        "                  transforms.Normalize((0.1307,), (0.3081,))# Normalize\n",
        "                ])\n",
        "    )"
      ],
      "execution_count": 3,
      "outputs": [
        {
          "output_type": "stream",
          "name": "stderr",
          "text": [
            "/usr/local/lib/python3.7/dist-packages/torchvision/datasets/mnist.py:498: UserWarning: The given NumPy array is not writeable, and PyTorch does not support non-writeable tensors. This means you can write to the underlying (supposedly non-writeable) NumPy array using the tensor. You may want to copy the array to protect its data or make it writeable before converting it to a tensor. This type of warning will be suppressed for the rest of this program. (Triggered internally at  /pytorch/torch/csrc/utils/tensor_numpy.cpp:180.)\n",
            "  return torch.from_numpy(parsed.astype(m[2], copy=False)).view(*s)\n"
          ]
        }
      ]
    },
    {
      "cell_type": "markdown",
      "metadata": {
        "id": "xLuDGGQymAJI"
      },
      "source": [
        "Train and Test Dataloader"
      ]
    },
    {
      "cell_type": "code",
      "metadata": {
        "colab": {
          "base_uri": "https://localhost:8080/"
        },
        "id": "NuFFPtkZl6J0",
        "outputId": "5939c95e-4181-4e40-dadf-72be1f6104dc"
      },
      "source": [
        "dataloader_args = dict(shuffle=True, batch_size=128, num_workers=4, pin_memory = True) if cuda else dict(shuffle=True, batch_size=64)\n",
        "\n",
        "train_loader = torch.utils.data.DataLoader(\n",
        "    dataset=train,# train dataset\n",
        "    **dataloader_args # the dataloader arguments change dependent on cuda is available or not\n",
        "    )\n",
        "\n",
        "test_loader = torch.utils.data.DataLoader(\n",
        "    dataset = test,# test dataset \n",
        "    **dataloader_args # the dataloader arguments change dependent on cuda is available or not\n",
        ")"
      ],
      "execution_count": 4,
      "outputs": [
        {
          "output_type": "stream",
          "name": "stderr",
          "text": [
            "/usr/local/lib/python3.7/dist-packages/torch/utils/data/dataloader.py:481: UserWarning: This DataLoader will create 4 worker processes in total. Our suggested max number of worker in current system is 2, which is smaller than what this DataLoader is going to create. Please be aware that excessive worker creation might get DataLoader running slow or even freeze, lower the worker number to avoid potential slowness/freeze if necessary.\n",
            "  cpuset_checked))\n"
          ]
        }
      ]
    },
    {
      "cell_type": "markdown",
      "metadata": {
        "id": "O2MxbyBRouUE"
      },
      "source": [
        "Checking Dataloaders\n",
        "- sample data"
      ]
    },
    {
      "cell_type": "code",
      "metadata": {
        "colab": {
          "base_uri": "https://localhost:8080/",
          "height": 371
        },
        "id": "ILUePRUDoz8i",
        "outputId": "1884ef67-9a6d-4b3a-dd7f-6be071a32505"
      },
      "source": [
        "images, labels  = next(iter(train_loader))\n",
        "print(images.shape)\n",
        "print(labels.shape)\n",
        "# printing random image and seeing\n",
        "plt.imshow(images[random.randint(0,len(images))].numpy().squeeze(), cmap='gray_r')"
      ],
      "execution_count": 5,
      "outputs": [
        {
          "output_type": "stream",
          "name": "stderr",
          "text": [
            "/usr/local/lib/python3.7/dist-packages/torch/utils/data/dataloader.py:481: UserWarning: This DataLoader will create 4 worker processes in total. Our suggested max number of worker in current system is 2, which is smaller than what this DataLoader is going to create. Please be aware that excessive worker creation might get DataLoader running slow or even freeze, lower the worker number to avoid potential slowness/freeze if necessary.\n",
            "  cpuset_checked))\n"
          ]
        },
        {
          "output_type": "stream",
          "name": "stdout",
          "text": [
            "torch.Size([128, 1, 28, 28])\n",
            "torch.Size([128])\n"
          ]
        },
        {
          "output_type": "execute_result",
          "data": {
            "text/plain": [
              "<matplotlib.image.AxesImage at 0x7f354a77a950>"
            ]
          },
          "metadata": {},
          "execution_count": 5
        },
        {
          "output_type": "display_data",
          "data": {
            "image/png": "[encoded data removed]",
            "text/plain": [
              "<Figure size 432x288 with 1 Axes>"
            ]
          },
          "metadata": {
            "needs_background": "light"
          }
        }
      ]
    },
    {
      "cell_type": "code",
      "metadata": {
        "colab": {
          "base_uri": "https://localhost:8080/",
          "height": 243
        },
        "id": "-1Qj8PftiVDT",
        "outputId": "b1dd1df4-8678-45b2-cd02-a4e48a7cbcb2"
      },
      "source": [
        "# Looking at more images\n",
        "figure = plt.figure()\n",
        "for index in range(1, len(images) + 1): # assumption: batch size would be atleast 8\n",
        "    plt.subplot(8, int(len(images)/8), index)\n",
        "    plt.axis('off')\n",
        "    plt.imshow(images[index-1].numpy().squeeze(), cmap='gray_r')"
      ],
      "execution_count": 6,
      "outputs": [
        {
          "output_type": "display_data",
          "data": {
            "image/png": "[encoded data removed]",
            "text/plain": [
              "<Figure size 432x288 with 128 Axes>"
            ]
          },
          "metadata": {
            "needs_background": "light"
          }
        }
      ]
    },
    {
      "cell_type": "markdown",
      "metadata": {
        "id": "2Eh0KmZyoJy7"
      },
      "source": [
        "### Network"
      ]
    },
    {
      "cell_type": "code",
      "metadata": {
        "id": "-mCXT71boJY5"
      },
      "source": [
        "class Network(nn.Module):\n",
        "  def __init__(self):\n",
        "    super(Network,self).__init__() # extending super class method\n",
        "    \n",
        "    drop_out_value = 0.1\n",
        "\n",
        "    # Input Block\n",
        "    self.convblock1 = nn.Sequential(\n",
        "        nn.Conv2d(1,16,3), # In- 1x28x28, Out- 16x26x26, RF- 3x3, Jump_in -1, Jump_out -1\n",
        "        nn.ReLU(),\n",
        "        nn.BatchNorm2d(16),\n",
        "        nn.Dropout(drop_out_value)\n",
        "    ) \n",
        "\n",
        "    # Conv Block 2\n",
        "    self.convblock2 = nn.Sequential(\n",
        "        nn.Conv2d(16,32,3), # In- 16x26x26, Out- 32x24x24, RF- 5x5, Jump_in -1, Jump_out -1\n",
        "        nn.ReLU(),\n",
        "        nn.BatchNorm2d(32),\n",
        "        nn.Dropout(drop_out_value)\n",
        "    ) \n",
        "\n",
        "    # # Conv Block 3\n",
        "    # self.convblock3 = nn.Sequential(\n",
        "    #     nn.Conv2d(16,32,3), # In- 16x24x24, Out- 16x22x22, RF- 7x7, Jump_in -1, Jump_out -1\n",
        "    #     nn.ReLU(),\n",
        "    #     nn.BatchNorm2d(32),\n",
        "    #     nn.Dropout(drop_out_value)\n",
        "    # ) \n",
        "\n",
        "    # Transition Block 1 (this also includes a conv block)\n",
        "    self.pool1 = nn.MaxPool2d(kernel_size=2, stride=2) # In- 32x24x24, Out- 32x12x12, RF- 8x8, Jump_in -1, Jump_out -2\n",
        "    self.convblock4 = nn.Sequential(\n",
        "        nn.Conv2d(32,16,1), # In- 32x12x12, Out- 16x12x12, RF- 8x8, Jump_in -2, Jump_out -2\n",
        "        nn.ReLU(),\n",
        "        nn.BatchNorm2d(16),\n",
        "        nn.Dropout(drop_out_value)\n",
        "    ) \n",
        "\n",
        "    # # Conv Block 5\n",
        "    # self.convblock5 = nn.Sequential(\n",
        "    #     nn.Conv2d(16,16,3), # In- 16x12x12, Out- 16x10x10, RF- 12x12, Jump_in -2, Jump_out -2\n",
        "    #     nn.ReLU(),\n",
        "    #     nn.BatchNorm2d(16),\n",
        "    #     nn.Dropout(drop_out_value)\n",
        "    # ) \n",
        "\n",
        "    # Conv Block 6\n",
        "    self.convblock6 = nn.Sequential(\n",
        "        nn.Conv2d(16,32,3), # In- 16x12x12, Out- 32x10x10, RF- 16x16, Jump_in -2, Jump_out -2\n",
        "        nn.ReLU(),\n",
        "        nn.BatchNorm2d(32),\n",
        "        nn.Dropout(drop_out_value)\n",
        "    ) \n",
        "\n",
        "    # Output Block\n",
        "    self.convblock7 = nn.Sequential(\n",
        "        nn.Conv2d(32,10,1), # In- 32x10x10, Out- 10x10x10, RF- 16x16, Jump_in -2, Jump_out -2\n",
        "        nn.ReLU(),\n",
        "        nn.BatchNorm2d(10),\n",
        "        nn.Dropout(drop_out_value)\n",
        "    ) \n",
        "\n",
        "    self.gap = nn.AvgPool2d(10) # In- 10x10x10, Out- 10x1x1, RF- 28x28, Jump_in -2, Jump_out -2\n",
        "\n",
        "  \n",
        "  def forward(self,x):\n",
        "\n",
        "    x = self.convblock1(x)\n",
        "    x = self.convblock2(x)\n",
        "    # x = self.convblock3(x)\n",
        "\n",
        "    x = self.pool1(x)\n",
        "    x = self.convblock4(x)\n",
        "    # x = self.convblock5(x)\n",
        "    x = self.convblock6(x)\n",
        "\n",
        "    x = self.convblock7(x)\n",
        "    x = self.gap(x)\n",
        "\n",
        "    # Flattening\n",
        "    x = x.view(-1,10)\n",
        "    return F.log_softmax(x,dim=-1)\n",
        "\n",
        "# model = Network()\n",
        "# print(model)"
      ],
      "execution_count": 7,
      "outputs": []
    },
    {
      "cell_type": "markdown",
      "metadata": {
        "id": "4jXc4bV5zuSP"
      },
      "source": [
        "### Model Params\n",
        "  - Checking the model summary and number of parameters"
      ]
    },
    {
      "cell_type": "code",
      "metadata": {
        "colab": {
          "base_uri": "https://localhost:8080/"
        },
        "id": "Z7ozo1mBzstB",
        "outputId": "6325eb1a-98bc-4ae1-e68e-a3cf478e0ce6"
      },
      "source": [
        "device = torch.device(\"cuda\" if cuda else \"cpu\")\n",
        "print(device)\n",
        "model = Network().to(device)\n",
        "# print(model)\n",
        "summary(model, input_size=(1, 28, 28))"
      ],
      "execution_count": 8,
      "outputs": [
        {
          "output_type": "stream",
          "name": "stdout",
          "text": [
            "cuda\n",
            "----------------------------------------------------------------\n",
            "        Layer (type)               Output Shape         Param #\n",
            "================================================================\n",
            "            Conv2d-1           [-1, 16, 26, 26]             160\n",
            "              ReLU-2           [-1, 16, 26, 26]               0\n",
            "       BatchNorm2d-3           [-1, 16, 26, 26]              32\n",
            "           Dropout-4           [-1, 16, 26, 26]               0\n",
            "            Conv2d-5           [-1, 32, 24, 24]           4,640\n",
            "              ReLU-6           [-1, 32, 24, 24]               0\n",
            "       BatchNorm2d-7           [-1, 32, 24, 24]              64\n",
            "           Dropout-8           [-1, 32, 24, 24]               0\n",
            "         MaxPool2d-9           [-1, 32, 12, 12]               0\n",
            "           Conv2d-10           [-1, 16, 12, 12]             528\n",
            "             ReLU-11           [-1, 16, 12, 12]               0\n",
            "      BatchNorm2d-12           [-1, 16, 12, 12]              32\n",
            "          Dropout-13           [-1, 16, 12, 12]               0\n",
            "           Conv2d-14           [-1, 32, 10, 10]           4,640\n",
            "             ReLU-15           [-1, 32, 10, 10]               0\n",
            "      BatchNorm2d-16           [-1, 32, 10, 10]              64\n",
            "          Dropout-17           [-1, 32, 10, 10]               0\n",
            "           Conv2d-18           [-1, 10, 10, 10]             330\n",
            "             ReLU-19           [-1, 10, 10, 10]               0\n",
            "      BatchNorm2d-20           [-1, 10, 10, 10]              20\n",
            "          Dropout-21           [-1, 10, 10, 10]               0\n",
            "        AvgPool2d-22             [-1, 10, 1, 1]               0\n",
            "================================================================\n",
            "Total params: 10,510\n",
            "Trainable params: 10,510\n",
            "Non-trainable params: 0\n",
            "----------------------------------------------------------------\n",
            "Input size (MB): 0.00\n",
            "Forward/backward pass size (MB): 1.13\n",
            "Params size (MB): 0.04\n",
            "Estimated Total Size (MB): 1.17\n",
            "----------------------------------------------------------------\n"
          ]
        },
        {
          "output_type": "stream",
          "name": "stderr",
          "text": [
            "/usr/local/lib/python3.7/dist-packages/torch/nn/functional.py:718: UserWarning: Named tensors and all their associated APIs are an experimental feature and subject to change. Please do not use them for anything important until they are released as stable. (Triggered internally at  /pytorch/c10/core/TensorImpl.h:1156.)\n",
            "  return torch.max_pool2d(input, kernel_size, stride, padding, dilation, ceil_mode)\n"
          ]
        }
      ]
    },
    {
      "cell_type": "markdown",
      "metadata": {
        "id": "YfLaULFf2TzM"
      },
      "source": [
        "### Training and Testing\n",
        "- includes test and train functions\n",
        "- includes loop function, where test can happen after each epoch is trained\n"
      ]
    },
    {
      "cell_type": "code",
      "metadata": {
        "id": "cJDX1iZS2TCl"
      },
      "source": [
        "# Training Function\n",
        "train_losses = [] # to capture train losses over training epochs\n",
        "train_accuracy = [] # to capture train accuracy over training epochs\n",
        "\n",
        "def train(model,device, train_loader,optimizer,epoch):\n",
        "  model.train() # setting the model in training mode\n",
        "  pbar = tqdm(train_loader) # putting the iterator in pbar\n",
        "  correct = 0 # for accuracy numerator\n",
        "  processed =0 # for accuracy denominator\n",
        "\n",
        "  for batch_idx, (images,labels) in enumerate(pbar):\n",
        "    images, labels = images.to(device),labels.to(device)#sending data to CPU or GPU as per device\n",
        "    optimizer.zero_grad() # setting gradients to zero to avoid accumulation\n",
        "\n",
        "    y_preds = model(images) # forward pass, result captured in y_preds (plural as there are many images in a batch)\n",
        "    # the predictions are in one hot vector\n",
        "\n",
        "    loss = F.nll_loss(y_preds,labels) # capturing loss\n",
        "    train_losses.append(loss) # to capture loss over many epochs\n",
        "\n",
        "    loss.backward() # backpropagation\n",
        "    optimizer.step() # updating the params\n",
        "\n",
        "    preds = y_preds.argmax(dim=1, keepdim=True)  # get the index of the max log-probability\n",
        "    correct += preds.eq(labels.view_as(preds)).sum().item()\n",
        "    processed += len(images)\n",
        "\n",
        "    pbar.set_description(desc= f'Loss={loss.item()} Batch_id={batch_idx} Accuracy={100*correct/processed:0.2f}')\n",
        "    train_accuracy.append(100*correct/processed)\n"
      ],
      "execution_count": 9,
      "outputs": []
    },
    {
      "cell_type": "code",
      "metadata": {
        "id": "_N0GNPIABiUq"
      },
      "source": [
        "# Test Function\n",
        "test_losses = [] # to capture test losses \n",
        "test_accuracy = [] # to capture test accuracy \n",
        "\n",
        "def test(model,device, test_loader):\n",
        "  model.eval() # setting the model in evaluation mode\n",
        "  test_loss = 0\n",
        "  correct = 0 # for accuracy numerator\n",
        "\n",
        "  with torch.no_grad():\n",
        "    for (images,labels) in test_loader:\n",
        "      images, labels = images.to(device),labels.to(device)#sending data to CPU or GPU as per device\n",
        "      outputs = model(images) # forward pass, result captured in outputs (plural as there are many images in a batch)\n",
        "      # the outputs are in batch size x one hot vector \n",
        "\n",
        "      test_loss = F.nll_loss(outputs,labels, reduction='sum').item()  # sum up batch loss\n",
        "      preds = outputs.argmax(dim=1, keepdim=True)  # get the index of the max log-probability\n",
        "      correct += preds.eq(labels.view_as(preds)).sum().item()\n",
        "\n",
        "    test_loss /= len(test_loader.dataset) # average test loss\n",
        "    test_losses.append(test_loss) # to capture loss over many batches\n",
        "\n",
        "    print('\\nTest set: Average loss: {:.4f}, Accuracy: {}/{} ({:.2f}%)\\n'.format(\n",
        "    test_loss, correct, len(test_loader.dataset),\n",
        "    100. * correct / len(test_loader.dataset)))\n",
        "\n",
        "    test_accuracy.append(100*correct/len(test_loader.dataset))\n"
      ],
      "execution_count": 10,
      "outputs": []
    },
    {
      "cell_type": "code",
      "metadata": {
        "colab": {
          "base_uri": "https://localhost:8080/"
        },
        "id": "nzgGQO3lAY2t",
        "outputId": "0943049f-0915-406b-e33a-a251fe16dc5f"
      },
      "source": [
        "model =  Network().to(device)\n",
        "optimizer = optim.SGD(model.parameters(), lr=0.01, momentum=0.9)\n",
        "# EPOCHS = 1\n",
        "EPOCHS = 15\n",
        "for epoch in range(EPOCHS):\n",
        "    print(\"EPOCH:\", epoch)\n",
        "    train(model, device, train_loader, optimizer, epoch)\n",
        "    test(model, device, test_loader)"
      ],
      "execution_count": 11,
      "outputs": [
        {
          "output_type": "stream",
          "name": "stdout",
          "text": [
            "EPOCH: 0\n"
          ]
        },
        {
          "output_type": "stream",
          "name": "stderr",
          "text": [
            "\r  0%|          | 0/469 [00:00<?, ?it/s]/usr/local/lib/python3.7/dist-packages/torch/utils/data/dataloader.py:481: UserWarning: This DataLoader will create 4 worker processes in total. Our suggested max number of worker in current system is 2, which is smaller than what this DataLoader is going to create. Please be aware that excessive worker creation might get DataLoader running slow or even freeze, lower the worker number to avoid potential slowness/freeze if necessary.\n",
            "  cpuset_checked))\n",
            "Loss=0.6147071719169617 Batch_id=468 Accuracy=78.30: 100%|██████████| 469/469 [00:17<00:00, 27.34it/s]\n"
          ]
        },
        {
          "output_type": "stream",
          "name": "stdout",
          "text": [
            "\n",
            "Test set: Average loss: 0.0010, Accuracy: 9039/10000 (90.39%)\n",
            "\n",
            "EPOCH: 1\n"
          ]
        },
        {
          "output_type": "stream",
          "name": "stderr",
          "text": [
            "Loss=0.3662554919719696 Batch_id=468 Accuracy=93.82: 100%|██████████| 469/469 [00:17<00:00, 27.11it/s]\n"
          ]
        },
        {
          "output_type": "stream",
          "name": "stdout",
          "text": [
            "\n",
            "Test set: Average loss: 0.0006, Accuracy: 9544/10000 (95.44%)\n",
            "\n",
            "EPOCH: 2\n"
          ]
        },
        {
          "output_type": "stream",
          "name": "stderr",
          "text": [
            "Loss=0.2034599781036377 Batch_id=468 Accuracy=95.71: 100%|██████████| 469/469 [00:17<00:00, 27.32it/s]\n"
          ]
        },
        {
          "output_type": "stream",
          "name": "stdout",
          "text": [
            "\n",
            "Test set: Average loss: 0.0005, Accuracy: 9671/10000 (96.71%)\n",
            "\n",
            "EPOCH: 3\n"
          ]
        },
        {
          "output_type": "stream",
          "name": "stderr",
          "text": [
            "Loss=0.21280808746814728 Batch_id=468 Accuracy=96.50: 100%|██████████| 469/469 [00:17<00:00, 26.94it/s]\n"
          ]
        },
        {
          "output_type": "stream",
          "name": "stdout",
          "text": [
            "\n",
            "Test set: Average loss: 0.0002, Accuracy: 9679/10000 (96.79%)\n",
            "\n",
            "EPOCH: 4\n"
          ]
        },
        {
          "output_type": "stream",
          "name": "stderr",
          "text": [
            "Loss=0.165997713804245 Batch_id=468 Accuracy=96.83: 100%|██████████| 469/469 [00:17<00:00, 27.03it/s]\n"
          ]
        },
        {
          "output_type": "stream",
          "name": "stdout",
          "text": [
            "\n",
            "Test set: Average loss: 0.0001, Accuracy: 9712/10000 (97.12%)\n",
            "\n",
            "EPOCH: 5\n"
          ]
        },
        {
          "output_type": "stream",
          "name": "stderr",
          "text": [
            "Loss=0.1712879091501236 Batch_id=468 Accuracy=97.19: 100%|██████████| 469/469 [00:17<00:00, 26.73it/s]\n"
          ]
        },
        {
          "output_type": "stream",
          "name": "stdout",
          "text": [
            "\n",
            "Test set: Average loss: 0.0002, Accuracy: 9792/10000 (97.92%)\n",
            "\n",
            "EPOCH: 6\n"
          ]
        },
        {
          "output_type": "stream",
          "name": "stderr",
          "text": [
            "Loss=0.14947541058063507 Batch_id=468 Accuracy=97.31: 100%|██████████| 469/469 [00:17<00:00, 26.87it/s]\n"
          ]
        },
        {
          "output_type": "stream",
          "name": "stdout",
          "text": [
            "\n",
            "Test set: Average loss: 0.0002, Accuracy: 9757/10000 (97.57%)\n",
            "\n",
            "EPOCH: 7\n"
          ]
        },
        {
          "output_type": "stream",
          "name": "stderr",
          "text": [
            "Loss=0.21666191518306732 Batch_id=468 Accuracy=97.47: 100%|██████████| 469/469 [00:17<00:00, 27.24it/s]\n"
          ]
        },
        {
          "output_type": "stream",
          "name": "stdout",
          "text": [
            "\n",
            "Test set: Average loss: 0.0000, Accuracy: 9802/10000 (98.02%)\n",
            "\n",
            "EPOCH: 8\n"
          ]
        },
        {
          "output_type": "stream",
          "name": "stderr",
          "text": [
            "Loss=0.14302600920200348 Batch_id=468 Accuracy=97.70: 100%|██████████| 469/469 [00:17<00:00, 26.99it/s]\n"
          ]
        },
        {
          "output_type": "stream",
          "name": "stdout",
          "text": [
            "\n",
            "Test set: Average loss: 0.0001, Accuracy: 9764/10000 (97.64%)\n",
            "\n",
            "EPOCH: 9\n"
          ]
        },
        {
          "output_type": "stream",
          "name": "stderr",
          "text": [
            "Loss=0.10011270642280579 Batch_id=468 Accuracy=97.77: 100%|██████████| 469/469 [00:17<00:00, 26.95it/s]\n"
          ]
        },
        {
          "output_type": "stream",
          "name": "stdout",
          "text": [
            "\n",
            "Test set: Average loss: 0.0000, Accuracy: 9825/10000 (98.25%)\n",
            "\n",
            "EPOCH: 10\n"
          ]
        },
        {
          "output_type": "stream",
          "name": "stderr",
          "text": [
            "Loss=0.14790251851081848 Batch_id=468 Accuracy=97.89: 100%|██████████| 469/469 [00:17<00:00, 26.90it/s]\n"
          ]
        },
        {
          "output_type": "stream",
          "name": "stdout",
          "text": [
            "\n",
            "Test set: Average loss: 0.0000, Accuracy: 9842/10000 (98.42%)\n",
            "\n",
            "EPOCH: 11\n"
          ]
        },
        {
          "output_type": "stream",
          "name": "stderr",
          "text": [
            "Loss=0.09944399446249008 Batch_id=468 Accuracy=97.96: 100%|██████████| 469/469 [00:17<00:00, 26.81it/s]\n"
          ]
        },
        {
          "output_type": "stream",
          "name": "stdout",
          "text": [
            "\n",
            "Test set: Average loss: 0.0002, Accuracy: 9826/10000 (98.26%)\n",
            "\n",
            "EPOCH: 12\n"
          ]
        },
        {
          "output_type": "stream",
          "name": "stderr",
          "text": [
            "Loss=0.0623021237552166 Batch_id=468 Accuracy=98.03: 100%|██████████| 469/469 [00:17<00:00, 26.90it/s]\n"
          ]
        },
        {
          "output_type": "stream",
          "name": "stdout",
          "text": [
            "\n",
            "Test set: Average loss: 0.0001, Accuracy: 9847/10000 (98.47%)\n",
            "\n",
            "EPOCH: 13\n"
          ]
        },
        {
          "output_type": "stream",
          "name": "stderr",
          "text": [
            "Loss=0.06283750385046005 Batch_id=468 Accuracy=98.13: 100%|██████████| 469/469 [00:17<00:00, 26.81it/s]\n"
          ]
        },
        {
          "output_type": "stream",
          "name": "stdout",
          "text": [
            "\n",
            "Test set: Average loss: 0.0001, Accuracy: 9840/10000 (98.40%)\n",
            "\n",
            "EPOCH: 14\n"
          ]
        },
        {
          "output_type": "stream",
          "name": "stderr",
          "text": [
            "Loss=0.05603672191500664 Batch_id=468 Accuracy=98.12: 100%|██████████| 469/469 [00:17<00:00, 26.70it/s]\n"
          ]
        },
        {
          "output_type": "stream",
          "name": "stdout",
          "text": [
            "\n",
            "Test set: Average loss: 0.0000, Accuracy: 9831/10000 (98.31%)\n",
            "\n"
          ]
        }
      ]
    },
    {
      "cell_type": "code",
      "metadata": {
        "colab": {
          "base_uri": "https://localhost:8080/",
          "height": 624
        },
        "id": "_2ntHiknO_nE",
        "outputId": "7aef152d-e7b5-403d-94af-080b6f16eb73"
      },
      "source": [
        "# Graphs\n",
        "fig, axs = plt.subplots(2,2,figsize=(15,10))\n",
        "axs[0, 0].plot(train_losses)\n",
        "axs[0, 0].set_title(\"Training Loss\")\n",
        "axs[1, 0].plot(train_accuracy)\n",
        "axs[1, 0].set_title(\"Training Accuracy\")\n",
        "axs[0, 1].plot(test_losses)\n",
        "axs[0, 1].set_title(\"Test Loss\")\n",
        "axs[1, 1].plot(test_accuracy)\n",
        "axs[1, 1].set_title(\"Test Accuracy\")"
      ],
      "execution_count": 12,
      "outputs": [
        {
          "output_type": "execute_result",
          "data": {
            "text/plain": [
              "Text(0.5, 1.0, 'Test Accuracy')"
            ]
          },
          "metadata": {},
          "execution_count": 12
        },
        {
          "output_type": "display_data",
          "data": {
            "image/png": "[encoded data removed]",
            "text/plain": [
              "<Figure size 1080x720 with 4 Axes>"
            ]
          },
          "metadata": {
            "needs_background": "light"
          }
        }
      ]
    },
    {
      "cell_type": "markdown",
      "metadata": {
        "id": "1GvTA_0VJH6e"
      },
      "source": [
        "### Conclusion\n",
        "Experiment Number\t: 3\n",
        "\n",
        "Objective / Target\t\n",
        "1. increase accuracy by increasing number of params\n",
        "\n",
        "\n",
        "Results\t\n",
        "- Parameters: 10,510\n",
        "- Best Train Accuracy: 98.47 %\n",
        "- Best Test Accuracy: 98.13 %\n",
        "\n",
        "Analysis\t\n",
        "1. Not hitting the accuracy mark\n",
        "2. Overfitting (train - test accuracy) < 0 is largely containted\n",
        "3. Number of params > 10K\n",
        "\n",
        "Next Steps\t\n",
        "- Look to increase accuracy "
      ]
    }
  ]
}