{
  "nbformat": 4,
  "nbformat_minor": 0,
  "metadata": {
    "kernelspec": {
      "name": "python3",
      "display_name": "Python 3"
    },
    "language_info": {
      "codemirror_mode": {
        "name": "ipython",
        "version": 3
      },
      "file_extension": ".py",
      "mimetype": "text/x-python",
      "name": "python",
      "nbconvert_exporter": "python",
      "pygments_lexer": "ipython3",
      "version": "3.6.6"
    },
    "colab": {
      "name": "EVA_S7.ipynb",
      "provenance": [],
      "include_colab_link": true
    },
    "widgets": {
      "application/vnd.jupyter.widget-state+json": {
        "52bdb50903134c06914e27b89bad1799": {
          "model_module": "@jupyter-widgets/controls",
          "model_name": "HBoxModel",
          "model_module_version": "1.5.0",
          "state": {
            "_view_name": "HBoxView",
            "_dom_classes": [],
            "_model_name": "HBoxModel",
            "_view_module": "@jupyter-widgets/controls",
            "_model_module_version": "1.5.0",
            "_view_count": null,
            "_view_module_version": "1.5.0",
            "box_style": "",
            "layout": "IPY_MODEL_c98f481720e9416985af61d51bb10231",
            "_model_module": "@jupyter-widgets/controls",
            "children": [
              "IPY_MODEL_367594fef9e74b32b433b67cd74b3d95",
              "IPY_MODEL_a9ebd16640c845c38ec311704fb05704",
              "IPY_MODEL_d4ce878be76841d19842787614ddb473"
            ]
          }
        },
        "c98f481720e9416985af61d51bb10231": {
          "model_module": "@jupyter-widgets/base",
          "model_name": "LayoutModel",
          "model_module_version": "1.2.0",
          "state": {
            "_view_name": "LayoutView",
            "grid_template_rows": null,
            "right": null,
            "justify_content": null,
            "_view_module": "@jupyter-widgets/base",
            "overflow": null,
            "_model_module_version": "1.2.0",
            "_view_count": null,
            "flex_flow": null,
            "width": null,
            "min_width": null,
            "border": null,
            "align_items": null,
            "bottom": null,
            "_model_module": "@jupyter-widgets/base",
            "top": null,
            "grid_column": null,
            "overflow_y": null,
            "overflow_x": null,
            "grid_auto_flow": null,
            "grid_area": null,
            "grid_template_columns": null,
            "flex": null,
            "_model_name": "LayoutModel",
            "justify_items": null,
            "grid_row": null,
            "max_height": null,
            "align_content": null,
            "visibility": null,
            "align_self": null,
            "height": null,
            "min_height": null,
            "padding": null,
            "grid_auto_rows": null,
            "grid_gap": null,
            "max_width": null,
            "order": null,
            "_view_module_version": "1.2.0",
            "grid_template_areas": null,
            "object_position": null,
            "object_fit": null,
            "grid_auto_columns": null,
            "margin": null,
            "display": null,
            "left": null
          }
        },
        "367594fef9e74b32b433b67cd74b3d95": {
          "model_module": "@jupyter-widgets/controls",
          "model_name": "HTMLModel",
          "model_module_version": "1.5.0",
          "state": {
            "_view_name": "HTMLView",
            "style": "IPY_MODEL_72268cf123d044f6ac335238506b3794",
            "_dom_classes": [],
            "description": "",
            "_model_name": "HTMLModel",
            "placeholder": "​",
            "_view_module": "@jupyter-widgets/controls",
            "_model_module_version": "1.5.0",
            "value": "",
            "_view_count": null,
            "_view_module_version": "1.5.0",
            "description_tooltip": null,
            "_model_module": "@jupyter-widgets/controls",
            "layout": "IPY_MODEL_0e96978219444a8b9516590ed7c8b8b0"
          }
        },
        "a9ebd16640c845c38ec311704fb05704": {
          "model_module": "@jupyter-widgets/controls",
          "model_name": "FloatProgressModel",
          "model_module_version": "1.5.0",
          "state": {
            "_view_name": "ProgressView",
            "style": "IPY_MODEL_417c6a5e1bfb49dfa04fff9dd69cce7b",
            "_dom_classes": [],
            "description": "",
            "_model_name": "FloatProgressModel",
            "bar_style": "success",
            "max": 170498071,
            "_view_module": "@jupyter-widgets/controls",
            "_model_module_version": "1.5.0",
            "value": 170498071,
            "_view_count": null,
            "_view_module_version": "1.5.0",
            "orientation": "horizontal",
            "min": 0,
            "description_tooltip": null,
            "_model_module": "@jupyter-widgets/controls",
            "layout": "IPY_MODEL_e7476f9460564c91b2604047ca563457"
          }
        },
        "d4ce878be76841d19842787614ddb473": {
          "model_module": "@jupyter-widgets/controls",
          "model_name": "HTMLModel",
          "model_module_version": "1.5.0",
          "state": {
            "_view_name": "HTMLView",
            "style": "IPY_MODEL_9e4172a94b1245efb4cd94f2d3666eef",
            "_dom_classes": [],
            "description": "",
            "_model_name": "HTMLModel",
            "placeholder": "​",
            "_view_module": "@jupyter-widgets/controls",
            "_model_module_version": "1.5.0",
            "value": " 170499072/? [00:03&lt;00:00, 52074246.03it/s]",
            "_view_count": null,
            "_view_module_version": "1.5.0",
            "description_tooltip": null,
            "_model_module": "@jupyter-widgets/controls",
            "layout": "IPY_MODEL_c04b5436818e405ea92adbffc05f70af"
          }
        },
        "72268cf123d044f6ac335238506b3794": {
          "model_module": "@jupyter-widgets/controls",
          "model_name": "DescriptionStyleModel",
          "model_module_version": "1.5.0",
          "state": {
            "_view_name": "StyleView",
            "_model_name": "DescriptionStyleModel",
            "description_width": "",
            "_view_module": "@jupyter-widgets/base",
            "_model_module_version": "1.5.0",
            "_view_count": null,
            "_view_module_version": "1.2.0",
            "_model_module": "@jupyter-widgets/controls"
          }
        },
        "0e96978219444a8b9516590ed7c8b8b0": {
          "model_module": "@jupyter-widgets/base",
          "model_name": "LayoutModel",
          "model_module_version": "1.2.0",
          "state": {
            "_view_name": "LayoutView",
            "grid_template_rows": null,
            "right": null,
            "justify_content": null,
            "_view_module": "@jupyter-widgets/base",
            "overflow": null,
            "_model_module_version": "1.2.0",
            "_view_count": null,
            "flex_flow": null,
            "width": null,
            "min_width": null,
            "border": null,
            "align_items": null,
            "bottom": null,
            "_model_module": "@jupyter-widgets/base",
            "top": null,
            "grid_column": null,
            "overflow_y": null,
            "overflow_x": null,
            "grid_auto_flow": null,
            "grid_area": null,
            "grid_template_columns": null,
            "flex": null,
            "_model_name": "LayoutModel",
            "justify_items": null,
            "grid_row": null,
            "max_height": null,
            "align_content": null,
            "visibility": null,
            "align_self": null,
            "height": null,
            "min_height": null,
            "padding": null,
            "grid_auto_rows": null,
            "grid_gap": null,
            "max_width": null,
            "order": null,
            "_view_module_version": "1.2.0",
            "grid_template_areas": null,
            "object_position": null,
            "object_fit": null,
            "grid_auto_columns": null,
            "margin": null,
            "display": null,
            "left": null
          }
        },
        "417c6a5e1bfb49dfa04fff9dd69cce7b": {
          "model_module": "@jupyter-widgets/controls",
          "model_name": "ProgressStyleModel",
          "model_module_version": "1.5.0",
          "state": {
            "_view_name": "StyleView",
            "_model_name": "ProgressStyleModel",
            "description_width": "",
            "_view_module": "@jupyter-widgets/base",
            "_model_module_version": "1.5.0",
            "_view_count": null,
            "_view_module_version": "1.2.0",
            "bar_color": null,
            "_model_module": "@jupyter-widgets/controls"
          }
        },
        "e7476f9460564c91b2604047ca563457": {
          "model_module": "@jupyter-widgets/base",
          "model_name": "LayoutModel",
          "model_module_version": "1.2.0",
          "state": {
            "_view_name": "LayoutView",
            "grid_template_rows": null,
            "right": null,
            "justify_content": null,
            "_view_module": "@jupyter-widgets/base",
            "overflow": null,
            "_model_module_version": "1.2.0",
            "_view_count": null,
            "flex_flow": null,
            "width": null,
            "min_width": null,
            "border": null,
            "align_items": null,
            "bottom": null,
            "_model_module": "@jupyter-widgets/base",
            "top": null,
            "grid_column": null,
            "overflow_y": null,
            "overflow_x": null,
            "grid_auto_flow": null,
            "grid_area": null,
            "grid_template_columns": null,
            "flex": null,
            "_model_name": "LayoutModel",
            "justify_items": null,
            "grid_row": null,
            "max_height": null,
            "align_content": null,
            "visibility": null,
            "align_self": null,
            "height": null,
            "min_height": null,
            "padding": null,
            "grid_auto_rows": null,
            "grid_gap": null,
            "max_width": null,
            "order": null,
            "_view_module_version": "1.2.0",
            "grid_template_areas": null,
            "object_position": null,
            "object_fit": null,
            "grid_auto_columns": null,
            "margin": null,
            "display": null,
            "left": null
          }
        },
        "9e4172a94b1245efb4cd94f2d3666eef": {
          "model_module": "@jupyter-widgets/controls",
          "model_name": "DescriptionStyleModel",
          "model_module_version": "1.5.0",
          "state": {
            "_view_name": "StyleView",
            "_model_name": "DescriptionStyleModel",
            "description_width": "",
            "_view_module": "@jupyter-widgets/base",
            "_model_module_version": "1.5.0",
            "_view_count": null,
            "_view_module_version": "1.2.0",
            "_model_module": "@jupyter-widgets/controls"
          }
        },
        "c04b5436818e405ea92adbffc05f70af": {
          "model_module": "@jupyter-widgets/base",
          "model_name": "LayoutModel",
          "model_module_version": "1.2.0",
          "state": {
            "_view_name": "LayoutView",
            "grid_template_rows": null,
            "right": null,
            "justify_content": null,
            "_view_module": "@jupyter-widgets/base",
            "overflow": null,
            "_model_module_version": "1.2.0",
            "_view_count": null,
            "flex_flow": null,
            "width": null,
            "min_width": null,
            "border": null,
            "align_items": null,
            "bottom": null,
            "_model_module": "@jupyter-widgets/base",
            "top": null,
            "grid_column": null,
            "overflow_y": null,
            "overflow_x": null,
            "grid_auto_flow": null,
            "grid_area": null,
            "grid_template_columns": null,
            "flex": null,
            "_model_name": "LayoutModel",
            "justify_items": null,
            "grid_row": null,
            "max_height": null,
            "align_content": null,
            "visibility": null,
            "align_self": null,
            "height": null,
            "min_height": null,
            "padding": null,
            "grid_auto_rows": null,
            "grid_gap": null,
            "max_width": null,
            "order": null,
            "_view_module_version": "1.2.0",
            "grid_template_areas": null,
            "object_position": null,
            "object_fit": null,
            "grid_auto_columns": null,
            "margin": null,
            "display": null,
            "left": null
          }
        },
        "dfa39e38a45c4a2a8281c57ff4d15dff": {
          "model_module": "@jupyter-widgets/controls",
          "model_name": "HBoxModel",
          "model_module_version": "1.5.0",
          "state": {
            "_view_name": "HBoxView",
            "_dom_classes": [],
            "_model_name": "HBoxModel",
            "_view_module": "@jupyter-widgets/controls",
            "_model_module_version": "1.5.0",
            "_view_count": null,
            "_view_module_version": "1.5.0",
            "box_style": "",
            "layout": "IPY_MODEL_603a7eb0a32e4651a6ee0cceb43a7365",
            "_model_module": "@jupyter-widgets/controls",
            "children": [
              "IPY_MODEL_faae7faa7db4496a852d913873c1ea9b",
              "IPY_MODEL_a18555ce0b53456689a4d3ed327fb988",
              "IPY_MODEL_e2e382bf2aea4aa3bf684ba2f84e3b28"
            ]
          }
        },
        "603a7eb0a32e4651a6ee0cceb43a7365": {
          "model_module": "@jupyter-widgets/base",
          "model_name": "LayoutModel",
          "model_module_version": "1.2.0",
          "state": {
            "_view_name": "LayoutView",
            "grid_template_rows": null,
            "right": null,
            "justify_content": null,
            "_view_module": "@jupyter-widgets/base",
            "overflow": null,
            "_model_module_version": "1.2.0",
            "_view_count": null,
            "flex_flow": null,
            "width": null,
            "min_width": null,
            "border": null,
            "align_items": null,
            "bottom": null,
            "_model_module": "@jupyter-widgets/base",
            "top": null,
            "grid_column": null,
            "overflow_y": null,
            "overflow_x": null,
            "grid_auto_flow": null,
            "grid_area": null,
            "grid_template_columns": null,
            "flex": null,
            "_model_name": "LayoutModel",
            "justify_items": null,
            "grid_row": null,
            "max_height": null,
            "align_content": null,
            "visibility": null,
            "align_self": null,
            "height": null,
            "min_height": null,
            "padding": null,
            "grid_auto_rows": null,
            "grid_gap": null,
            "max_width": null,
            "order": null,
            "_view_module_version": "1.2.0",
            "grid_template_areas": null,
            "object_position": null,
            "object_fit": null,
            "grid_auto_columns": null,
            "margin": null,
            "display": null,
            "left": null
          }
        },
        "faae7faa7db4496a852d913873c1ea9b": {
          "model_module": "@jupyter-widgets/controls",
          "model_name": "HTMLModel",
          "model_module_version": "1.5.0",
          "state": {
            "_view_name": "HTMLView",
            "style": "IPY_MODEL_993988feb4c24c5598139c91a06777cd",
            "_dom_classes": [],
            "description": "",
            "_model_name": "HTMLModel",
            "placeholder": "​",
            "_view_module": "@jupyter-widgets/controls",
            "_model_module_version": "1.5.0",
            "value": "",
            "_view_count": null,
            "_view_module_version": "1.5.0",
            "description_tooltip": null,
            "_model_module": "@jupyter-widgets/controls",
            "layout": "IPY_MODEL_5cfae8b5d9744dd8ac9d0b26dfcdd46f"
          }
        },
        "a18555ce0b53456689a4d3ed327fb988": {
          "model_module": "@jupyter-widgets/controls",
          "model_name": "FloatProgressModel",
          "model_module_version": "1.5.0",
          "state": {
            "_view_name": "ProgressView",
            "style": "IPY_MODEL_a64ac62f9bf249acad7710b92930c822",
            "_dom_classes": [],
            "description": "",
            "_model_name": "FloatProgressModel",
            "bar_style": "success",
            "max": 170498071,
            "_view_module": "@jupyter-widgets/controls",
            "_model_module_version": "1.5.0",
            "value": 170498071,
            "_view_count": null,
            "_view_module_version": "1.5.0",
            "orientation": "horizontal",
            "min": 0,
            "description_tooltip": null,
            "_model_module": "@jupyter-widgets/controls",
            "layout": "IPY_MODEL_e86f1e957b814933a400c382a0153914"
          }
        },
        "e2e382bf2aea4aa3bf684ba2f84e3b28": {
          "model_module": "@jupyter-widgets/controls",
          "model_name": "HTMLModel",
          "model_module_version": "1.5.0",
          "state": {
            "_view_name": "HTMLView",
            "style": "IPY_MODEL_3c5e8cca613a4356b41c5a6e0b4babc9",
            "_dom_classes": [],
            "description": "",
            "_model_name": "HTMLModel",
            "placeholder": "​",
            "_view_module": "@jupyter-widgets/controls",
            "_model_module_version": "1.5.0",
            "value": " 170499072/? [00:03&lt;00:00, 52560170.45it/s]",
            "_view_count": null,
            "_view_module_version": "1.5.0",
            "description_tooltip": null,
            "_model_module": "@jupyter-widgets/controls",
            "layout": "IPY_MODEL_3c8777010a7b4acebb04f3fb877c1f69"
          }
        },
        "993988feb4c24c5598139c91a06777cd": {
          "model_module": "@jupyter-widgets/controls",
          "model_name": "DescriptionStyleModel",
          "model_module_version": "1.5.0",
          "state": {
            "_view_name": "StyleView",
            "_model_name": "DescriptionStyleModel",
            "description_width": "",
            "_view_module": "@jupyter-widgets/base",
            "_model_module_version": "1.5.0",
            "_view_count": null,
            "_view_module_version": "1.2.0",
            "_model_module": "@jupyter-widgets/controls"
          }
        },
        "5cfae8b5d9744dd8ac9d0b26dfcdd46f": {
          "model_module": "@jupyter-widgets/base",
          "model_name": "LayoutModel",
          "model_module_version": "1.2.0",
          "state": {
            "_view_name": "LayoutView",
            "grid_template_rows": null,
            "right": null,
            "justify_content": null,
            "_view_module": "@jupyter-widgets/base",
            "overflow": null,
            "_model_module_version": "1.2.0",
            "_view_count": null,
            "flex_flow": null,
            "width": null,
            "min_width": null,
            "border": null,
            "align_items": null,
            "bottom": null,
            "_model_module": "@jupyter-widgets/base",
            "top": null,
            "grid_column": null,
            "overflow_y": null,
            "overflow_x": null,
            "grid_auto_flow": null,
            "grid_area": null,
            "grid_template_columns": null,
            "flex": null,
            "_model_name": "LayoutModel",
            "justify_items": null,
            "grid_row": null,
            "max_height": null,
            "align_content": null,
            "visibility": null,
            "align_self": null,
            "height": null,
            "min_height": null,
            "padding": null,
            "grid_auto_rows": null,
            "grid_gap": null,
            "max_width": null,
            "order": null,
            "_view_module_version": "1.2.0",
            "grid_template_areas": null,
            "object_position": null,
            "object_fit": null,
            "grid_auto_columns": null,
            "margin": null,
            "display": null,
            "left": null
          }
        },
        "a64ac62f9bf249acad7710b92930c822": {
          "model_module": "@jupyter-widgets/controls",
          "model_name": "ProgressStyleModel",
          "model_module_version": "1.5.0",
          "state": {
            "_view_name": "StyleView",
            "_model_name": "ProgressStyleModel",
            "description_width": "",
            "_view_module": "@jupyter-widgets/base",
            "_model_module_version": "1.5.0",
            "_view_count": null,
            "_view_module_version": "1.2.0",
            "bar_color": null,
            "_model_module": "@jupyter-widgets/controls"
          }
        },
        "e86f1e957b814933a400c382a0153914": {
          "model_module": "@jupyter-widgets/base",
          "model_name": "LayoutModel",
          "model_module_version": "1.2.0",
          "state": {
            "_view_name": "LayoutView",
            "grid_template_rows": null,
            "right": null,
            "justify_content": null,
            "_view_module": "@jupyter-widgets/base",
            "overflow": null,
            "_model_module_version": "1.2.0",
            "_view_count": null,
            "flex_flow": null,
            "width": null,
            "min_width": null,
            "border": null,
            "align_items": null,
            "bottom": null,
            "_model_module": "@jupyter-widgets/base",
            "top": null,
            "grid_column": null,
            "overflow_y": null,
            "overflow_x": null,
            "grid_auto_flow": null,
            "grid_area": null,
            "grid_template_columns": null,
            "flex": null,
            "_model_name": "LayoutModel",
            "justify_items": null,
            "grid_row": null,
            "max_height": null,
            "align_content": null,
            "visibility": null,
            "align_self": null,
            "height": null,
            "min_height": null,
            "padding": null,
            "grid_auto_rows": null,
            "grid_gap": null,
            "max_width": null,
            "order": null,
            "_view_module_version": "1.2.0",
            "grid_template_areas": null,
            "object_position": null,
            "object_fit": null,
            "grid_auto_columns": null,
            "margin": null,
            "display": null,
            "left": null
          }
        },
        "3c5e8cca613a4356b41c5a6e0b4babc9": {
          "model_module": "@jupyter-widgets/controls",
          "model_name": "DescriptionStyleModel",
          "model_module_version": "1.5.0",
          "state": {
            "_view_name": "StyleView",
            "_model_name": "DescriptionStyleModel",
            "description_width": "",
            "_view_module": "@jupyter-widgets/base",
            "_model_module_version": "1.5.0",
            "_view_count": null,
            "_view_module_version": "1.2.0",
            "_model_module": "@jupyter-widgets/controls"
          }
        },
        "3c8777010a7b4acebb04f3fb877c1f69": {
          "model_module": "@jupyter-widgets/base",
          "model_name": "LayoutModel",
          "model_module_version": "1.2.0",
          "state": {
            "_view_name": "LayoutView",
            "grid_template_rows": null,
            "right": null,
            "justify_content": null,
            "_view_module": "@jupyter-widgets/base",
            "overflow": null,
            "_model_module_version": "1.2.0",
            "_view_count": null,
            "flex_flow": null,
            "width": null,
            "min_width": null,
            "border": null,
            "align_items": null,
            "bottom": null,
            "_model_module": "@jupyter-widgets/base",
            "top": null,
            "grid_column": null,
            "overflow_y": null,
            "overflow_x": null,
            "grid_auto_flow": null,
            "grid_area": null,
            "grid_template_columns": null,
            "flex": null,
            "_model_name": "LayoutModel",
            "justify_items": null,
            "grid_row": null,
            "max_height": null,
            "align_content": null,
            "visibility": null,
            "align_self": null,
            "height": null,
            "min_height": null,
            "padding": null,
            "grid_auto_rows": null,
            "grid_gap": null,
            "max_width": null,
            "order": null,
            "_view_module_version": "1.2.0",
            "grid_template_areas": null,
            "object_position": null,
            "object_fit": null,
            "grid_auto_columns": null,
            "margin": null,
            "display": null,
            "left": null
          }
        }
      }
    }
  },
  "cells": [
    {
      "cell_type": "markdown",
      "metadata": {
        "id": "view-in-github",
        "colab_type": "text"
      },
      "source": [
        "<a href=\"https://colab.research.google.com/github/peeyushsinghal/EVA/blob/main/S7-Assignment/EVA_S7.ipynb\" target=\"_parent\"><img src=\"https://colab.research.google.com/assets/colab-badge.svg\" alt=\"Open In Colab\"/></a>"
      ]
    },
    {
      "cell_type": "markdown",
      "metadata": {
        "id": "GXOC69GsUZkq"
      },
      "source": [
        "### Importing Libraries"
      ]
    },
    {
      "cell_type": "code",
      "metadata": {
        "id": "E2Xio-9hUR86"
      },
      "source": [
        "import torch\n",
        "from torchvision import datasets\n",
        "import torchvision.transforms as transforms\n",
        "%matplotlib inline\n",
        "import random # for random image index\n",
        "\n",
        "\n",
        "from tqdm import tqdm # for beautiful model training updates\n",
        "# from model import Network"
      ],
      "execution_count": 5,
      "outputs": []
    },
    {
      "cell_type": "markdown",
      "metadata": {
        "id": "s9mvNH-5U3BW"
      },
      "source": [
        "Seed and Cuda"
      ]
    },
    {
      "cell_type": "code",
      "metadata": {
        "colab": {
          "base_uri": "https://localhost:8080/"
        },
        "id": "X0RJmA3OU2SK",
        "outputId": "b39f0140-3f0b-4b5f-a2fe-bed36eccf0ae"
      },
      "source": [
        "# check for cuda\n",
        "cuda = torch.cuda.is_available()\n",
        "print (f' Cuda Status : {cuda}')\n",
        "\n",
        "# setting seed\n",
        "SEED = 42 # arbit seed, why 42 - because in hitch hikers guide to galaxy it is answer to everything\n",
        "# torch.cuda.seed(SEED) \n",
        "torch.cuda.manual_seed_all(SEED) if cuda else torch.manual_seed(SEED)"
      ],
      "execution_count": 3,
      "outputs": [
        {
          "output_type": "stream",
          "name": "stdout",
          "text": [
            " Cuda Status : False\n"
          ]
        },
        {
          "output_type": "execute_result",
          "data": {
            "text/plain": [
              "<torch._C.Generator at 0x7ffa80f1b5f0>"
            ]
          },
          "metadata": {},
          "execution_count": 3
        }
      ]
    },
    {
      "cell_type": "markdown",
      "metadata": {
        "id": "5kjt4e2TpoCk"
      },
      "source": [
        "### 1. Loading Data\n",
        "\n"
      ]
    },
    {
      "cell_type": "code",
      "metadata": {
        "colab": {
          "base_uri": "https://localhost:8080/",
          "height": 82,
          "referenced_widgets": [
            "52bdb50903134c06914e27b89bad1799",
            "c98f481720e9416985af61d51bb10231",
            "367594fef9e74b32b433b67cd74b3d95",
            "a9ebd16640c845c38ec311704fb05704",
            "d4ce878be76841d19842787614ddb473",
            "72268cf123d044f6ac335238506b3794",
            "0e96978219444a8b9516590ed7c8b8b0",
            "417c6a5e1bfb49dfa04fff9dd69cce7b",
            "e7476f9460564c91b2604047ca563457",
            "9e4172a94b1245efb4cd94f2d3666eef",
            "c04b5436818e405ea92adbffc05f70af"
          ]
        },
        "id": "wz2K8hEXXjeg",
        "outputId": "fd927f29-591c-41c2-df8c-9efa5a0bb6a8"
      },
      "source": [
        "## downloading training data, using this to calculate mean and standard deviation \n",
        "\n",
        "train_mean_std_dev = datasets.CIFAR10(\n",
        "    root = './',# directory where data needs to be stored\n",
        "    train = True, # get the training portion of the dataset\n",
        "    download = True, # downloads\n",
        "    transform = transforms.ToTensor()# converts to tesnor\n",
        "    )"
      ],
      "execution_count": 7,
      "outputs": [
        {
          "output_type": "stream",
          "name": "stdout",
          "text": [
            "Downloading https://www.cs.toronto.edu/~kriz/cifar-10-python.tar.gz to ./cifar-10-python.tar.gz\n"
          ]
        },
        {
          "output_type": "display_data",
          "data": {
            "application/vnd.jupyter.widget-view+json": {
              "model_id": "52bdb50903134c06914e27b89bad1799",
              "version_minor": 0,
              "version_major": 2
            },
            "text/plain": [
              "  0%|          | 0/170498071 [00:00<?, ?it/s]"
            ]
          },
          "metadata": {}
        },
        {
          "output_type": "stream",
          "name": "stdout",
          "text": [
            "Extracting ./cifar-10-python.tar.gz to ./\n"
          ]
        }
      ]
    },
    {
      "cell_type": "code",
      "metadata": {
        "colab": {
          "base_uri": "https://localhost:8080/"
        },
        "id": "KdvqRmaWeVkq",
        "outputId": "c0b6eddb-2e4b-4831-ae33-691b8e7be4c5"
      },
      "source": [
        "train_mean_std_dev.data.shape  ## looking at the shape of the data"
      ],
      "execution_count": 25,
      "outputs": [
        {
          "output_type": "execute_result",
          "data": {
            "text/plain": [
              "(50000, 32, 32, 3)"
            ]
          },
          "metadata": {},
          "execution_count": 25
        }
      ]
    },
    {
      "cell_type": "code",
      "metadata": {
        "colab": {
          "base_uri": "https://localhost:8080/"
        },
        "id": "qRpTvepFWm4n",
        "outputId": "1232691e-33e8-4e78-aa87-a39ecb49c344"
      },
      "source": [
        "# Getting Mean and Standard Deviation of CIFAR 10 dataset\n",
        "def get_mean_std_dev(dataset):\n",
        "  '''\n",
        "  reference : https://stackoverflow.com/questions/66678052/how-to-calculate-the-mean-and-the-std-of-cifar10-data\n",
        "  '''\n",
        "\n",
        "  data = dataset.data / 255 # data is numpy array\n",
        "\n",
        "  mean = data.mean(axis = (0,1,2)) \n",
        "  std = data.std(axis = (0,1,2))\n",
        "  # print(f\"Mean : {mean}   STD: {std}\") #Mean : [0.491 0.482 0.446]   STD: [0.247 0.243 0.261]\n",
        "  return tuple(mean), tuple(std)\n",
        "\n",
        "\n",
        "\n",
        "mean, std_dev = get_mean_std_dev(train_mean_std_dev)\n",
        "print(f\"Mean : {mean}   STD: {std_dev}\") #Mean : [0.491 0.482 0.446]   STD: [0.247 0.243 0.261]\n"
      ],
      "execution_count": 15,
      "outputs": [
        {
          "output_type": "stream",
          "name": "stdout",
          "text": [
            "Mean : (0.4913996786152028, 0.4821584083946074, 0.4465309144454644)   STD: (0.24703223246328238, 0.2434851280000556, 0.26158784172796423)\n"
          ]
        }
      ]
    },
    {
      "cell_type": "code",
      "metadata": {
        "id": "D8Tjigo2poCl",
        "colab": {
          "base_uri": "https://localhost:8080/",
          "height": 99,
          "referenced_widgets": [
            "dfa39e38a45c4a2a8281c57ff4d15dff",
            "603a7eb0a32e4651a6ee0cceb43a7365",
            "faae7faa7db4496a852d913873c1ea9b",
            "a18555ce0b53456689a4d3ed327fb988",
            "e2e382bf2aea4aa3bf684ba2f84e3b28",
            "993988feb4c24c5598139c91a06777cd",
            "5cfae8b5d9744dd8ac9d0b26dfcdd46f",
            "a64ac62f9bf249acad7710b92930c822",
            "e86f1e957b814933a400c382a0153914",
            "3c5e8cca613a4356b41c5a6e0b4babc9",
            "3c8777010a7b4acebb04f3fb877c1f69"
          ]
        },
        "outputId": "a5d9fdfb-ecc9-402a-dbff-0bde4be7a776"
      },
      "source": [
        "transform = transforms.Compose(\n",
        "    [transforms.ToTensor(),\n",
        "     transforms.Normalize(mean, std_dev)])\n",
        "\n",
        "trainset = datasets.CIFAR10(root='./data', train=True,\n",
        "                                        download=True, transform=transform)\n",
        "trainloader = torch.utils.data.DataLoader(trainset, batch_size=4,\n",
        "                                          shuffle=True, num_workers=2)\n",
        "\n",
        "testset = datasets.CIFAR10(root='./data', train=False,\n",
        "                                       download=True, transform=transform)\n",
        "testloader = torch.utils.data.DataLoader(testset, batch_size=4,\n",
        "                                         shuffle=False, num_workers=2)\n",
        "\n",
        "classes = ('plane', 'car', 'bird', 'cat',\n",
        "           'deer', 'dog', 'frog', 'horse', 'ship', 'truck')"
      ],
      "execution_count": 17,
      "outputs": [
        {
          "output_type": "stream",
          "name": "stdout",
          "text": [
            "Downloading https://www.cs.toronto.edu/~kriz/cifar-10-python.tar.gz to ./data/cifar-10-python.tar.gz\n"
          ]
        },
        {
          "output_type": "display_data",
          "data": {
            "application/vnd.jupyter.widget-view+json": {
              "model_id": "dfa39e38a45c4a2a8281c57ff4d15dff",
              "version_minor": 0,
              "version_major": 2
            },
            "text/plain": [
              "  0%|          | 0/170498071 [00:00<?, ?it/s]"
            ]
          },
          "metadata": {}
        },
        {
          "output_type": "stream",
          "name": "stdout",
          "text": [
            "Extracting ./data/cifar-10-python.tar.gz to ./data\n",
            "Files already downloaded and verified\n"
          ]
        }
      ]
    },
    {
      "cell_type": "markdown",
      "metadata": {
        "id": "_cj433rtpoCn"
      },
      "source": [
        "#### Visualizing Images\n"
      ]
    },
    {
      "cell_type": "code",
      "metadata": {
        "id": "daA7bADhpoCo",
        "colab": {
          "base_uri": "https://localhost:8080/",
          "height": 172
        },
        "outputId": "6dda1679-4cc9-4f58-96d0-7ce0c3cb4b20"
      },
      "source": [
        "import matplotlib.pyplot as plt # for visualizing images\n",
        "import numpy as np\n",
        "import torchvision\n",
        "\n",
        "def imshow(img):\n",
        "  '''\n",
        "  function to show an image\n",
        "  '''\n",
        "    img = img / 2 + 0.5     # unnormalize\n",
        "    npimg = img.numpy()\n",
        "    plt.imshow(np.transpose(npimg, (1, 2, 0)))\n",
        "\n",
        "\n",
        "# get some random training images\n",
        "dataiter = iter(trainloader)\n",
        "images, labels = dataiter.next()\n",
        "\n",
        "# show images\n",
        "imshow(torchvision.utils.make_grid(images))\n",
        "# print labels\n",
        "print(' '.join('%5s' % classes[labels[j]] for j in range(4)))"
      ],
      "execution_count": 23,
      "outputs": [
        {
          "output_type": "stream",
          "name": "stderr",
          "text": [
            "Clipping input data to the valid range for imshow with RGB data ([0..1] for floats or [0..255] for integers).\n"
          ]
        },
        {
          "output_type": "stream",
          "name": "stdout",
          "text": [
            "plane   car  frog  deer\n"
          ]
        },
        {
          "output_type": "display_data",
          "data": {
            "image/png": "[encoded data removed]",
            "text/plain": [
              "<Figure size 432x288 with 1 Axes>"
            ]
          },
          "metadata": {
            "needs_background": "light"
          }
        }
      ]
    },
    {
      "cell_type": "markdown",
      "metadata": {
        "id": "8WSq8BX1dsLk"
      },
      "source": [
        "### 2. Network\n",
        "Defining CNN"
      ]
    },
    {
      "cell_type": "code",
      "metadata": {
        "id": "0jjLwLLQpoCr"
      },
      "source": [
        "import torch\n",
        "import torch.nn as nn # for network\n",
        "import torch.nn.functional as F # for forward method\n",
        "\n",
        "drop_out_value = 0.1\n",
        "\n",
        "class Network(nn.Module):\n",
        "    def __init__(self):\n",
        "      super(Network,self).__init__() # extending super class method\n",
        "\n",
        "      # Input block\n",
        "      self.convblock_input= nn.Sequential(\n",
        "        nn.Conv2d(3,32,3,padding=1), # In- 3x32x32, Out- 32x30x30, RF- 3x3, Jump_in -1, Jump_out -1\n",
        "        nn.ReLU(),\n",
        "        nn.BatchNorm2d(32),\n",
        "        nn.Dropout(drop_out_value)\n",
        "        )\n",
        "      \n",
        "      # CONV BLOCK 1\n",
        "      self.convblock1 = nn.Sequential(\n",
        "        nn.Conv2d(32,32,3,padding=1), # In- 32x30x30, Out- 32x28x28, RF- 5x5, Jump_in -1, Jump_out -1\n",
        "        nn.ReLU(),\n",
        "        nn.BatchNorm2d(32),\n",
        "        nn.Dropout(drop_out_value)\n",
        "        ,\n",
        "        nn.Conv2d(32,32,3,padding=1), # In- 32x28x28, Out- 32x26x26, RF- 7x7, Jump_in -1, Jump_out -1\n",
        "        nn.ReLU(),\n",
        "        nn.BatchNorm2d(32),\n",
        "        nn.Dropout(drop_out_value)\n",
        "        )\n",
        "\n",
        "      # TRANSITION BLOCK 1\n",
        "      # STRIDED CONVOLUTION LAYER\n",
        "      self.transitionblock1 = nn.Sequential(\n",
        "        nn.Conv2d(32,32,3,stride=2,padding=1), # In- 32x26x26, Out- 32x12x12, RF- 9x9, Jump_in -1, Jump_out -2\n",
        "        nn.ReLU(),\n",
        "        nn.BatchNorm2d(32),\n",
        "        nn.Dropout(drop_out_value)\n",
        "        )\n",
        "      \n",
        "      # CONV BLOCK 2\n",
        "      # Depthwise Separable Convolution Layer\n",
        "      self.convblock2 = nn.Sequential(\n",
        "        nn.Conv2d(32,32,3,padding=1,groups=32),# In- , Out- , RF- 13x13, Jump_in -2, Jump_out -2\n",
        "        nn.Conv2d(32,32,1,padding=0), # In- , Out- , RF- 13x13, Jump_in -2, Jump_out -2\n",
        "        nn.ReLU(),\n",
        "        nn.BatchNorm2d(32),\n",
        "        nn.Dropout(drop_out_value)\n",
        "        ,\n",
        "        nn.Conv2d(32,32,3,padding=1), # In- , Out- , RF- 17x17, Jump_in -2, Jump_out -2\n",
        "        nn.ReLU(),\n",
        "        nn.BatchNorm2d(32),\n",
        "        nn.Dropout(drop_out_value)\n",
        "        )\n",
        "      \n",
        "      # TRANSITION BLOCK 2\n",
        "      # STRIDED CONVOLUTION LAYER\n",
        "      self.transitionblock2 = nn.Sequential(\n",
        "        nn.Conv2d(32,32,3,stride=2,padding=1), # In- , Out- , RF- 21x21, Jump_in -2, Jump_out -4\n",
        "        nn.ReLU(),\n",
        "        nn.BatchNorm2d(32),\n",
        "        nn.Dropout(drop_out_value)\n",
        "        )\n",
        "        \n",
        "      \n",
        "      # CONV BLOCK 3\n",
        "      # Dilated Convolution Layer\n",
        "      self.convblock3 = nn.Sequential(\n",
        "        nn.Conv2d(32,32,3,padding=1,dilation=2),# In- , Out- , RF- 29x29, Jump_in -4, Jump_out -4\n",
        "        nn.ReLU(),\n",
        "        nn.BatchNorm2d(32),\n",
        "        nn.Dropout(drop_out_value)\n",
        "        ,\n",
        "        nn.Conv2d(32,32,3,padding=1), # In- , Out- , RF- 37x37, Jump_in -4, Jump_out -4\n",
        "        nn.ReLU(),\n",
        "        nn.BatchNorm2d(32),\n",
        "        nn.Dropout(drop_out_value)\n",
        "        )\n",
        "      \n",
        "      # TRANSITION BLOCK 3\n",
        "      # STRIDED CONVOLUTION LAYER\n",
        "      self.transitionblock3 = nn.Sequential(\n",
        "        nn.Conv2d(32,32,3,stride=2,padding=1), # In- , Out- , RF- 45x45, Jump_in -4, Jump_out -8\n",
        "        nn.ReLU(),\n",
        "        nn.BatchNorm2d(32),\n",
        "        nn.Dropout(drop_out_value)\n",
        "        )   \n",
        "\n",
        "      # CONV BLOCK 4\n",
        "      # Depthwise Separable Convolution Layer\n",
        "      self.convblock4 = nn.Sequential(\n",
        "        nn.Conv2d(32,32,3,padding=1), # In- , Out- , RF- 61x61, Jump_in -8, Jump_out -8\n",
        "        nn.ReLU(),\n",
        "        nn.BatchNorm2d(32),\n",
        "        nn.Dropout(drop_out_value)\n",
        "        ,\n",
        "        nn.Conv2d(32,32,3,padding=1,groups=32), # In- , Out- , RF- 77x77, Jump_in -8, Jump_out -8\n",
        "        nn.Conv2d(32,10,1,padding=0) # In- , Out- , RF- 77x77, Jump_in -8, Jump_out -8\n",
        "        # , \n",
        "        # nn.ReLU(),\n",
        "        # nn.BatchNorm2d(10),\n",
        "        # nn.Dropout(drop_out_value)\n",
        "        )\n",
        "      \n",
        "      # Output BLOCK \n",
        "      # GAP Layer\n",
        "      self.gap = nn.AvgPool2d(3)\n",
        "\n",
        "\n",
        "    def forward(self, x):\n",
        "      x = self.convblock_input(x)\n",
        "      x = self.convblock1(x)\n",
        "      x = self.transitionblock1(x)\n",
        "      x = self.convblock2(x)\n",
        "      x = self.transitionblock2(x)\n",
        "      x = self.convblock3(x)\n",
        "      x = self.transitionblock3(x)\n",
        "      x = self.convblock4(x)\n",
        "      x = self.gap(x)\n",
        "\n",
        "      x = x.view(-1, 10)\n",
        "\n",
        "      return F.log_softmax(x, dim=1)"
      ],
      "execution_count": 11,
      "outputs": []
    },
    {
      "cell_type": "markdown",
      "metadata": {
        "id": "9DkzYiAIfew_"
      },
      "source": [
        "#### Model Params\n",
        "Checking the model summary and number of parameters\n"
      ]
    },
    {
      "cell_type": "code",
      "metadata": {
        "colab": {
          "base_uri": "https://localhost:8080/"
        },
        "id": "u7cA9WW3fg4-",
        "outputId": "8b6978cd-b46f-4982-dd90-bdb103ba0807"
      },
      "source": [
        "device = torch.device(\"cuda\" if cuda else \"cpu\")\n",
        "print(device)\n",
        "\n",
        "model = Network().to(device)\n",
        "# print(model)\n",
        "\n",
        "# !pip install torchsummary\n",
        "from torchsummary import summary # for model summary and params\n",
        "summary(model, input_size=(3, 32, 32))\n"
      ],
      "execution_count": 12,
      "outputs": [
        {
          "output_type": "stream",
          "name": "stdout",
          "text": [
            "cpu\n",
            "----------------------------------------------------------------\n",
            "        Layer (type)               Output Shape         Param #\n",
            "================================================================\n",
            "            Conv2d-1           [-1, 32, 32, 32]             896\n",
            "              ReLU-2           [-1, 32, 32, 32]               0\n",
            "       BatchNorm2d-3           [-1, 32, 32, 32]              64\n",
            "           Dropout-4           [-1, 32, 32, 32]               0\n",
            "            Conv2d-5           [-1, 32, 32, 32]           9,248\n",
            "              ReLU-6           [-1, 32, 32, 32]               0\n",
            "       BatchNorm2d-7           [-1, 32, 32, 32]              64\n",
            "           Dropout-8           [-1, 32, 32, 32]               0\n",
            "            Conv2d-9           [-1, 32, 32, 32]           9,248\n",
            "             ReLU-10           [-1, 32, 32, 32]               0\n",
            "      BatchNorm2d-11           [-1, 32, 32, 32]              64\n",
            "          Dropout-12           [-1, 32, 32, 32]               0\n",
            "           Conv2d-13           [-1, 32, 16, 16]           9,248\n",
            "             ReLU-14           [-1, 32, 16, 16]               0\n",
            "      BatchNorm2d-15           [-1, 32, 16, 16]              64\n",
            "          Dropout-16           [-1, 32, 16, 16]               0\n",
            "           Conv2d-17           [-1, 32, 16, 16]             320\n",
            "           Conv2d-18           [-1, 32, 16, 16]           1,056\n",
            "             ReLU-19           [-1, 32, 16, 16]               0\n",
            "      BatchNorm2d-20           [-1, 32, 16, 16]              64\n",
            "          Dropout-21           [-1, 32, 16, 16]               0\n",
            "           Conv2d-22           [-1, 32, 16, 16]           9,248\n",
            "             ReLU-23           [-1, 32, 16, 16]               0\n",
            "      BatchNorm2d-24           [-1, 32, 16, 16]              64\n",
            "          Dropout-25           [-1, 32, 16, 16]               0\n",
            "           Conv2d-26             [-1, 32, 8, 8]           9,248\n",
            "             ReLU-27             [-1, 32, 8, 8]               0\n",
            "      BatchNorm2d-28             [-1, 32, 8, 8]              64\n",
            "          Dropout-29             [-1, 32, 8, 8]               0\n",
            "           Conv2d-30             [-1, 32, 6, 6]           9,248\n",
            "             ReLU-31             [-1, 32, 6, 6]               0\n",
            "      BatchNorm2d-32             [-1, 32, 6, 6]              64\n",
            "          Dropout-33             [-1, 32, 6, 6]               0\n",
            "           Conv2d-34             [-1, 32, 6, 6]           9,248\n",
            "             ReLU-35             [-1, 32, 6, 6]               0\n",
            "      BatchNorm2d-36             [-1, 32, 6, 6]              64\n",
            "          Dropout-37             [-1, 32, 6, 6]               0\n",
            "           Conv2d-38             [-1, 32, 3, 3]           9,248\n",
            "             ReLU-39             [-1, 32, 3, 3]               0\n",
            "      BatchNorm2d-40             [-1, 32, 3, 3]              64\n",
            "          Dropout-41             [-1, 32, 3, 3]               0\n",
            "           Conv2d-42             [-1, 32, 3, 3]           9,248\n",
            "             ReLU-43             [-1, 32, 3, 3]               0\n",
            "      BatchNorm2d-44             [-1, 32, 3, 3]              64\n",
            "          Dropout-45             [-1, 32, 3, 3]               0\n",
            "           Conv2d-46             [-1, 32, 3, 3]             320\n",
            "           Conv2d-47             [-1, 10, 3, 3]             330\n",
            "        AvgPool2d-48             [-1, 10, 1, 1]               0\n",
            "================================================================\n",
            "Total params: 86,858\n",
            "Trainable params: 86,858\n",
            "Non-trainable params: 0\n",
            "----------------------------------------------------------------\n",
            "Input size (MB): 0.01\n",
            "Forward/backward pass size (MB): 3.97\n",
            "Params size (MB): 0.33\n",
            "Estimated Total Size (MB): 4.31\n",
            "----------------------------------------------------------------\n"
          ]
        }
      ]
    },
    {
      "cell_type": "markdown",
      "metadata": {
        "id": "Wdw2NNCUpoCu"
      },
      "source": [
        "3. Define a Loss function and optimizer\n",
        "^^^^^^^^^^^^^^^^^^^^^^^^^^^^^^^^^^^^^^^\n",
        "Let's use a Classification Cross-Entropy loss and SGD with momentum.\n",
        "\n"
      ]
    },
    {
      "cell_type": "code",
      "metadata": {
        "id": "M4xBbDROpoCv"
      },
      "source": [
        "import torch.optim as optim # for optimizer\n",
        "\n",
        "\n",
        "criterion = nn.CrossEntropyLoss()\n",
        "optimizer = optim.SGD(net.parameters(), lr=0.001, momentum=0.9)"
      ],
      "execution_count": null,
      "outputs": []
    },
    {
      "cell_type": "markdown",
      "metadata": {
        "id": "O-odOrhdpoC2"
      },
      "source": [
        "4. Train the network\n",
        "^^^^^^^^^^^^^^^^^^^^\n",
        "\n",
        "This is when things start to get interesting.\n",
        "We simply have to loop over our data iterator, and feed the inputs to the\n",
        "network and optimize.\n",
        "\n"
      ]
    },
    {
      "cell_type": "code",
      "metadata": {
        "id": "kkuRfo1IpoC3",
        "colab": {
          "base_uri": "https://localhost:8080/",
          "height": 143
        },
        "outputId": "a482939e-8adb-4e0b-e729-840c779827ee"
      },
      "source": [
        "for epoch in range(2):  # loop over the dataset multiple times\n",
        "\n",
        "    running_loss = 0.0\n",
        "    for i, data in enumerate(trainloader, 0):\n",
        "        # get the inputs\n",
        "        inputs, labels = data\n",
        "\n",
        "        # zero the parameter gradients\n",
        "        optimizer.zero_grad()\n",
        "\n",
        "        # forward + backward + optimize\n",
        "        outputs = net(inputs)\n",
        "        loss = criterion(outputs, labels)\n",
        "        loss.backward()\n",
        "        optimizer.step()\n",
        "\n",
        "        # print statistics\n",
        "        running_loss += loss.item()\n",
        "        if i % 2000 == 1999:    # print every 2000 mini-batches\n",
        "            print('[%d, %5d] loss: %.3f' %\n",
        "                  (epoch + 1, i + 1, running_loss / 2000))\n",
        "            running_loss = 0.0\n",
        "\n",
        "print('Finished Training')"
      ],
      "execution_count": null,
      "outputs": [
        {
          "output_type": "stream",
          "text": [
            "[1,  2000] loss: 2.185\n",
            "[1,  4000] loss: 1.848\n",
            "[1,  6000] loss: 1.678\n",
            "[1,  8000] loss: 1.573\n",
            "[1, 10000] loss: 1.524\n",
            "[1, 12000] loss: 1.480\n",
            "[2,  2000] loss: 1.399\n"
          ],
          "name": "stdout"
        }
      ]
    },
    {
      "cell_type": "markdown",
      "metadata": {
        "id": "YLrvL_fHpoC5"
      },
      "source": [
        "5. Test the network on the test data\n",
        "^^^^^^^^^^^^^^^^^^^^^^^^^^^^^^^^^^^^\n",
        "\n",
        "We have trained the network for 2 passes over the training dataset.\n",
        "But we need to check if the network has learnt anything at all.\n",
        "\n",
        "We will check this by predicting the class label that the neural network\n",
        "outputs, and checking it against the ground-truth. If the prediction is\n",
        "correct, we add the sample to the list of correct predictions.\n",
        "\n",
        "Okay, first step. Let us display an image from the test set to get familiar.\n",
        "\n"
      ]
    },
    {
      "cell_type": "code",
      "metadata": {
        "id": "nizbsvw9poC6"
      },
      "source": [
        "dataiter = iter(testloader)\n",
        "images, labels = dataiter.next()\n",
        "\n",
        "# print images\n",
        "imshow(torchvision.utils.make_grid(images))\n",
        "print('GroundTruth: ', ' '.join('%5s' % classes[labels[j]] for j in range(4)))"
      ],
      "execution_count": null,
      "outputs": []
    },
    {
      "cell_type": "markdown",
      "metadata": {
        "id": "DAx4QPHVpoC8"
      },
      "source": [
        "Okay, now let us see what the neural network thinks these examples above are:\n",
        "\n"
      ]
    },
    {
      "cell_type": "code",
      "metadata": {
        "id": "HVLjlssWpoC9"
      },
      "source": [
        "outputs = net(images)"
      ],
      "execution_count": null,
      "outputs": []
    },
    {
      "cell_type": "markdown",
      "metadata": {
        "id": "u8OTHZEApoC_"
      },
      "source": [
        "The outputs are energies for the 10 classes.\n",
        "Higher the energy for a class, the more the network\n",
        "thinks that the image is of the particular class.\n",
        "So, let's get the index of the highest energy:\n",
        "\n"
      ]
    },
    {
      "cell_type": "code",
      "metadata": {
        "id": "ABRIDW3lpoDA"
      },
      "source": [
        "_, predicted = torch.max(outputs, 1)\n",
        "\n",
        "print('Predicted: ', ' '.join('%5s' % classes[predicted[j]]\n",
        "                              for j in range(4)))"
      ],
      "execution_count": null,
      "outputs": []
    },
    {
      "cell_type": "markdown",
      "metadata": {
        "id": "2TV0TXL1poDC"
      },
      "source": [
        "The results seem pretty good.\n",
        "\n",
        "Let us look at how the network performs on the whole dataset.\n",
        "\n"
      ]
    },
    {
      "cell_type": "code",
      "metadata": {
        "id": "SZ4-5CESpoDD"
      },
      "source": [
        "correct = 0\n",
        "total = 0\n",
        "with torch.no_grad():\n",
        "    for data in testloader:\n",
        "        images, labels = data\n",
        "        outputs = net(images)\n",
        "        _, predicted = torch.max(outputs.data, 1)\n",
        "        total += labels.size(0)\n",
        "        correct += (predicted == labels).sum().item()\n",
        "\n",
        "print('Accuracy of the network on the 10000 test images: %d %%' % (\n",
        "    100 * correct / total))"
      ],
      "execution_count": null,
      "outputs": []
    },
    {
      "cell_type": "markdown",
      "metadata": {
        "id": "eDdwPBl8poDF"
      },
      "source": [
        "That looks waaay better than chance, which is 10% accuracy (randomly picking\n",
        "a class out of 10 classes).\n",
        "Seems like the network learnt something.\n",
        "\n",
        "Hmmm, what are the classes that performed well, and the classes that did\n",
        "not perform well:\n",
        "\n"
      ]
    },
    {
      "cell_type": "code",
      "metadata": {
        "id": "pDNFuDEDpoDG"
      },
      "source": [
        "class_correct = list(0. for i in range(10))\n",
        "class_total = list(0. for i in range(10))\n",
        "with torch.no_grad():\n",
        "    for data in testloader:\n",
        "        images, labels = data\n",
        "        outputs = net(images)\n",
        "        _, predicted = torch.max(outputs, 1)\n",
        "        c = (predicted == labels).squeeze()\n",
        "        for i in range(4):\n",
        "            label = labels[i]\n",
        "            class_correct[label] += c[i].item()\n",
        "            class_total[label] += 1\n",
        "\n",
        "\n",
        "for i in range(10):\n",
        "    print('Accuracy of %5s : %2d %%' % (\n",
        "        classes[i], 100 * class_correct[i] / class_total[i]))"
      ],
      "execution_count": null,
      "outputs": []
    }
  ]
}