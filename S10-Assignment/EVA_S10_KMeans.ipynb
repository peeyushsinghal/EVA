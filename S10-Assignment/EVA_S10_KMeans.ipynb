{
  "nbformat": 4,
  "nbformat_minor": 0,
  "metadata": {
    "colab": {
      "name": "EVA_S10_KMeans.ipynb",
      "provenance": [],
      "collapsed_sections": [],
      "authorship_tag": "ABX9TyPFQ9LATwf5Yy7+YQe2vB8l",
      "include_colab_link": true
    },
    "kernelspec": {
      "name": "python3",
      "display_name": "Python 3"
    },
    "language_info": {
      "name": "python"
    }
  },
  "cells": [
    {
      "cell_type": "markdown",
      "metadata": {
        "id": "view-in-github",
        "colab_type": "text"
      },
      "source": [
        "<a href=\"https://colab.research.google.com/github/peeyushsinghal/EVA/blob/main/S10-Assignment/EVA_S10_KMeans.ipynb\" target=\"_parent\"><img src=\"https://colab.research.google.com/assets/colab-badge.svg\" alt=\"Open In Colab\"/></a>"
      ]
    },
    {
      "cell_type": "markdown",
      "source": [
        "Assignment Objectives\n",
        "\n",
        "1. Download this file. Learn how COCO object detection dataset's schema is. This file has the same schema. You'll need to discover what those number are. \n",
        "2. Identify these things for this dataset:\n",
        "*  readme data for class distribution (along with the class names) along with a graph\n",
        "*   Calculate the Anchor Boxes for k = 3, 4, 5, 6 and draw them.\n",
        "Share the calculations for both via a notebook uploaded on your GitHub Repo"
      ],
      "metadata": {
        "id": "NwrNFfF2FkUq"
      }
    },
    {
      "cell_type": "code",
      "source": [
        "import pandas as pd\n",
        "import re\n",
        "import urllib\n",
        "import matplotlib.pyplot as plt\n",
        "import numpy as np\n"
      ],
      "metadata": {
        "id": "2Ku9nY2zF_i8"
      },
      "execution_count": 109,
      "outputs": []
    },
    {
      "cell_type": "code",
      "execution_count": 1,
      "metadata": {
        "id": "GZI427UMEiVa"
      },
      "outputs": [],
      "source": [
        "file_path:str = '/content/sample_coco.txt'"
      ]
    },
    {
      "cell_type": "code",
      "source": [
        "# looking a the file,it appeared more of text data rather than columnar data\n",
        "# df = pd.read_csv(file_path)\n",
        "# df.head()"
      ],
      "metadata": {
        "id": "kMMGT5MHHwuP"
      },
      "execution_count": null,
      "outputs": []
    },
    {
      "cell_type": "code",
      "source": [
        "def read_file_lines(file_path):\n",
        "  try:\n",
        "    file_obj = open(file_path,\"r\") # r = read\n",
        "    file_lines = file_obj.readlines()\n",
        "    file_obj.close()\n",
        "\n",
        "  except:\n",
        "    print(\"Not able to open file\")\n",
        "\n",
        "  return file_lines\n",
        "\n",
        "def find_between( s, first, last ):\n",
        "    try:\n",
        "        start = s.index( first ) + len( first )\n",
        "        end = s.index( last, start )\n",
        "        return s[start:end]\n",
        "    except ValueError:\n",
        "        return \"\""
      ],
      "metadata": {
        "id": "YdxmdOHtGf_d"
      },
      "execution_count": 21,
      "outputs": []
    },
    {
      "cell_type": "code",
      "source": [
        "# reading the file lines, each line is a string and file_line is a list of string\n",
        "file_lines = read_file_lines(file_path)\n",
        "file_lines[:10]"
      ],
      "metadata": {
        "colab": {
          "base_uri": "https://localhost:8080/"
        },
        "id": "AAIzY46GH95v",
        "outputId": "c24f5f59-c4b0-4ca4-b66e-89e1bbb5436b"
      },
      "execution_count": 11,
      "outputs": [
        {
          "output_type": "execute_result",
          "data": {
            "text/plain": [
              "['id: 0, height: 330, width: 1093, bbox:[69, 464, 312, 175],\\n',\n",
              " 'id: 1, height: 782, width: 439, bbox:[359, 292, 83, 199],\\n',\n",
              " 'id: 3, height: 645, width: 831, bbox:[297, 312, 267, 167],\\n',\n",
              " 'id: 34, height: 943, width: 608, bbox:[275, 112, 319, 290],\\n',\n",
              " 'id: 20, height: 593, width: 857, bbox:[71, 368, 146, 147],\\n',\n",
              " 'id: 61, height: 587, width: 745, bbox:[177, 463, 68, 302],\\n',\n",
              " 'id: 16, height: 430, width: 405, bbox:[78, 295, 54, 237],\\n',\n",
              " 'id: 41, height: 513, width: 1179, bbox:[105, 497, 379, 321],\\n',\n",
              " 'id: 75, height: 638, width: 842, bbox:[192, 142, 398, 248],\\n',\n",
              " 'id: 12, height: 746, width: 877, bbox:[345, 441, 370, 181],\\n']"
            ]
          },
          "metadata": {},
          "execution_count": 11
        }
      ]
    },
    {
      "cell_type": "code",
      "source": [
        "column_list = ['id','img_height','img_width','x_min','y_min','width','height']\n",
        "df = pd.DataFrame(columns=column_list)"
      ],
      "metadata": {
        "id": "5yDNluX7P4kO"
      },
      "execution_count": 42,
      "outputs": []
    },
    {
      "cell_type": "code",
      "source": [
        "# files lines are appended to a dataframe\n",
        "\n",
        "\n",
        "for line in file_lines:\n",
        "  # removing new line character at the end\n",
        "  # print(len(line))\n",
        "  # print(len(line.strip()))\n",
        "  if line[-1] == ',': # last row does not have comma\n",
        "    line = line[:-1]\n",
        "\n",
        "  try:\n",
        "    id_attribute = int(find_between(line,'id:',\",\"))\n",
        "    img_height_attribute = int(find_between(line,'height:',\",\"))\n",
        "    img_width_attribute = int(find_between(line,'width:',\",\"))\n",
        "    bbox_attribute = find_between(line,'[',\"]\")\n",
        "    x_min = int(float(bbox_attribute.split(\",\")[0]))\n",
        "    y_min = int(float(bbox_attribute.split(\",\")[1]))\n",
        "    width = int(float(bbox_attribute.split(\",\")[2]))\n",
        "    height = int(float(bbox_attribute.split(\",\")[-1]))\n",
        "  except ValueError:\n",
        "    print(line, bbox_attribute)\n",
        "\n",
        "  dict_attributes = {\n",
        "      \"id\":id_attribute,\n",
        "      \"img_height\":img_height_attribute,\n",
        "      \"img_width\":img_width_attribute,\n",
        "      \"x_min\":x_min,\n",
        "      \"y_min\":y_min,\n",
        "      \"width\":width,\n",
        "      \"height\":height\n",
        "  }\n",
        "\n",
        "  df = df.append(dict_attributes,ignore_index=True)\n",
        "  # print(id_attribute,img_height_attribute,img_width_attribute,bbox_attribute,x_min, y_min, width,height)\n",
        "  # print(dict_attributes)\n",
        "  # print(find_between(line,'id:',\",\"))\n",
        "  # print(find_between(line,'bbox:',\"]\"))\n",
        "  # print(list_attrib_values)"
      ],
      "metadata": {
        "id": "UkSpnl6jI0YK"
      },
      "execution_count": 48,
      "outputs": []
    },
    {
      "cell_type": "code",
      "source": [
        "# changing dtype\n",
        "df.astype('int64').dtypes\n",
        "print(df.head())"
      ],
      "metadata": {
        "colab": {
          "base_uri": "https://localhost:8080/"
        },
        "id": "abi65VjKPtgl",
        "outputId": "1e52484d-b70e-4f06-c248-0719139393f2"
      },
      "execution_count": 53,
      "outputs": [
        {
          "output_type": "execute_result",
          "data": {
            "text/plain": [
              "id            int64\n",
              "img_height    int64\n",
              "img_width     int64\n",
              "x_min         int64\n",
              "y_min         int64\n",
              "width         int64\n",
              "height        int64\n",
              "dtype: object"
            ]
          },
          "metadata": {},
          "execution_count": 53
        }
      ]
    },
    {
      "cell_type": "code",
      "source": [
        "# creating ratio\n",
        "df['width_ratio'] = (df['width']/df['img_width'])\n",
        "df['height_ratio'] = (df['height']/df['img_height'])\n",
        "df.head()"
      ],
      "metadata": {
        "colab": {
          "base_uri": "https://localhost:8080/",
          "height": 206
        },
        "id": "sR_-DWjLTklH",
        "outputId": "a5f9d30e-faac-4f0a-f2f2-32069f1cf2d2"
      },
      "execution_count": 57,
      "outputs": [
        {
          "output_type": "execute_result",
          "data": {
            "text/html": [
              "<div>\n",
              "<style scoped>\n",
              "    .dataframe tbody tr th:only-of-type {\n",
              "        vertical-align: middle;\n",
              "    }\n",
              "\n",
              "    .dataframe tbody tr th {\n",
              "        vertical-align: top;\n",
              "    }\n",
              "\n",
              "    .dataframe thead th {\n",
              "        text-align: right;\n",
              "    }\n",
              "</style>\n",
              "<table border=\"1\" class=\"dataframe\">\n",
              "  <thead>\n",
              "    <tr style=\"text-align: right;\">\n",
              "      <th></th>\n",
              "      <th>id</th>\n",
              "      <th>img_height</th>\n",
              "      <th>img_width</th>\n",
              "      <th>x_min</th>\n",
              "      <th>y_min</th>\n",
              "      <th>width</th>\n",
              "      <th>height</th>\n",
              "      <th>width_ratio</th>\n",
              "      <th>height_ratio</th>\n",
              "    </tr>\n",
              "  </thead>\n",
              "  <tbody>\n",
              "    <tr>\n",
              "      <th>0</th>\n",
              "      <td>0</td>\n",
              "      <td>330</td>\n",
              "      <td>1093</td>\n",
              "      <td>69</td>\n",
              "      <td>464</td>\n",
              "      <td>312</td>\n",
              "      <td>175</td>\n",
              "      <td>0.285453</td>\n",
              "      <td>0.530303</td>\n",
              "    </tr>\n",
              "    <tr>\n",
              "      <th>1</th>\n",
              "      <td>0</td>\n",
              "      <td>330</td>\n",
              "      <td>1093</td>\n",
              "      <td>69</td>\n",
              "      <td>464</td>\n",
              "      <td>312</td>\n",
              "      <td>175</td>\n",
              "      <td>0.285453</td>\n",
              "      <td>0.530303</td>\n",
              "    </tr>\n",
              "    <tr>\n",
              "      <th>2</th>\n",
              "      <td>1</td>\n",
              "      <td>782</td>\n",
              "      <td>439</td>\n",
              "      <td>359</td>\n",
              "      <td>292</td>\n",
              "      <td>83</td>\n",
              "      <td>199</td>\n",
              "      <td>0.189066</td>\n",
              "      <td>0.254476</td>\n",
              "    </tr>\n",
              "    <tr>\n",
              "      <th>3</th>\n",
              "      <td>3</td>\n",
              "      <td>645</td>\n",
              "      <td>831</td>\n",
              "      <td>297</td>\n",
              "      <td>312</td>\n",
              "      <td>267</td>\n",
              "      <td>167</td>\n",
              "      <td>0.3213</td>\n",
              "      <td>0.258915</td>\n",
              "    </tr>\n",
              "    <tr>\n",
              "      <th>4</th>\n",
              "      <td>34</td>\n",
              "      <td>943</td>\n",
              "      <td>608</td>\n",
              "      <td>275</td>\n",
              "      <td>112</td>\n",
              "      <td>319</td>\n",
              "      <td>290</td>\n",
              "      <td>0.524671</td>\n",
              "      <td>0.307529</td>\n",
              "    </tr>\n",
              "  </tbody>\n",
              "</table>\n",
              "</div>"
            ],
            "text/plain": [
              "   id img_height img_width x_min y_min width height width_ratio height_ratio\n",
              "0   0        330      1093    69   464   312    175    0.285453     0.530303\n",
              "1   0        330      1093    69   464   312    175    0.285453     0.530303\n",
              "2   1        782       439   359   292    83    199    0.189066     0.254476\n",
              "3   3        645       831   297   312   267    167      0.3213     0.258915\n",
              "4  34        943       608   275   112   319    290    0.524671     0.307529"
            ]
          },
          "metadata": {},
          "execution_count": 57
        }
      ]
    },
    {
      "cell_type": "code",
      "source": [
        "series_class_distribution = df['id'].value_counts()\n",
        "# df_class_distribution.head()\n",
        "df_class_distribution = series_class_distribution.to_frame()\n",
        "df_class_distribution.rename(columns = {'id':'count'},\n",
        "          inplace = True)\n",
        "df_class_distribution['id'] = df_class_distribution.index\n",
        "df_class_distribution"
      ],
      "metadata": {
        "colab": {
          "base_uri": "https://localhost:8080/",
          "height": 423
        },
        "id": "u5GxisqFUWzp",
        "outputId": "f1db2a57-5813-4d0f-d3aa-b8262f5ed665"
      },
      "execution_count": 87,
      "outputs": [
        {
          "output_type": "execute_result",
          "data": {
            "text/html": [
              "<div>\n",
              "<style scoped>\n",
              "    .dataframe tbody tr th:only-of-type {\n",
              "        vertical-align: middle;\n",
              "    }\n",
              "\n",
              "    .dataframe tbody tr th {\n",
              "        vertical-align: top;\n",
              "    }\n",
              "\n",
              "    .dataframe thead th {\n",
              "        text-align: right;\n",
              "    }\n",
              "</style>\n",
              "<table border=\"1\" class=\"dataframe\">\n",
              "  <thead>\n",
              "    <tr style=\"text-align: right;\">\n",
              "      <th></th>\n",
              "      <th>count</th>\n",
              "      <th>id</th>\n",
              "    </tr>\n",
              "  </thead>\n",
              "  <tbody>\n",
              "    <tr>\n",
              "      <th>44</th>\n",
              "      <td>765</td>\n",
              "      <td>44</td>\n",
              "    </tr>\n",
              "    <tr>\n",
              "      <th>75</th>\n",
              "      <td>735</td>\n",
              "      <td>75</td>\n",
              "    </tr>\n",
              "    <tr>\n",
              "      <th>28</th>\n",
              "      <td>725</td>\n",
              "      <td>28</td>\n",
              "    </tr>\n",
              "    <tr>\n",
              "      <th>67</th>\n",
              "      <td>725</td>\n",
              "      <td>67</td>\n",
              "    </tr>\n",
              "    <tr>\n",
              "      <th>2</th>\n",
              "      <td>710</td>\n",
              "      <td>2</td>\n",
              "    </tr>\n",
              "    <tr>\n",
              "      <th>...</th>\n",
              "      <td>...</td>\n",
              "      <td>...</td>\n",
              "    </tr>\n",
              "    <tr>\n",
              "      <th>60</th>\n",
              "      <td>530</td>\n",
              "      <td>60</td>\n",
              "    </tr>\n",
              "    <tr>\n",
              "      <th>53</th>\n",
              "      <td>525</td>\n",
              "      <td>53</td>\n",
              "    </tr>\n",
              "    <tr>\n",
              "      <th>52</th>\n",
              "      <td>510</td>\n",
              "      <td>52</td>\n",
              "    </tr>\n",
              "    <tr>\n",
              "      <th>9</th>\n",
              "      <td>510</td>\n",
              "      <td>9</td>\n",
              "    </tr>\n",
              "    <tr>\n",
              "      <th>10</th>\n",
              "      <td>510</td>\n",
              "      <td>10</td>\n",
              "    </tr>\n",
              "  </tbody>\n",
              "</table>\n",
              "<p>80 rows × 2 columns</p>\n",
              "</div>"
            ],
            "text/plain": [
              "    count  id\n",
              "44    765  44\n",
              "75    735  75\n",
              "28    725  28\n",
              "67    725  67\n",
              "2     710   2\n",
              "..    ...  ..\n",
              "60    530  60\n",
              "53    525  53\n",
              "52    510  52\n",
              "9     510   9\n",
              "10    510  10\n",
              "\n",
              "[80 rows x 2 columns]"
            ]
          },
          "metadata": {},
          "execution_count": 87
        }
      ]
    },
    {
      "cell_type": "code",
      "source": [
        "# COCO Labels found at 'https://github.com/amikelive/coco-labels/blob/master/coco-labels-2014_2017.txt'\n",
        "\n",
        "label_file_path:str = '/content/coco_labels.txt'\n",
        "# reading the file lines, each line is a string and label_file_path is a list of string\n",
        "labels = read_file_lines(label_file_path)\n",
        "column_list_label = ['id','img_label']\n",
        "df_label = pd.DataFrame(columns=column_list_label)\n",
        "for index, label in enumerate(labels):\n",
        "  label = label.strip()\n",
        "  if label[-1] == ',': # last row does not have comma\n",
        "    label = label[:-1]\n",
        "  df_label = df_label.append(pd.Series({'id':index,'img_label':label}),ignore_index=True)\n",
        "\n",
        "df_label"
      ],
      "metadata": {
        "colab": {
          "base_uri": "https://localhost:8080/",
          "height": 423
        },
        "id": "oj1k7C-KX4OL",
        "outputId": "0eb4fc92-629f-4ff4-ba39-d8036ef6e725"
      },
      "execution_count": 90,
      "outputs": [
        {
          "output_type": "execute_result",
          "data": {
            "text/html": [
              "<div>\n",
              "<style scoped>\n",
              "    .dataframe tbody tr th:only-of-type {\n",
              "        vertical-align: middle;\n",
              "    }\n",
              "\n",
              "    .dataframe tbody tr th {\n",
              "        vertical-align: top;\n",
              "    }\n",
              "\n",
              "    .dataframe thead th {\n",
              "        text-align: right;\n",
              "    }\n",
              "</style>\n",
              "<table border=\"1\" class=\"dataframe\">\n",
              "  <thead>\n",
              "    <tr style=\"text-align: right;\">\n",
              "      <th></th>\n",
              "      <th>id</th>\n",
              "      <th>img_label</th>\n",
              "    </tr>\n",
              "  </thead>\n",
              "  <tbody>\n",
              "    <tr>\n",
              "      <th>0</th>\n",
              "      <td>0</td>\n",
              "      <td>person</td>\n",
              "    </tr>\n",
              "    <tr>\n",
              "      <th>1</th>\n",
              "      <td>1</td>\n",
              "      <td>bicycle</td>\n",
              "    </tr>\n",
              "    <tr>\n",
              "      <th>2</th>\n",
              "      <td>2</td>\n",
              "      <td>car</td>\n",
              "    </tr>\n",
              "    <tr>\n",
              "      <th>3</th>\n",
              "      <td>3</td>\n",
              "      <td>motorcycle</td>\n",
              "    </tr>\n",
              "    <tr>\n",
              "      <th>4</th>\n",
              "      <td>4</td>\n",
              "      <td>airplane</td>\n",
              "    </tr>\n",
              "    <tr>\n",
              "      <th>...</th>\n",
              "      <td>...</td>\n",
              "      <td>...</td>\n",
              "    </tr>\n",
              "    <tr>\n",
              "      <th>75</th>\n",
              "      <td>75</td>\n",
              "      <td>vase</td>\n",
              "    </tr>\n",
              "    <tr>\n",
              "      <th>76</th>\n",
              "      <td>76</td>\n",
              "      <td>scissors</td>\n",
              "    </tr>\n",
              "    <tr>\n",
              "      <th>77</th>\n",
              "      <td>77</td>\n",
              "      <td>teddy bear</td>\n",
              "    </tr>\n",
              "    <tr>\n",
              "      <th>78</th>\n",
              "      <td>78</td>\n",
              "      <td>hair drier</td>\n",
              "    </tr>\n",
              "    <tr>\n",
              "      <th>79</th>\n",
              "      <td>79</td>\n",
              "      <td>toothbrush</td>\n",
              "    </tr>\n",
              "  </tbody>\n",
              "</table>\n",
              "<p>80 rows × 2 columns</p>\n",
              "</div>"
            ],
            "text/plain": [
              "    id   img_label\n",
              "0    0      person\n",
              "1    1     bicycle\n",
              "2    2         car\n",
              "3    3  motorcycle\n",
              "4    4    airplane\n",
              "..  ..         ...\n",
              "75  75        vase\n",
              "76  76    scissors\n",
              "77  77  teddy bear\n",
              "78  78  hair drier\n",
              "79  79  toothbrush\n",
              "\n",
              "[80 rows x 2 columns]"
            ]
          },
          "metadata": {},
          "execution_count": 90
        }
      ]
    },
    {
      "cell_type": "markdown",
      "source": [
        "## Plotting Class Distribution\n",
        "\n",
        "\n"
      ],
      "metadata": {
        "id": "4jrIpwkug0Rh"
      }
    },
    {
      "cell_type": "code",
      "source": [
        "# merging class distribution and labels based on label ids\n",
        "top_n = 15\n",
        "df_overall = pd.merge(df_class_distribution,df_label,on='id', how='outer')\n",
        "df_overall = df_overall.sort_values('count',ascending=False)\n",
        "df_overall\n",
        "ax = df_overall.head(top_n).plot.bar(x='img_label', y='count', rot=45,figsize = (10,5), title= \"Label distribution amongst images\",xlabel =\"labels\")"
      ],
      "metadata": {
        "colab": {
          "base_uri": "https://localhost:8080/",
          "height": 397
        },
        "id": "a8F6ISG5bNST",
        "outputId": "dec176ad-421b-412b-ce0b-ae53aef84be2"
      },
      "execution_count": 102,
      "outputs": [
        {
          "output_type": "display_data",
          "data": {
            "image/png": "[encoded data removed]",
            "text/plain": [
              "<Figure size 720x360 with 1 Axes>"
            ]
          },
          "metadata": {
            "needs_background": "light"
          }
        }
      ]
    },
    {
      "cell_type": "markdown",
      "source": [
        "## K Means Clustering\n",
        "### Scatter plot of bounding boxes  height and width"
      ],
      "metadata": {
        "id": "0ob1oRWYkPrB"
      }
    },
    {
      "cell_type": "code",
      "source": [
        "## bounding boxes with height and width \n",
        "bb_width_height_arr = df[[\"width_ratio\", \"height_ratio\"]].to_numpy()\n",
        "plt.scatter(bb_width_height_arr[:,0], bb_width_height_arr[:,1])\n",
        "\n",
        "plt.title(\"scatter plot of bounding box width, height\")\n",
        "plt.show()\n"
      ],
      "metadata": {
        "colab": {
          "base_uri": "https://localhost:8080/",
          "height": 281
        },
        "id": "4mKYEtY9kalK",
        "outputId": "c8304640-98ef-4436-f5df-9942768bc4b8"
      },
      "execution_count": 120,
      "outputs": [
        {
          "output_type": "display_data",
          "data": {
            "image/png": "[encoded data removed]",
            "text/plain": [
              "<Figure size 432x288 with 1 Axes>"
            ]
          },
          "metadata": {
            "needs_background": "light"
          }
        }
      ]
    },
    {
      "cell_type": "code",
      "source": [
        "## Log Log scatter plot\n",
        "plt.scatter(np.log(list(bb_width_height_arr[:, 0])), np.log(list(bb_width_height_arr[:, 1])))\n",
        "plt.title(\"Log Log scatter plot of bounding box width, height\")\n",
        "plt.show()"
      ],
      "metadata": {
        "colab": {
          "base_uri": "https://localhost:8080/",
          "height": 281
        },
        "id": "srb0H9pume0X",
        "outputId": "318c1f58-afd6-4e57-b6ed-67d4190f377c"
      },
      "execution_count": 121,
      "outputs": [
        {
          "output_type": "display_data",
          "data": {
            "image/png": "[encoded data removed]",
            "text/plain": [
              "<Figure size 432x288 with 1 Axes>"
            ]
          },
          "metadata": {
            "needs_background": "light"
          }
        }
      ]
    },
    {
      "cell_type": "markdown",
      "source": [
        "### Finding optimium value of K from Elbow method"
      ],
      "metadata": {
        "id": "ogpiC5NKq7pT"
      }
    },
    {
      "cell_type": "code",
      "source": [
        "#Elbow Method for K Means\n",
        "from sklearn.cluster import KMeans\n",
        "wcss = []\n",
        "for i in range(1, 11):\n",
        "    kmeans = KMeans(n_clusters=i, init='k-means++', max_iter=300, n_init=10, random_state=0)\n",
        "    kmeans.fit(bb_width_height_arr)\n",
        "    wcss.append(kmeans.inertia_)\n",
        "plt.plot(range(1, 11), wcss)\n",
        "plt.title('Elbow Method')\n",
        "plt.xlabel('Number of clusters')\n",
        "plt.ylabel('WCSS')\n",
        "plt.show()"
      ],
      "metadata": {
        "colab": {
          "base_uri": "https://localhost:8080/",
          "height": 295
        },
        "id": "uiI_SFVbolk-",
        "outputId": "b69fa874-341c-4f8e-fee9-6ebca927f858"
      },
      "execution_count": 122,
      "outputs": [
        {
          "output_type": "display_data",
          "data": {
            "image/png": "[encoded data removed]",
            "text/plain": [
              "<Figure size 432x288 with 1 Axes>"
            ]
          },
          "metadata": {
            "needs_background": "light"
          }
        }
      ]
    },
    {
      "cell_type": "code",
      "source": [
        "#Determine the optimal number of clusters\n",
        "kmeans = KMeans(n_clusters=5, init='k-means++', max_iter=300, n_init=10, random_state=0)\n",
        "pred_y = kmeans.fit_predict(bb_width_height_arr)\n",
        "plt.scatter(bb_width_height_arr[:,0], bb_width_height_arr[:,1])\n",
        "plt.scatter(kmeans.cluster_centers_[:, 0], kmeans.cluster_centers_[:, 1], s=100, c='red')\n",
        "plt.show()"
      ],
      "metadata": {
        "colab": {
          "base_uri": "https://localhost:8080/",
          "height": 265
        },
        "id": "IdgpsltMpEL-",
        "outputId": "553a5d58-2289-443a-c9b3-881be3d0b1a6"
      },
      "execution_count": 124,
      "outputs": [
        {
          "output_type": "display_data",
          "data": {
            "image/png": "[encoded data removed]",
            "text/plain": [
              "<Figure size 432x288 with 1 Axes>"
            ]
          },
          "metadata": {
            "needs_background": "light"
          }
        }
      ]
    },
    {
      "cell_type": "code",
      "source": [
        "from typing import List\n",
        "from matplotlib.patches import Rectangle\n",
        "from matplotlib.collections import PatchCollection\n",
        "def plot_anchor_boxes(num_of_clusters, centroids):\n",
        "    \n",
        "    xdata = np.array([0.5]*len(centroids))\n",
        "    ydata = np.array([0.5]*len(centroids))\n",
        "\n",
        "    xerror = np.array([list(np.exp(centroids[:, 0])/2)]*2)\n",
        "    yerror = np.array([list(np.exp(centroids[:, 1])/2)]*2)\n",
        "\n",
        "    errorboxes = []\n",
        "\n",
        "    for x, y, xe, ye in zip(xdata, ydata, xerror.T, yerror.T):\n",
        "        rect = Rectangle((x - xe[0], y - ye[0]), xe.sum(), ye.sum())\n",
        "        errorboxes.append(rect)\n",
        "\n",
        "    pc = PatchCollection(errorboxes, facecolor='None', alpha=1, edgecolor='b')\n",
        "    fig, ax = plt.subplots(1)\n",
        "\n",
        "    ax.add_collection(pc)\n",
        "    plt.title(f'Anchor Boxes for number of clusters = {num_of_clusters}')\n",
        "    artists = plt.errorbar(xdata, ydata, xerr=xerror, yerr=yerror, fmt='None', ecolor='None')"
      ],
      "metadata": {
        "id": "6yM4d9RhpsQh"
      },
      "execution_count": 126,
      "outputs": []
    },
    {
      "cell_type": "markdown",
      "source": [
        "### Finding anchor box sizes for K = 3,4,5,6"
      ],
      "metadata": {
        "id": "a13eFJQ3rCeC"
      }
    },
    {
      "cell_type": "code",
      "source": [
        "list_cluster_size = [3, 4, 5, 6]\n",
        "for cluster_size in list_cluster_size:\n",
        "  # cluster_size = 3\n",
        "  kmeans = KMeans(n_clusters=cluster_size, init='k-means++', max_iter=300, n_init=10, random_state=0)\n",
        "  pred_y = kmeans.fit_predict(bb_width_height_arr)\n",
        "  plot_anchor_boxes(cluster_size, kmeans.cluster_centers_)"
      ],
      "metadata": {
        "colab": {
          "base_uri": "https://localhost:8080/",
          "height": 1000
        },
        "id": "VMlk4-rSqAgn",
        "outputId": "2e8d38b9-0a5b-4f7b-f179-7750f273b9f3"
      },
      "execution_count": 128,
      "outputs": [
        {
          "output_type": "display_data",
          "data": {
            "image/png": "[encoded data removed]",
            "text/plain": [
              "<Figure size 432x288 with 1 Axes>"
            ]
          },
          "metadata": {
            "needs_background": "light"
          }
        },
        {
          "output_type": "display_data",
          "data": {
            "image/png": "[encoded data removed]",
            "text/plain": [
              "<Figure size 432x288 with 1 Axes>"
            ]
          },
          "metadata": {
            "needs_background": "light"
          }
        },
        {
          "output_type": "display_data",
          "data": {
            "image/png": "[encoded data removed]",
            "text/plain": [
              "<Figure size 432x288 with 1 Axes>"
            ]
          },
          "metadata": {
            "needs_background": "light"
          }
        },
        {
          "output_type": "display_data",
          "data": {
            "image/png": "[encoded data removed]",
            "text/plain": [
              "<Figure size 432x288 with 1 Axes>"
            ]
          },
          "metadata": {
            "needs_background": "light"
          }
        }
      ]
    }
  ]
}