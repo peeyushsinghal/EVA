{
  "nbformat": 4,
  "nbformat_minor": 0,
  "metadata": {
    "colab": {
      "name": "EVA_S6.ipynb",
      "provenance": [],
      "collapsed_sections": [],
      "authorship_tag": "ABX9TyN0ecOES1+buqCZJ+UcJfo3",
      "include_colab_link": true
    },
    "kernelspec": {
      "name": "python3",
      "display_name": "Python 3"
    },
    "language_info": {
      "name": "python"
    },
    "accelerator": "GPU"
  },
  "cells": [
    {
      "cell_type": "markdown",
      "metadata": {
        "id": "view-in-github",
        "colab_type": "text"
      },
      "source": [
        "<a href=\"https://colab.research.google.com/github/peeyushsinghal/EVA/blob/main/S6-AssignmentSolution/EVA_S6.ipynb\" target=\"_parent\"><img src=\"https://colab.research.google.com/assets/colab-badge.svg\" alt=\"Open In Colab\"/></a>"
      ]
    },
    {
      "cell_type": "markdown",
      "metadata": {
        "id": "P9zJUsfthCOd"
      },
      "source": [
        "### Importing Libraries"
      ]
    },
    {
      "cell_type": "code",
      "metadata": {
        "colab": {
          "base_uri": "https://localhost:8080/"
        },
        "id": "kI-gD7_Xg3qk",
        "outputId": "c485200e-a182-4e78-f3cf-03972bdafcc0"
      },
      "source": [
        "# import torch\n",
        "import torch\n",
        "from torchvision import datasets,transforms\n",
        "%matplotlib inline\n",
        "import matplotlib.pyplot as plt # for visualizing images\n",
        "import random # for random image index\n",
        "import torch.nn as nn # for network\n",
        "import torch.nn.functional as F # for forward method\n",
        "import torch.optim as optim # for optimizer\n",
        "!pip install torchsummary\n",
        "from torchsummary import summary # for model summary and params\n",
        "from tqdm import tqdm # for beautiful model training updates"
      ],
      "execution_count": 1,
      "outputs": [
        {
          "output_type": "stream",
          "name": "stdout",
          "text": [
            "Requirement already satisfied: torchsummary in /usr/local/lib/python3.7/dist-packages (1.5.1)\n"
          ]
        }
      ]
    },
    {
      "cell_type": "markdown",
      "metadata": {
        "id": "0INCUzGmhGNa"
      },
      "source": [
        "Seed and Cuda"
      ]
    },
    {
      "cell_type": "code",
      "metadata": {
        "colab": {
          "base_uri": "https://localhost:8080/"
        },
        "id": "7J3pr8HzhAWm",
        "outputId": "72faadb5-fc8b-43d9-fb70-64a57446b7af"
      },
      "source": [
        "# check for cuda\n",
        "cuda = torch.cuda.is_available()\n",
        "print (f' Cuda Status : {cuda}')\n",
        "\n",
        "# setting seed\n",
        "SEED = 42 # arbit seed, why 42 - because in hitch hikers guide to galaxy it is answer to everything\n",
        "# torch.cuda.seed(SEED) \n",
        "torch.cuda.manual_seed_all(SEED) if cuda else torch.manual_seed(SEED)"
      ],
      "execution_count": 2,
      "outputs": [
        {
          "output_type": "stream",
          "name": "stdout",
          "text": [
            " Cuda Status : True\n"
          ]
        }
      ]
    },
    {
      "cell_type": "markdown",
      "metadata": {
        "id": "44OF4A2Vim_K"
      },
      "source": [
        "### Downloading dataset, splitting datasets\n",
        "loading dataset"
      ]
    },
    {
      "cell_type": "code",
      "metadata": {
        "colab": {
          "base_uri": "https://localhost:8080/"
        },
        "id": "SzR4-_gpimYO",
        "outputId": "39baac76-8e2f-475f-ee7d-79dcba165a96"
      },
      "source": [
        "train = datasets.MNIST(\n",
        "    root = './',# directory where data needs to be stored\n",
        "    train = True, # get the training portion of the dataset\n",
        "    download = True, # downloads\n",
        "    transform = transforms.Compose([\n",
        "                  transforms.RandomRotation((-7.0, 7.0), fill=(1,)), #random rotation\n",
        "                  transforms.ToTensor(),# converts to tesnor\n",
        "                  transforms.Normalize((0.1307,), (0.3081,))# Normalize\n",
        "                ])\n",
        "    )\n",
        "\n",
        "test = datasets.MNIST(\n",
        "    root = './',# directory where data needs to be stored\n",
        "    train = False, # get the test portion of the dataset\n",
        "    download = True, # downloads\n",
        "    transform = transforms.Compose([\n",
        "                  transforms.ToTensor(),# converts to tesnor\n",
        "                  transforms.Normalize((0.1307,), (0.3081,))# Normalize\n",
        "                ])\n",
        "    )"
      ],
      "execution_count": 3,
      "outputs": [
        {
          "output_type": "stream",
          "name": "stderr",
          "text": [
            "/usr/local/lib/python3.7/dist-packages/torchvision/datasets/mnist.py:498: UserWarning: The given NumPy array is not writeable, and PyTorch does not support non-writeable tensors. This means you can write to the underlying (supposedly non-writeable) NumPy array using the tensor. You may want to copy the array to protect its data or make it writeable before converting it to a tensor. This type of warning will be suppressed for the rest of this program. (Triggered internally at  /pytorch/torch/csrc/utils/tensor_numpy.cpp:180.)\n",
            "  return torch.from_numpy(parsed.astype(m[2], copy=False)).view(*s)\n"
          ]
        }
      ]
    },
    {
      "cell_type": "markdown",
      "metadata": {
        "id": "xLuDGGQymAJI"
      },
      "source": [
        "Train and Test Dataloader"
      ]
    },
    {
      "cell_type": "code",
      "metadata": {
        "id": "NuFFPtkZl6J0",
        "colab": {
          "base_uri": "https://localhost:8080/"
        },
        "outputId": "cc3005b8-c5f0-4886-88f1-c7061c14aaf8"
      },
      "source": [
        "dataloader_args = dict(shuffle=True, batch_size=128, num_workers=4, pin_memory = True) if cuda else dict(shuffle=True, batch_size=64)\n",
        "\n",
        "train_loader = torch.utils.data.DataLoader(\n",
        "    dataset=train,# train dataset\n",
        "    **dataloader_args # the dataloader arguments change dependent on cuda is available or not\n",
        "    )\n",
        "\n",
        "test_loader = torch.utils.data.DataLoader(\n",
        "    dataset = test,# test dataset \n",
        "    **dataloader_args # the dataloader arguments change dependent on cuda is available or not\n",
        ")"
      ],
      "execution_count": 4,
      "outputs": [
        {
          "output_type": "stream",
          "name": "stderr",
          "text": [
            "/usr/local/lib/python3.7/dist-packages/torch/utils/data/dataloader.py:481: UserWarning: This DataLoader will create 4 worker processes in total. Our suggested max number of worker in current system is 2, which is smaller than what this DataLoader is going to create. Please be aware that excessive worker creation might get DataLoader running slow or even freeze, lower the worker number to avoid potential slowness/freeze if necessary.\n",
            "  cpuset_checked))\n"
          ]
        }
      ]
    },
    {
      "cell_type": "markdown",
      "metadata": {
        "id": "O2MxbyBRouUE"
      },
      "source": [
        "Checking Dataloaders\n",
        "- sample data"
      ]
    },
    {
      "cell_type": "code",
      "metadata": {
        "colab": {
          "base_uri": "https://localhost:8080/",
          "height": 371
        },
        "id": "ILUePRUDoz8i",
        "outputId": "f3eb67f9-042d-4b53-aafe-1a9f3012de4e"
      },
      "source": [
        "images, labels  = next(iter(train_loader))\n",
        "print(images.shape)\n",
        "print(labels.shape)\n",
        "# printing random image and seeing\n",
        "plt.imshow(images[random.randint(0,len(images))].numpy().squeeze(), cmap='gray_r')"
      ],
      "execution_count": 5,
      "outputs": [
        {
          "output_type": "stream",
          "name": "stderr",
          "text": [
            "/usr/local/lib/python3.7/dist-packages/torch/utils/data/dataloader.py:481: UserWarning: This DataLoader will create 4 worker processes in total. Our suggested max number of worker in current system is 2, which is smaller than what this DataLoader is going to create. Please be aware that excessive worker creation might get DataLoader running slow or even freeze, lower the worker number to avoid potential slowness/freeze if necessary.\n",
            "  cpuset_checked))\n"
          ]
        },
        {
          "output_type": "stream",
          "name": "stdout",
          "text": [
            "torch.Size([128, 1, 28, 28])\n",
            "torch.Size([128])\n"
          ]
        },
        {
          "output_type": "execute_result",
          "data": {
            "text/plain": [
              "<matplotlib.image.AxesImage at 0x7f893ec1fd90>"
            ]
          },
          "metadata": {},
          "execution_count": 5
        },
        {
          "output_type": "display_data",
          "data": {
            "image/png": "[encoded data removed]",
            "text/plain": [
              "<Figure size 432x288 with 1 Axes>"
            ]
          },
          "metadata": {
            "needs_background": "light"
          }
        }
      ]
    },
    {
      "cell_type": "code",
      "metadata": {
        "colab": {
          "base_uri": "https://localhost:8080/",
          "height": 243
        },
        "id": "-1Qj8PftiVDT",
        "outputId": "67e32de7-adb2-4ef9-bbce-44c791c00a35"
      },
      "source": [
        "# Looking at more images\n",
        "figure = plt.figure()\n",
        "for index in range(1, len(images) + 1): # assumption: batch size would be atleast 8\n",
        "    plt.subplot(8, int(len(images)/8), index)\n",
        "    plt.axis('off')\n",
        "    plt.imshow(images[index-1].numpy().squeeze(), cmap='gray_r')"
      ],
      "execution_count": 6,
      "outputs": [
        {
          "output_type": "display_data",
          "data": {
            "image/png": "[encoded data removed]",
            "text/plain": [
              "<Figure size 432x288 with 128 Axes>"
            ]
          },
          "metadata": {
            "needs_background": "light"
          }
        }
      ]
    },
    {
      "cell_type": "markdown",
      "metadata": {
        "id": "2Eh0KmZyoJy7"
      },
      "source": [
        "### Network"
      ]
    },
    {
      "cell_type": "code",
      "metadata": {
        "id": "-mCXT71boJY5",
        "colab": {
          "base_uri": "https://localhost:8080/"
        },
        "outputId": "a0899ef4-c64a-4f1e-c59a-5a8b7df6bea9"
      },
      "source": [
        "drop_out_value = 0.1\n",
        "\n",
        "class Network(nn.Module):\n",
        "  def __init__(self, mode = None):\n",
        "    super(Network,self).__init__() # extending super class method\n",
        "    self.mode = mode\n",
        "    print (\"mode :\", mode)\n",
        "\n",
        "    # Input Block\n",
        "    self.convblock1 = nn.Sequential(\n",
        "        nn.Conv2d(1,12,3), # In- 1x28x28, Out- 12x26x26, RF- 3x3, Jump_in -1, Jump_out -1\n",
        "        nn.ReLU(),\n",
        "        # nn.BatchNorm2d(12),\n",
        "        nn.Dropout(drop_out_value)\n",
        "    ) \n",
        "\n",
        "    if mode ==\"BN\":\n",
        "      self.norm1 = nn.BatchNorm2d(12) # BatchNorm\n",
        "    if mode == \"LN\":\n",
        "      self.norm1 = nn.LayerNorm([12,26,26]) # Layer Norm\n",
        "    if mode == \"GN\":\n",
        "      self.norm1 = nn.GroupNorm(2,12) # Group Norm\n",
        "\n",
        "\n",
        "    # Conv Block 2\n",
        "    self.convblock2 = nn.Sequential(\n",
        "        nn.Conv2d(12,12,3), # In- 12x26x26, Out- 12x24x24, RF- 5x5, Jump_in -1, Jump_out -1\n",
        "        nn.ReLU(),\n",
        "        # nn.BatchNorm2d(12),\n",
        "        nn.Dropout(drop_out_value)\n",
        "    ) \n",
        "\n",
        "    if mode ==\"BN\":\n",
        "      self.norm2 = nn.BatchNorm2d(12) # BatchNorm\n",
        "    if mode == \"LN\":\n",
        "      self.norm2 = nn.LayerNorm([12,24,24]) # Layer Norm\n",
        "    if mode == \"GN\":\n",
        "      self.norm2 = nn.GroupNorm(2,12) # Group Norm\n",
        "\n",
        "    # Conv Block 3\n",
        "    self.convblock3 = nn.Sequential(\n",
        "        nn.Conv2d(12,12,3), # In- 12x24x24, Out- 12x22x22, RF- 7x7, Jump_in -1, Jump_out -1\n",
        "        nn.ReLU(),\n",
        "        # nn.BatchNorm2d(12),\n",
        "        nn.Dropout(drop_out_value)\n",
        "    ) \n",
        "\n",
        "    if mode ==\"BN\":\n",
        "      self.norm3 = nn.BatchNorm2d(12) # BatchNorm\n",
        "    if mode == \"LN\":\n",
        "      self.norm3 = nn.LayerNorm([12,22,22]) # Layer Norm\n",
        "    if mode == \"GN\":\n",
        "      self.norm3 = nn.GroupNorm(2,12) # Group Norm\n",
        "\n",
        "    self.convblock3_1 = nn.Sequential(\n",
        "        nn.Conv2d(12,12,3), # In- 12x22x22, Out- 12x20x20, RF- 7x7, Jump_in -1, Jump_out -1\n",
        "        nn.ReLU(),\n",
        "        # nn.BatchNorm2d(12),\n",
        "        nn.Dropout(drop_out_value)\n",
        "    ) \n",
        "\n",
        "    if mode ==\"BN\":\n",
        "      self.norm3_1 = nn.BatchNorm2d(12) # BatchNorm\n",
        "    if mode == \"LN\":\n",
        "      self.norm3_1 = nn.LayerNorm([12,20,20]) # Layer Norm\n",
        "    if mode == \"GN\":\n",
        "      self.norm3_1 = nn.GroupNorm(2,12) # Group Norm\n",
        "\n",
        "    self.convblock3_2 = nn.Sequential(\n",
        "        nn.Conv2d(12,12,3), # In- 12x20x20, Out- 12x18x18, RF- 7x7, Jump_in -1, Jump_out -1\n",
        "        nn.ReLU(),\n",
        "        # nn.BatchNorm2d(12),\n",
        "        nn.Dropout(drop_out_value)\n",
        "    )\n",
        "\n",
        "    if mode ==\"BN\":\n",
        "      self.norm3_2 = nn.BatchNorm2d(12) # BatchNorm\n",
        "    if mode == \"LN\":\n",
        "      self.norm3_2 = nn.LayerNorm([12,18,18]) # Layer Norm\n",
        "    if mode == \"GN\":\n",
        "      self.norm3_2 = nn.GroupNorm(2,12) # Group Norm\n",
        "    \n",
        "\n",
        "    #### Transition Block 1 \n",
        "    self.pool1 = nn.MaxPool2d(kernel_size=2, stride=2) # In- 12x18x18 Out- 12x9x9 RF- 8x8, Jump_in -1, Jump_out -2\n",
        "\n",
        "\n",
        "    # Conv Block 5\n",
        "    self.convblock5 = nn.Sequential(\n",
        "        nn.Conv2d(12,16,3), # In- 12x9x9 Out- 16x7x7 RF- 12x12, Jump_in -2, Jump_out -2\n",
        "        nn.ReLU(),\n",
        "        # nn.BatchNorm2d(16),\n",
        "        nn.Dropout(drop_out_value)\n",
        "    ) \n",
        "\n",
        "    if mode ==\"BN\":\n",
        "      self.norm5 = nn.BatchNorm2d(16) # BatchNorm\n",
        "    if mode == \"LN\":\n",
        "      self.norm5 = nn.LayerNorm([16,7,7]) # Layer Norm\n",
        "    if mode == \"GN\":\n",
        "      self.norm5 = nn.GroupNorm(2,16) # Group Norm\n",
        "\n",
        "    # Conv Block 6\n",
        "    self.convblock6 = nn.Sequential(\n",
        "        nn.Conv2d(16,16,3), # In- 16x7x7 Out- 16x5x5 RF- 16x16, Jump_in -2, Jump_out -2\n",
        "        nn.ReLU(),\n",
        "        # nn.BatchNorm2d(16),\n",
        "        nn.Dropout(drop_out_value)\n",
        "    ) \n",
        "\n",
        "    if mode ==\"BN\":\n",
        "      self.norm6 = nn.BatchNorm2d(16) # BatchNorm\n",
        "    if mode == \"LN\":\n",
        "      self.norm6 = nn.LayerNorm([16,5,5]) # Layer Norm\n",
        "    if mode == \"GN\":\n",
        "      self.norm6 = nn.GroupNorm(2,16) # Group Norm\n",
        "\n",
        "    # Output Block\n",
        "    self.convblock7 = nn.Sequential(\n",
        "        nn.Conv2d(16,10,1), # In- 16x5x5 Out- 10x5x5, RF- 16x16, Jump_in -2, Jump_out -2\n",
        "        nn.ReLU(),\n",
        "        # nn.BatchNorm2d(10),\n",
        "        nn.Dropout(drop_out_value)\n",
        "    ) \n",
        "\n",
        "    if mode ==\"BN\":\n",
        "      self.norm7 = nn.BatchNorm2d(10) # BatchNorm\n",
        "    if mode == \"LN\":\n",
        "      self.norm7 = nn.LayerNorm([10,5,5]) # Layer Norm\n",
        "    if mode == \"GN\":\n",
        "      self.norm7 = nn.GroupNorm(2,10) # Group Norm\n",
        "\n",
        "    self.gap = nn.AvgPool2d(5) # In- 10x5x5, Out- 10x1x1, RF- 16x16, Jump_in -2, Jump_out -2\n",
        "\n",
        "  \n",
        "  def forward(self,x):\n",
        "\n",
        "    x = self.convblock1(x)\n",
        "    if mode: \n",
        "      x = self.norm1(x)\n",
        "    # elif mode == \"LN\":\n",
        "    #   x = nn.LayerNorm(x.size()[1:])(x)\n",
        "    #   print(\"LN\")\n",
        "    # else:\n",
        "    #   pass\n",
        "\n",
        "    x = self.convblock2(x)\n",
        "    if mode: \n",
        "      x = self.norm2(x)\n",
        "    # elif mode == \"LN\":\n",
        "    #   x = nn.LayerNorm(x.size()[1:])(x)\n",
        "    # else:\n",
        "    #   pass    \n",
        "\n",
        "    x = self.convblock3(x)\n",
        "    if mode: \n",
        "      x = self.norm3(x)\n",
        "    # elif mode == \"LN\":\n",
        "    #   x = nn.LayerNorm(x.size()[1:])(x)\n",
        "    # else:\n",
        "    #   pass\n",
        "\n",
        "    x = self.convblock3_1(x)\n",
        "    if mode: \n",
        "      x = self.norm3_1(x)\n",
        "    # elif mode == \"LN\":\n",
        "    #   x = nn.LayerNorm(x.size()[1:])(x)\n",
        "    # else:\n",
        "    #   pass\n",
        "\n",
        "    x = self.convblock3_2(x)\n",
        "    if mode: \n",
        "      x = self.norm3_2(x)\n",
        "    # elif mode == \"LN\":\n",
        "    #   x = nn.LayerNorm(x.size()[1:])(x)\n",
        "    # else:\n",
        "    #   pass\n",
        "\n",
        "    # x = self.convblock4(x)\n",
        "    x = self.pool1(x)\n",
        "    # x = self.convblock4(x)\n",
        "    x = self.convblock5(x)\n",
        "    if mode: \n",
        "      x = self.norm5(x)\n",
        "    # elif mode == \"LN\":\n",
        "    #   x = nn.LayerNorm(x.size()[1:])(x)\n",
        "    # else:\n",
        "    #   pass\n",
        "\n",
        "    x = self.convblock6(x)\n",
        "    if mode: \n",
        "      x = self.norm6(x)\n",
        "    # elif mode == \"LN\":\n",
        "    #   x = nn.LayerNorm(x.size()[1:])(x)\n",
        "    # else:\n",
        "    #   pass\n",
        "\n",
        "    x = self.convblock7(x)\n",
        "    if mode: \n",
        "      x = self.norm7(x)\n",
        "    # elif mode == \"LN\":\n",
        "    #   x = nn.LayerNorm(x.size()[1:])(x)\n",
        "    # else:\n",
        "    #   pass\n",
        "\n",
        "    x = self.gap(x)\n",
        "\n",
        "    # Flattening\n",
        "    x = x.view(-1,10)\n",
        "    return F.log_softmax(x,dim=-1)\n",
        "\n",
        "model = Network(mode=\"GN\")\n",
        "print(model)"
      ],
      "execution_count": 7,
      "outputs": [
        {
          "output_type": "stream",
          "name": "stdout",
          "text": [
            "mode : GN\n",
            "Network(\n",
            "  (convblock1): Sequential(\n",
            "    (0): Conv2d(1, 12, kernel_size=(3, 3), stride=(1, 1))\n",
            "    (1): ReLU()\n",
            "    (2): Dropout(p=0.1, inplace=False)\n",
            "  )\n",
            "  (norm1): GroupNorm(2, 12, eps=1e-05, affine=True)\n",
            "  (convblock2): Sequential(\n",
            "    (0): Conv2d(12, 12, kernel_size=(3, 3), stride=(1, 1))\n",
            "    (1): ReLU()\n",
            "    (2): Dropout(p=0.1, inplace=False)\n",
            "  )\n",
            "  (norm2): GroupNorm(2, 12, eps=1e-05, affine=True)\n",
            "  (convblock3): Sequential(\n",
            "    (0): Conv2d(12, 12, kernel_size=(3, 3), stride=(1, 1))\n",
            "    (1): ReLU()\n",
            "    (2): Dropout(p=0.1, inplace=False)\n",
            "  )\n",
            "  (norm3): GroupNorm(2, 12, eps=1e-05, affine=True)\n",
            "  (convblock3_1): Sequential(\n",
            "    (0): Conv2d(12, 12, kernel_size=(3, 3), stride=(1, 1))\n",
            "    (1): ReLU()\n",
            "    (2): Dropout(p=0.1, inplace=False)\n",
            "  )\n",
            "  (norm3_1): GroupNorm(2, 12, eps=1e-05, affine=True)\n",
            "  (convblock3_2): Sequential(\n",
            "    (0): Conv2d(12, 12, kernel_size=(3, 3), stride=(1, 1))\n",
            "    (1): ReLU()\n",
            "    (2): Dropout(p=0.1, inplace=False)\n",
            "  )\n",
            "  (norm3_2): GroupNorm(2, 12, eps=1e-05, affine=True)\n",
            "  (pool1): MaxPool2d(kernel_size=2, stride=2, padding=0, dilation=1, ceil_mode=False)\n",
            "  (convblock5): Sequential(\n",
            "    (0): Conv2d(12, 16, kernel_size=(3, 3), stride=(1, 1))\n",
            "    (1): ReLU()\n",
            "    (2): Dropout(p=0.1, inplace=False)\n",
            "  )\n",
            "  (norm5): GroupNorm(2, 16, eps=1e-05, affine=True)\n",
            "  (convblock6): Sequential(\n",
            "    (0): Conv2d(16, 16, kernel_size=(3, 3), stride=(1, 1))\n",
            "    (1): ReLU()\n",
            "    (2): Dropout(p=0.1, inplace=False)\n",
            "  )\n",
            "  (norm6): GroupNorm(2, 16, eps=1e-05, affine=True)\n",
            "  (convblock7): Sequential(\n",
            "    (0): Conv2d(16, 10, kernel_size=(1, 1), stride=(1, 1))\n",
            "    (1): ReLU()\n",
            "    (2): Dropout(p=0.1, inplace=False)\n",
            "  )\n",
            "  (norm7): GroupNorm(2, 10, eps=1e-05, affine=True)\n",
            "  (gap): AvgPool2d(kernel_size=5, stride=5, padding=0)\n",
            ")\n"
          ]
        }
      ]
    },
    {
      "cell_type": "markdown",
      "metadata": {
        "id": "4jXc4bV5zuSP"
      },
      "source": [
        "### Model Params\n",
        "  - Checking the model summary and number of parameters"
      ]
    },
    {
      "cell_type": "code",
      "metadata": {
        "colab": {
          "base_uri": "https://localhost:8080/"
        },
        "id": "Z7ozo1mBzstB",
        "outputId": "a20f16f1-8c91-454f-e6b2-7a36ea2b6d9a"
      },
      "source": [
        "device = torch.device(\"cuda\" if cuda else \"cpu\")\n",
        "print(device)\n",
        "# mode = 'BN'\n",
        "# mode = 'LN'\n",
        "mode ='GN'\n",
        "# lambda_l1 = 0.01 \n",
        "lambda_l1 = 0.001 \n",
        "\n",
        "# mode = None\n",
        "model = Network(mode=mode).to(device)\n",
        "# print(model)\n",
        "summary(model, input_size=(1, 28, 28))"
      ],
      "execution_count": 8,
      "outputs": [
        {
          "output_type": "stream",
          "name": "stdout",
          "text": [
            "cuda\n",
            "mode : GN\n",
            "----------------------------------------------------------------\n",
            "        Layer (type)               Output Shape         Param #\n",
            "================================================================\n",
            "            Conv2d-1           [-1, 12, 26, 26]             120\n",
            "              ReLU-2           [-1, 12, 26, 26]               0\n",
            "           Dropout-3           [-1, 12, 26, 26]               0\n",
            "         GroupNorm-4           [-1, 12, 26, 26]              24\n",
            "            Conv2d-5           [-1, 12, 24, 24]           1,308\n",
            "              ReLU-6           [-1, 12, 24, 24]               0\n",
            "           Dropout-7           [-1, 12, 24, 24]               0\n",
            "         GroupNorm-8           [-1, 12, 24, 24]              24\n",
            "            Conv2d-9           [-1, 12, 22, 22]           1,308\n",
            "             ReLU-10           [-1, 12, 22, 22]               0\n",
            "          Dropout-11           [-1, 12, 22, 22]               0\n",
            "        GroupNorm-12           [-1, 12, 22, 22]              24\n",
            "           Conv2d-13           [-1, 12, 20, 20]           1,308\n",
            "             ReLU-14           [-1, 12, 20, 20]               0\n",
            "          Dropout-15           [-1, 12, 20, 20]               0\n",
            "        GroupNorm-16           [-1, 12, 20, 20]              24\n",
            "           Conv2d-17           [-1, 12, 18, 18]           1,308\n",
            "             ReLU-18           [-1, 12, 18, 18]               0\n",
            "          Dropout-19           [-1, 12, 18, 18]               0\n",
            "        GroupNorm-20           [-1, 12, 18, 18]              24\n",
            "        MaxPool2d-21             [-1, 12, 9, 9]               0\n",
            "           Conv2d-22             [-1, 16, 7, 7]           1,744\n",
            "             ReLU-23             [-1, 16, 7, 7]               0\n",
            "          Dropout-24             [-1, 16, 7, 7]               0\n",
            "        GroupNorm-25             [-1, 16, 7, 7]              32\n",
            "           Conv2d-26             [-1, 16, 5, 5]           2,320\n",
            "             ReLU-27             [-1, 16, 5, 5]               0\n",
            "          Dropout-28             [-1, 16, 5, 5]               0\n",
            "        GroupNorm-29             [-1, 16, 5, 5]              32\n",
            "           Conv2d-30             [-1, 10, 5, 5]             170\n",
            "             ReLU-31             [-1, 10, 5, 5]               0\n",
            "          Dropout-32             [-1, 10, 5, 5]               0\n",
            "        GroupNorm-33             [-1, 10, 5, 5]              20\n",
            "        AvgPool2d-34             [-1, 10, 1, 1]               0\n",
            "================================================================\n",
            "Total params: 9,790\n",
            "Trainable params: 9,790\n",
            "Non-trainable params: 0\n",
            "----------------------------------------------------------------\n",
            "Input size (MB): 0.00\n",
            "Forward/backward pass size (MB): 0.95\n",
            "Params size (MB): 0.04\n",
            "Estimated Total Size (MB): 0.99\n",
            "----------------------------------------------------------------\n"
          ]
        },
        {
          "output_type": "stream",
          "name": "stderr",
          "text": [
            "/usr/local/lib/python3.7/dist-packages/torch/nn/functional.py:718: UserWarning: Named tensors and all their associated APIs are an experimental feature and subject to change. Please do not use them for anything important until they are released as stable. (Triggered internally at  /pytorch/c10/core/TensorImpl.h:1156.)\n",
            "  return torch.max_pool2d(input, kernel_size, stride, padding, dilation, ceil_mode)\n"
          ]
        }
      ]
    },
    {
      "cell_type": "markdown",
      "metadata": {
        "id": "YfLaULFf2TzM"
      },
      "source": [
        "### Training and Testing\n",
        "- includes test and train functions\n",
        "- includes loop function, where test can happen after each epoch is trained\n"
      ]
    },
    {
      "cell_type": "code",
      "metadata": {
        "id": "cJDX1iZS2TCl"
      },
      "source": [
        "# Training Function\n",
        "train_losses = [] # to capture train losses over training epochs\n",
        "train_accuracy = [] # to capture train accuracy over training epochs\n",
        "\n",
        "def train(model,device, train_loader,optimizer,epoch,regularization=None):\n",
        "  model.train() # setting the model in training \n",
        "  pbar = tqdm(train_loader) # putting the iterator in pbar\n",
        "  correct = 0 # for accuracy numerator\n",
        "  processed =0 # for accuracy denominator\n",
        "\n",
        "  for batch_idx, (images,labels) in enumerate(pbar):\n",
        "    images, labels = images.to(device),labels.to(device)#sending data to CPU or GPU as per device\n",
        "    optimizer.zero_grad() # setting gradients to zero to avoid accumulation\n",
        "\n",
        "    y_preds = model(images) # forward pass, result captured in y_preds (plural as there are many images in a batch)\n",
        "    # the predictions are in one hot vector\n",
        "\n",
        "    loss = F.nll_loss(y_preds,labels) # capturing loss\n",
        "    # l1 = 0\n",
        "    ########-------L1-Block- starts ----------\n",
        "    if (regularization == 'L1'):\n",
        "      l1=0\n",
        "      for p in model.parameters():\n",
        "        l1 = l1 + p.abs().sum()\n",
        "      loss = loss + lambda_l1 * l1\n",
        "    ########-------L1-Block- ends ----------\n",
        "\n",
        "    \n",
        "    train_losses.append(loss) # to capture loss over many epochs\n",
        "\n",
        "    loss.backward() # backpropagation\n",
        "    optimizer.step() # updating the params\n",
        "\n",
        "    preds = y_preds.argmax(dim=1, keepdim=True)  # get the index of the max log-probability\n",
        "    correct += preds.eq(labels.view_as(preds)).sum().item()\n",
        "    processed += len(images)\n",
        "\n",
        "    if (regularization == 'L1'):\n",
        "        pbar.set_description(desc= f'L1 Regularization : Loss={loss.item()} Batch_id={batch_idx} Accuracy={100*correct/processed:0.2f}')\n",
        "    else:\n",
        "        pbar.set_description(desc= f'Loss={loss.item()} Batch_id={batch_idx} Accuracy={100*correct/processed:0.2f}')\n",
        "\n",
        "\n",
        "    train_accuracy.append(100*correct/processed)\n"
      ],
      "execution_count": 9,
      "outputs": []
    },
    {
      "cell_type": "code",
      "metadata": {
        "id": "_N0GNPIABiUq"
      },
      "source": [
        "# Test Function\n",
        "test_losses = [] # to capture test losses \n",
        "test_accuracy = [] # to capture test accuracy \n",
        "\n",
        "def test(model,device, test_loader):\n",
        "  model.eval() # setting the model in evaluation mode\n",
        "  test_loss = 0\n",
        "  correct = 0 # for accuracy numerator\n",
        "\n",
        "  with torch.no_grad():\n",
        "    for (images,labels) in test_loader:\n",
        "      images, labels = images.to(device),labels.to(device)#sending data to CPU or GPU as per device\n",
        "      outputs = model(images) # forward pass, result captured in outputs (plural as there are many images in a batch)\n",
        "      # the outputs are in batch size x one hot vector \n",
        "\n",
        "      test_loss = F.nll_loss(outputs,labels, reduction='sum').item()  # sum up batch loss\n",
        "      preds = outputs.argmax(dim=1, keepdim=True)  # get the index of the max log-probability\n",
        "      correct += preds.eq(labels.view_as(preds)).sum().item()\n",
        "\n",
        "    test_loss /= len(test_loader.dataset) # average test loss\n",
        "    test_losses.append(test_loss) # to capture loss over many batches\n",
        "\n",
        "    print('\\nTest set: Average loss: {:.4f}, Accuracy: {}/{} ({:.2f}%)\\n'.format(\n",
        "    test_loss, correct, len(test_loader.dataset),\n",
        "    100. * correct / len(test_loader.dataset)))\n",
        "\n",
        "    test_accuracy.append(100*correct/len(test_loader.dataset))\n"
      ],
      "execution_count": 10,
      "outputs": []
    },
    {
      "cell_type": "code",
      "metadata": {
        "colab": {
          "base_uri": "https://localhost:8080/",
          "height": 1000
        },
        "id": "nzgGQO3lAY2t",
        "outputId": "414da274-adb2-4256-ec78-3a16cdc94bd8"
      },
      "source": [
        "from torch.optim.lr_scheduler import StepLR\n",
        "# list_mode =['BN']\n",
        "# list_mode = ['BN','LN']\n",
        "list_mode = ['BN','LN','GN']\n",
        "models=[None]*len(list_mode)\n",
        "EPOCHS = 2\n",
        "# EPOCHS = 25\n",
        "\n",
        "fig, axs = plt.subplots(1,2,figsize=(15,10))\n",
        "\n",
        "for idx,mode in enumerate(list_mode):\n",
        "  models[idx]=Network(mode=mode).to(device)\n",
        "  optimizer = optim.SGD(model.parameters(), lr=0.01, momentum=0.9)\n",
        "  scheduler = StepLR(optimizer, step_size=7, gamma=0.1)\n",
        "  \n",
        "  if mode == 'BN':\n",
        "    regularization='L1'\n",
        "  else:\n",
        "    regularization=None\n",
        "  \n",
        "  train_losses = [] # to capture train losses over training epochs\n",
        "  train_accuracy = [] # to capture train accuracy over training epochs\n",
        "  test_losses = [] # to capture test losses \n",
        "  test_accuracy = [] # to capture test accuracy \n",
        "  summary(models[idx], input_size=(1, 28, 28))\n",
        "\n",
        "  print(f'------Normalization = {mode} , Regularization = {regularization}------')\n",
        "  for epoch in range(EPOCHS):\n",
        "    print(\"EPOCH:\", epoch)\n",
        "    train(models[idx], device, train_loader, optimizer, epoch, regularization=regularization)\n",
        "    test(models[idx], device, test_loader)\n",
        "  # for idx,mode in enumerate(list_mode):\n",
        "  axs[0].plot(train_losses,label = str(mode)+ \" Train Loss\")\n",
        "  axs[0].plot(test_losses,label = str(mode)+' Test loss')\n",
        "  axs[0].set_title(\"Loss\")\n",
        "  axs[0].legend()\n",
        "  axs[1].plot(train_accuracy,label = str(mode)+ \" Train Accuracy\")\n",
        "  axs[1].plot(test_accuracy,label = str(mode)+ ' Test Accuracy')\n",
        "  axs[1].set_title(\"Accuracy\")\n",
        "  axs[1].legend()\n",
        "\n",
        "  # train_accuracy[idx] = train_accuracy\n",
        "  # train_losses[idx] = train_losses\n",
        "  # test_accuracy[idx] = test_accuracy\n",
        "  # test_losses[idx] = test_losses\n",
        "    \n",
        "\n",
        "\n",
        "\n"
      ],
      "execution_count": 11,
      "outputs": [
        {
          "output_type": "stream",
          "name": "stdout",
          "text": [
            "mode : BN\n",
            "----------------------------------------------------------------\n",
            "        Layer (type)               Output Shape         Param #\n",
            "================================================================\n",
            "            Conv2d-1           [-1, 12, 26, 26]             120\n",
            "              ReLU-2           [-1, 12, 26, 26]               0\n",
            "           Dropout-3           [-1, 12, 26, 26]               0\n",
            "       BatchNorm2d-4           [-1, 12, 26, 26]              24\n",
            "            Conv2d-5           [-1, 12, 24, 24]           1,308\n",
            "              ReLU-6           [-1, 12, 24, 24]               0\n",
            "           Dropout-7           [-1, 12, 24, 24]               0\n",
            "       BatchNorm2d-8           [-1, 12, 24, 24]              24\n",
            "            Conv2d-9           [-1, 12, 22, 22]           1,308\n",
            "             ReLU-10           [-1, 12, 22, 22]               0\n",
            "          Dropout-11           [-1, 12, 22, 22]               0\n",
            "      BatchNorm2d-12           [-1, 12, 22, 22]              24\n",
            "           Conv2d-13           [-1, 12, 20, 20]           1,308\n",
            "             ReLU-14           [-1, 12, 20, 20]               0\n",
            "          Dropout-15           [-1, 12, 20, 20]               0\n",
            "      BatchNorm2d-16           [-1, 12, 20, 20]              24\n",
            "           Conv2d-17           [-1, 12, 18, 18]           1,308\n",
            "             ReLU-18           [-1, 12, 18, 18]               0\n",
            "          Dropout-19           [-1, 12, 18, 18]               0\n",
            "      BatchNorm2d-20           [-1, 12, 18, 18]              24\n",
            "        MaxPool2d-21             [-1, 12, 9, 9]               0\n",
            "           Conv2d-22             [-1, 16, 7, 7]           1,744\n",
            "             ReLU-23             [-1, 16, 7, 7]               0\n",
            "          Dropout-24             [-1, 16, 7, 7]               0\n",
            "      BatchNorm2d-25             [-1, 16, 7, 7]              32\n",
            "           Conv2d-26             [-1, 16, 5, 5]           2,320\n",
            "             ReLU-27             [-1, 16, 5, 5]               0\n",
            "          Dropout-28             [-1, 16, 5, 5]               0\n",
            "      BatchNorm2d-29             [-1, 16, 5, 5]              32\n",
            "           Conv2d-30             [-1, 10, 5, 5]             170\n",
            "             ReLU-31             [-1, 10, 5, 5]               0\n",
            "          Dropout-32             [-1, 10, 5, 5]               0\n",
            "      BatchNorm2d-33             [-1, 10, 5, 5]              20\n",
            "        AvgPool2d-34             [-1, 10, 1, 1]               0\n",
            "================================================================\n",
            "Total params: 9,790\n",
            "Trainable params: 9,790\n",
            "Non-trainable params: 0\n",
            "----------------------------------------------------------------\n",
            "Input size (MB): 0.00\n",
            "Forward/backward pass size (MB): 0.95\n",
            "Params size (MB): 0.04\n",
            "Estimated Total Size (MB): 0.99\n",
            "----------------------------------------------------------------\n",
            "------Normalization = BN , Regularization = L1------\n",
            "EPOCH: 0\n"
          ]
        },
        {
          "output_type": "stream",
          "name": "stderr",
          "text": [
            "\r  0%|          | 0/469 [00:00<?, ?it/s]/usr/local/lib/python3.7/dist-packages/torch/utils/data/dataloader.py:481: UserWarning: This DataLoader will create 4 worker processes in total. Our suggested max number of worker in current system is 2, which is smaller than what this DataLoader is going to create. Please be aware that excessive worker creation might get DataLoader running slow or even freeze, lower the worker number to avoid potential slowness/freeze if necessary.\n",
            "  cpuset_checked))\n",
            "L1 Regularization : Loss=2.928463935852051 Batch_id=468 Accuracy=8.94: 100%|██████████| 469/469 [00:30<00:00, 15.48it/s]\n"
          ]
        },
        {
          "output_type": "stream",
          "name": "stdout",
          "text": [
            "\n",
            "Test set: Average loss: 0.0036, Accuracy: 875/10000 (8.75%)\n",
            "\n",
            "EPOCH: 1\n"
          ]
        },
        {
          "output_type": "stream",
          "name": "stderr",
          "text": [
            "L1 Regularization : Loss=2.915304660797119 Batch_id=468 Accuracy=8.76: 100%|██████████| 469/469 [00:30<00:00, 15.59it/s]\n"
          ]
        },
        {
          "output_type": "stream",
          "name": "stdout",
          "text": [
            "\n",
            "Test set: Average loss: 0.0037, Accuracy: 880/10000 (8.80%)\n",
            "\n",
            "mode : LN\n",
            "----------------------------------------------------------------\n",
            "        Layer (type)               Output Shape         Param #\n",
            "================================================================\n",
            "            Conv2d-1           [-1, 12, 26, 26]             120\n",
            "              ReLU-2           [-1, 12, 26, 26]               0\n",
            "           Dropout-3           [-1, 12, 26, 26]               0\n",
            "         LayerNorm-4           [-1, 12, 26, 26]          16,224\n",
            "            Conv2d-5           [-1, 12, 24, 24]           1,308\n",
            "              ReLU-6           [-1, 12, 24, 24]               0\n",
            "           Dropout-7           [-1, 12, 24, 24]               0\n",
            "         LayerNorm-8           [-1, 12, 24, 24]          13,824\n",
            "            Conv2d-9           [-1, 12, 22, 22]           1,308\n",
            "             ReLU-10           [-1, 12, 22, 22]               0\n",
            "          Dropout-11           [-1, 12, 22, 22]               0\n",
            "        LayerNorm-12           [-1, 12, 22, 22]          11,616\n",
            "           Conv2d-13           [-1, 12, 20, 20]           1,308\n",
            "             ReLU-14           [-1, 12, 20, 20]               0\n",
            "          Dropout-15           [-1, 12, 20, 20]               0\n",
            "        LayerNorm-16           [-1, 12, 20, 20]           9,600\n",
            "           Conv2d-17           [-1, 12, 18, 18]           1,308\n",
            "             ReLU-18           [-1, 12, 18, 18]               0\n",
            "          Dropout-19           [-1, 12, 18, 18]               0\n",
            "        LayerNorm-20           [-1, 12, 18, 18]           7,776\n",
            "        MaxPool2d-21             [-1, 12, 9, 9]               0\n",
            "           Conv2d-22             [-1, 16, 7, 7]           1,744\n",
            "             ReLU-23             [-1, 16, 7, 7]               0\n",
            "          Dropout-24             [-1, 16, 7, 7]               0\n",
            "        LayerNorm-25             [-1, 16, 7, 7]           1,568\n",
            "           Conv2d-26             [-1, 16, 5, 5]           2,320\n",
            "             ReLU-27             [-1, 16, 5, 5]               0\n",
            "          Dropout-28             [-1, 16, 5, 5]               0\n",
            "        LayerNorm-29             [-1, 16, 5, 5]             800\n",
            "           Conv2d-30             [-1, 10, 5, 5]             170\n",
            "             ReLU-31             [-1, 10, 5, 5]               0\n",
            "          Dropout-32             [-1, 10, 5, 5]               0\n",
            "        LayerNorm-33             [-1, 10, 5, 5]             500\n",
            "        AvgPool2d-34             [-1, 10, 1, 1]               0\n",
            "================================================================\n",
            "Total params: 71,494\n",
            "Trainable params: 71,494\n",
            "Non-trainable params: 0\n",
            "----------------------------------------------------------------\n",
            "Input size (MB): 0.00\n",
            "Forward/backward pass size (MB): 0.95\n",
            "Params size (MB): 0.27\n",
            "Estimated Total Size (MB): 1.23\n",
            "----------------------------------------------------------------\n",
            "------Normalization = LN , Regularization = None------\n",
            "EPOCH: 0\n"
          ]
        },
        {
          "output_type": "stream",
          "name": "stderr",
          "text": [
            "Loss=2.433453321456909 Batch_id=468 Accuracy=11.63: 100%|██████████| 469/469 [00:26<00:00, 17.58it/s]\n"
          ]
        },
        {
          "output_type": "stream",
          "name": "stdout",
          "text": [
            "\n",
            "Test set: Average loss: 0.0040, Accuracy: 1465/10000 (14.65%)\n",
            "\n",
            "EPOCH: 1\n"
          ]
        },
        {
          "output_type": "stream",
          "name": "stderr",
          "text": [
            "Loss=2.330487012863159 Batch_id=468 Accuracy=11.70: 100%|██████████| 469/469 [00:26<00:00, 17.47it/s]\n"
          ]
        },
        {
          "output_type": "stream",
          "name": "stdout",
          "text": [
            "\n",
            "Test set: Average loss: 0.0036, Accuracy: 1465/10000 (14.65%)\n",
            "\n",
            "mode : GN\n",
            "----------------------------------------------------------------\n",
            "        Layer (type)               Output Shape         Param #\n",
            "================================================================\n",
            "            Conv2d-1           [-1, 12, 26, 26]             120\n",
            "              ReLU-2           [-1, 12, 26, 26]               0\n",
            "           Dropout-3           [-1, 12, 26, 26]               0\n",
            "         GroupNorm-4           [-1, 12, 26, 26]              24\n",
            "            Conv2d-5           [-1, 12, 24, 24]           1,308\n",
            "              ReLU-6           [-1, 12, 24, 24]               0\n",
            "           Dropout-7           [-1, 12, 24, 24]               0\n",
            "         GroupNorm-8           [-1, 12, 24, 24]              24\n",
            "            Conv2d-9           [-1, 12, 22, 22]           1,308\n",
            "             ReLU-10           [-1, 12, 22, 22]               0\n",
            "          Dropout-11           [-1, 12, 22, 22]               0\n",
            "        GroupNorm-12           [-1, 12, 22, 22]              24\n",
            "           Conv2d-13           [-1, 12, 20, 20]           1,308\n",
            "             ReLU-14           [-1, 12, 20, 20]               0\n",
            "          Dropout-15           [-1, 12, 20, 20]               0\n",
            "        GroupNorm-16           [-1, 12, 20, 20]              24\n",
            "           Conv2d-17           [-1, 12, 18, 18]           1,308\n",
            "             ReLU-18           [-1, 12, 18, 18]               0\n",
            "          Dropout-19           [-1, 12, 18, 18]               0\n",
            "        GroupNorm-20           [-1, 12, 18, 18]              24\n",
            "        MaxPool2d-21             [-1, 12, 9, 9]               0\n",
            "           Conv2d-22             [-1, 16, 7, 7]           1,744\n",
            "             ReLU-23             [-1, 16, 7, 7]               0\n",
            "          Dropout-24             [-1, 16, 7, 7]               0\n",
            "        GroupNorm-25             [-1, 16, 7, 7]              32\n",
            "           Conv2d-26             [-1, 16, 5, 5]           2,320\n",
            "             ReLU-27             [-1, 16, 5, 5]               0\n",
            "          Dropout-28             [-1, 16, 5, 5]               0\n",
            "        GroupNorm-29             [-1, 16, 5, 5]              32\n",
            "           Conv2d-30             [-1, 10, 5, 5]             170\n",
            "             ReLU-31             [-1, 10, 5, 5]               0\n",
            "          Dropout-32             [-1, 10, 5, 5]               0\n",
            "        GroupNorm-33             [-1, 10, 5, 5]              20\n",
            "        AvgPool2d-34             [-1, 10, 1, 1]               0\n",
            "================================================================\n",
            "Total params: 9,790\n",
            "Trainable params: 9,790\n",
            "Non-trainable params: 0\n",
            "----------------------------------------------------------------\n",
            "Input size (MB): 0.00\n",
            "Forward/backward pass size (MB): 0.95\n",
            "Params size (MB): 0.04\n",
            "Estimated Total Size (MB): 0.99\n",
            "----------------------------------------------------------------\n",
            "------Normalization = GN , Regularization = None------\n",
            "EPOCH: 0\n"
          ]
        },
        {
          "output_type": "stream",
          "name": "stderr",
          "text": [
            "Loss=2.4441277980804443 Batch_id=468 Accuracy=11.03: 100%|██████████| 469/469 [00:27<00:00, 17.07it/s]\n"
          ]
        },
        {
          "output_type": "stream",
          "name": "stdout",
          "text": [
            "\n",
            "Test set: Average loss: 0.0040, Accuracy: 1512/10000 (15.12%)\n",
            "\n",
            "EPOCH: 1\n"
          ]
        },
        {
          "output_type": "stream",
          "name": "stderr",
          "text": [
            "Loss=2.2902424335479736 Batch_id=468 Accuracy=11.03: 100%|██████████| 469/469 [00:27<00:00, 17.10it/s]\n"
          ]
        },
        {
          "output_type": "stream",
          "name": "stdout",
          "text": [
            "\n",
            "Test set: Average loss: 0.0039, Accuracy: 1512/10000 (15.12%)\n",
            "\n"
          ]
        },
        {
          "output_type": "display_data",
          "data": {
            "image/png": "[encoded data removed]",
            "text/plain": [
              "<Figure size 1080x720 with 2 Axes>"
            ]
          },
          "metadata": {
            "needs_background": "light"
          }
        }
      ]
    },
    {
      "cell_type": "code",
      "metadata": {
        "id": "o33m3xuTZEOf"
      },
      "source": [
        "# model = Network(mode=mode).to(device)\n",
        "# optimizer = optim.SGD(model.parameters(), lr=0.01, momentum=0.9)\n",
        "\n",
        "\n",
        "# scheduler = StepLR(optimizer, step_size=7, gamma=0.1)\n",
        "\n",
        "# EPOCHS = 2\n",
        "# # EPOCHS = 25\n",
        "# for epoch in range(EPOCHS):\n",
        "#     print(\"EPOCH:\", epoch)\n",
        "#     # train(model, device, train_loader, optimizer, epoch, mode = 'BN', regularization='L1') # BN with L1 Regularlization\n",
        "#     train(model, device, train_loader, optimizer, epoch, mode = 'LN', regularization=None) # LN without any Regularlization\n",
        "\n",
        "#     # train(model, device, train_loader, optimizer, epoch) # without any normalization and any regularization\n",
        "#     test(model, device, test_loader)"
      ],
      "execution_count": 12,
      "outputs": []
    },
    {
      "cell_type": "code",
      "metadata": {
        "id": "_2ntHiknO_nE"
      },
      "source": [
        "# # Graphs\n",
        "# fig, axs = plt.subplots(2,2,figsize=(15,10))\n",
        "# axs[0, 0].plot(train_losses)\n",
        "# axs[0, 0].set_title(\"Training Loss\")\n",
        "# axs[1, 0].plot(train_accuracy)\n",
        "# axs[1, 0].set_title(\"Training Accuracy\")\n",
        "# axs[0, 1].plot(test_losses)\n",
        "# axs[0, 1].set_title(\"Test Loss\")\n",
        "# axs[1, 1].plot(test_accuracy)\n",
        "# axs[1, 1].set_title(\"Test Accuracy\")"
      ],
      "execution_count": 13,
      "outputs": []
    },
    {
      "cell_type": "code",
      "metadata": {
        "id": "7EEkhKBHbOV8"
      },
      "source": [
        "# # Loss and Accuracy Graphs for Train and Test\n",
        "\n",
        "# fig, axs = plt.subplots(1,2,figsize=(15,10))\n",
        "# for idx,mode in enumerate(list_mode):\n",
        "#   axs[0].plot(train_losses[idx].cpu(),label = str(mode)+ \"Train Loss\")\n",
        "#   axs[0].plot(test_losses[idx].cpu(),label = str(mode)+'Test loss')\n",
        "#   axs[0].set_title(\"Loss\")\n",
        "#   axs[0].legend()\n",
        "#   axs[1].plot(train_accuracy[idx].cpu(),label = str(mode)+ \"Train Accuracy\")\n",
        "#   axs[1].plot(test_accuracy[idx].cpu(),label = str(mode)+ 'Test Accuracy')\n",
        "#   axs[1].set_title(\"Accuracy\")\n",
        "#   axs[1].legend()\n",
        "#   # plt.show()"
      ],
      "execution_count": 14,
      "outputs": []
    },
    {
      "cell_type": "code",
      "metadata": {
        "id": "3O6UgcFtLeip"
      },
      "source": [
        "# # Loss and Accuracy Graphs for Train and Test\n",
        "\n",
        "# for idx,mode in enumerate(list_mode):\n",
        "#   fig, axs = plt.subplots(1,2,figsize=(15,10))\n",
        "#   axs[0].plot(train_losses,label = 'BN+L1 Train loss')\n",
        "#   axs[0].plot(test_losses,label = 'BN+L1 Test loss')\n",
        "#   axs[0].set_title(\"Loss\")\n",
        "#   axs[0].legend()\n",
        "#   axs[1].plot(train_accuracy,label = 'BN+L1 Train Accuracy')\n",
        "#   axs[1].plot(test_accuracy,label = 'BN+L1 Test Accuracy')\n",
        "#   axs[1].set_title(\"Accuracy\")\n",
        "#   axs[1].legend()\n",
        "#   # plt.show()"
      ],
      "execution_count": 15,
      "outputs": []
    },
    {
      "cell_type": "markdown",
      "metadata": {
        "id": "1GvTA_0VJH6e"
      },
      "source": [
        "### Conclusion\n",
        "Experiment Number\t: 4\n",
        "\n",
        "Objective / Target\t\n",
        "1. increase accuracy by increasing number of params\n",
        "2. include augmentation\n",
        "3. step learning rate\n",
        "\n",
        "\n",
        "Results\t\n",
        "- Parameters: 9,590\n",
        "- Best Train Accuracy: 98.72%\n",
        "- Best Test Accuracy: 99.29%\n",
        "\n",
        "Analysis\t\n",
        "1. Not hitting the accuracy mark\n",
        "2. Overfitting (train - test accuracy) < 0 is largely containted\n",
        "3. Number of params < 10K\n",
        "\n",
        "Next Steps\t\n",
        "- Look to increase accuracy "
      ]
    }
  ]
}